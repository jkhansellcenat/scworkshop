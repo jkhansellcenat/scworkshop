{
  "cells": [
    {
      "attachments": {},
      "cell_type": "markdown",
      "metadata": {
        "id": "IkUKwKwjqlJE"
      },
      "source": [
        "# Práctica final 2: Pandas\n",
        "\n",
        "## <font color='purple'>**Ejercicio 1**</font>\n",
        "\n",
        "En el archivo [estadisticasPaises.xlsx](estadisticasPaises.xlsx) usted encontrará dos hojas. La hoja **HDI** contiene los datos, mientras que la hoja **Variables** contiene el significado de cada columna. Con los datos, realice lo que se le solicita.\n",
        "\n",
        "### Pretratamiento\n",
        "\n",
        "* Consulte la documentación de Pandas ([aquí](https://pandas.pydata.org/docs/user_guide/index.html#user-guide)) por una función que le permita leer un archivo de Excel y guardar los datos en un DataFrame. Utilice un parámetro de esta función para leer solamente la hoja HDI.\n",
        "* Elimine una de las entradas repetidas de Armenia.\n",
        "* Rellene los datos faltantes de las columnas que contienen datos de población y de vacunación de niños con 0.\n",
        "\n",
        "### Análisis\n",
        "\n",
        "De acuerdo a la información que tiene, determine o aproxime lo siguiente usando operaciones y funciones de Pandas:\n",
        "\n",
        "* El país que en promedio creció menos en población entre 2010 y 2015.\n",
        "* La población mundial en 2015.\n",
        "* El país con mayor porcentaje de adultos mayores en 2015.\n",
        "* El país que presenta la mayor diferencia entre los años de estudio de una mujer y los de un hombre.\n",
        "* Los 5 países con menor cantidad de niños de un año vacunados contra difteria del mundo.\n",
        "* Un histograma del índice de desarrollo humano. \n",
        "* Un diagrama de caja y bigote de la dedicación a servicios y a la agricultura. Investigue [aquí](https://pandas.pydata.org/docs/reference/api/pandas.DataFrame.boxplot.html) cómo construirlo. "
      ]
    }
  ],
  "metadata": {
    "colab": {
      "provenance": []
    },
    "kernelspec": {
      "display_name": "Python 3",
      "name": "python3"
    },
    "language_info": {
      "name": "python"
    }
  },
  "nbformat": 4,
  "nbformat_minor": 0
}
