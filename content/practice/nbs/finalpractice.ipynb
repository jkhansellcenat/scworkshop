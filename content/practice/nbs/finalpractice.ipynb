{
  "cells": [
    {
      "attachments": {},
      "cell_type": "markdown",
      "metadata": {
        "id": "K7NkPWEsQO4C"
      },
      "source": [
        "\n",
        "# Práctica Final\n",
        "\n",
        "<!-- <h3> <center> Mariela Abdalah - mabdalah@cenat.ac.cr </center> </h3>\n",
        "<h3> <center> Diego Jiménez - djimenez@cenat.ac.cr </center> </h3> -->\n",
        "\n",
        "\n",
        "\n",
        "\n",
        "\n"
      ]
    },
    {
      "cell_type": "markdown",
      "metadata": {
        "id": "SCDKhlWQQO4W"
      },
      "source": [
        "# Matplotlib"
      ]
    },
    {
      "attachments": {},
      "cell_type": "markdown",
      "metadata": {
        "id": "6bWhQeNA-VOI"
      },
      "source": [
        "\n",
        "Con el Dataframe que creó a partir de los datos del [modelo SIR](modeloSIR.csv), grafique las tres curvas S, I y R contra el tiempo, en días, de las siguientes maneras:\n",
        "\n",
        "* En un mismo gráfico.\n",
        "* Haciendo subplots compartiendo el mismo eje horizontal.\n",
        "\n",
        "Utilice líneas continuas (no marcadores) y agregue elementos como la leyenda (en casos donde aplique) y los títulos en ambos ejes."
      ]
    },
    {
      "cell_type": "code",
      "execution_count": null,
      "metadata": {
        "id": "tFMXniscBqr6"
      },
      "outputs": [],
      "source": [
        "#Use el siguiente codigo para volver a generar el DataFrame de los datos SIR\n",
        "import pandas as pd\n",
        "import numpy as np\n",
        "datos = pd.read_csv('modeloSIR.csv',names=['Susceptibles','Infectados','Recuperados'])\n",
        "datos['Tiempo'] = np.linspace(0,20,100)\n",
        "datos.index = ['t='+str(i) for i in datos.index]\n",
        "datos.tail()"
      ]
    },
    {
      "cell_type": "code",
      "execution_count": null,
      "metadata": {
        "id": "QSICyfZUQO4Z"
      },
      "outputs": [],
      "source": [
        "# Resuelva aquí"
      ]
    },
    {
      "cell_type": "markdown",
      "metadata": {
        "id": "nXFkoKpzQO4L"
      },
      "source": [
        "# SciPy"
      ]
    },
    {
      "cell_type": "markdown",
      "metadata": {
        "id": "WCP7lGKBi6iR"
      },
      "source": [
        "1. Cree una función lambda que reciba un arreglo de NumPy y devuelva un arreglo unidimensional donde cada elemento sea la raíz cuadrada de los elementos del arreglo original."
      ]
    },
    {
      "cell_type": "code",
      "execution_count": null,
      "metadata": {
        "id": "nWB7X9tWjDzT"
      },
      "outputs": [],
      "source": [
        "# Resuelva aquí"
      ]
    },
    {
      "cell_type": "markdown",
      "metadata": {
        "id": "s6D7GDw7jGwG"
      },
      "source": [
        "2. La densidad de una lámina cuadrada de 1 m x 1 m está dada por la función $ \\rho(x,y) = x + 2y$ $\\mathrm{kg/m^2}$.\n",
        "\n",
        "- Utilizando SciPy, encuentre el momento de inercia de la lámina en el eje $y$ y el eje $x$.\n",
        "- Recuerde que el momento de inercia se calcula para cada eje como:\n",
        "\n",
        "$$ I_x = \\int\\int_{D}\\rho(x,y)y^2dydx$$\n",
        "$$ I_y = \\int\\int_{D}\\rho(x,y)x^2dydx$$\n",
        "\n",
        "Donde $D$ es la región que ocupa la lámina en el plano $xy$."
      ]
    },
    {
      "cell_type": "code",
      "execution_count": null,
      "metadata": {
        "id": "GYO0nkCHjQ_0"
      },
      "outputs": [],
      "source": [
        "# Resuelva aquí"
      ]
    },
    {
      "cell_type": "markdown",
      "metadata": {
        "id": "51DHum16QO4N"
      },
      "source": [
        "2. En un reactor químico se utilizan bacterias que fermentan glucosa para producir etanol. Las concentraciones de las sustancias están dadas por las siguientes ecuaciones:\n",
        "\n",
        "$$Bacterias: \\frac{dC_c}{dt}=\\mu_{max}\\left(1-\\frac{C_p}{C_p^*}\\right)^{0.52}\\frac{C_cC_s}{K_s+C_s}-k_dC_c$$\n",
        "$$Glucosa: \\frac{dC_s}{dt}=-Y_{s/c}\\mu_{max}\\left(1-\\frac{C_p}{C_p^*}\\right)^{0.52}\\frac{C_cC_s}{K_s+C_s}-mC_c$$\n",
        "$$Producto: \\frac{dC_p}{dt}=Y_{p/c}\\mu_{max}\\left(1-\\frac{C_p}{C_p^*}\\right)^{0.52}\\frac{C_cC_s}{K_s+C_s}$$\n",
        "\n",
        "Donde los valores de los parámetros son:\n",
        "\n",
        "$C_p^*=93$ $\\mathrm{g/dm^3}$,\n",
        "$\\mu_{max} = 0.33$ $\\mathrm{h^{-1}}$,\n",
        "$K_s = 1.7$ $\\mathrm{g/dm^3}$,\n",
        "$m = 0.03$ $\\mathrm{h^{-1}}$,\n",
        "$Y_{s/c} = 12.5$,\n",
        "$Y_{p/c} = 5.6$,\n",
        "$k_d = 0.01$ $\\mathrm{h^{-1}}$\n",
        "\n",
        "Además:\n",
        "\n",
        "$C_c(0) = 1.0$ $\\mathrm{g/dm^3}$,\n",
        "$C_s(0) = 250$ $\\mathrm{g/dm^3}$,\n",
        "$C_p(0) = 0$ $\\mathrm{g/dm^3}$\n",
        "\n",
        "Resuelva el sistema utilizando SciPy. Calcule las soluciones en los puntos de \n",
        "\n",
        "*   Resuelva el sistema utilizando SciPy. Calcule las soluciones en los puntos de un arreglo de NumPy de 0 h a 12 h con un espaciado de 0.5 h entre cada valor."
      ]
    },
    {
      "cell_type": "code",
      "execution_count": null,
      "metadata": {
        "id": "eho5YGK3QO4P"
      },
      "outputs": [],
      "source": [
        "# Resuelva aquí"
      ]
    },
    {
      "cell_type": "markdown",
      "metadata": {
        "id": "sis_u3J4QO4T"
      },
      "source": [
        "# Pandas"
      ]
    },
    {
      "attachments": {},
      "cell_type": "markdown",
      "metadata": {
        "id": "z_l9ypZwQO4U"
      },
      "source": [
        "3. Con el archivo [__datos-practicaf2.csv__](datos-practicaf2.csv), realice lo siguiente:\n",
        "\n",
        "    - Cargue los datos en un DataFrame.\n",
        "    - Elimine todos los registros del país __China__.\n",
        "    - Elimine las columnas __Nombre__ y __Apellido__.\n",
        "    - Calcule el mayor, el menor, el promedio y la desviación estándar de las columnas de edad, peso y altura. Ignore los valores faltantes.\n",
        "    - Rellene los datos vacíos con el promedio respectivo de cada columna.\n",
        "    - Calcule nuevamente los parámetros del cuarto punto. ¿Hay alguna diferencia? ¿Por qué sucede esto?\n",
        "    - Identifique cuántos registros tiene el país con mayor frecuencia."
      ]
    },
    {
      "cell_type": "code",
      "execution_count": null,
      "metadata": {
        "id": "S7o5fd0rQO4V"
      },
      "outputs": [],
      "source": [
        "# Resuelva aquí"
      ]
    }
  ],
  "metadata": {
    "colab": {
      "provenance": []
    },
    "kernelspec": {
      "display_name": "Python 3",
      "language": "python",
      "name": "python3"
    },
    "language_info": {
      "codemirror_mode": {
        "name": "ipython",
        "version": 3
      },
      "file_extension": ".py",
      "mimetype": "text/x-python",
      "name": "python",
      "nbconvert_exporter": "python",
      "pygments_lexer": "ipython3",
      "version": "3.6.0"
    }
  },
  "nbformat": 4,
  "nbformat_minor": 0
}
