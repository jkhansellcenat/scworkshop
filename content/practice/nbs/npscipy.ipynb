{
  "cells": [
    {
      "attachments": {},
      "cell_type": "markdown",
      "metadata": {
        "id": "BCS0l7SbrORr"
      },
      "source": [
        "# Práctica final 1: NumPy y SciPy\n",
        "\n",
        "## <font color='purple'>**Ejercicio 1**</font>\n",
        "\n"
      ]
    },
    {
      "cell_type": "code",
      "execution_count": null,
      "metadata": {
        "id": "-9RyWr0HY3jJ"
      },
      "outputs": [],
      "source": [
        "#Crear un arreglo de NumPy a partir de una lista de números de Python\n",
        "\n",
        "#Crear un arreglo 1D de NumPY con 10 números flotantes (con decimales dtype=float) inicializada con ceros\n",
        "\n",
        "#Crear un arreglo 2D de NumPy con forma 3x3 con números flotantes\n",
        "\n",
        "#Crear un arreglo con 12 números aleatorios"
      ]
    },
    {
      "cell_type": "code",
      "execution_count": null,
      "metadata": {
        "id": "HlS8yAFyaSaD"
      },
      "outputs": [],
      "source": [
        "numbers = np.arange(15)\n",
        "# Del arreglo \"numbers\" extraiga los últimos dos elementos\n",
        "\n",
        "# Del arreglo \"numbers\" extraiga todos los números excepto los últimos dos elementos\n",
        "\n",
        "# Obtenga de \"numbers\", a partir del segundo elemento, los elementos cada 2 posiciones (Por ejemplo: [0 1 2 3 4 5 6 7 8] -> [1 3 5 7])"
      ]
    },
    {
      "cell_type": "code",
      "execution_count": null,
      "metadata": {
        "id": "SvM-7wMHfwa8"
      },
      "outputs": [],
      "source": [
        "import numpy as np\n",
        "arrayToMatrix = np.arange(36)\n",
        "\n",
        "# Convierta el arreglo arrayToMatrix a una matrix de forma 6x6\n",
        "\n",
        "# Utilizando indexacion, extraiga la tercera fila de la matriz resultante (recuerde que se indexa a partir de 0)\n",
        "\n",
        "# Utilizando slicing extraiga los elementos 14, 15, 20, 21 en una matrix 2x2"
      ]
    },
    {
      "cell_type": "markdown",
      "metadata": {
        "id": "sZ2CPjn0yRRo"
      },
      "source": [
        "## <font color='purple'>**Ejercicio 2**</font>\n",
        "\n",
        "El modelo SIR es uno de los más utilizados en el modelado de la propagación de una enfermedad contagiosa. Las siglas S (Susceptible), I (Infectado) y R (Recuperado) corresponden a estados en los cuales son clasificados los individuos según el tiempo. Típicamente, la dinámica del modelo está representada por una serie de ecuaciones diferenciales ordinarias (ODE), de forma que\n",
        "\n",
        "$$\\frac{dS}{dt} = -\\frac{\\beta I S}{N} $$\n",
        "$$\\frac{dI}{dt} = \\frac{\\beta I S}{N} - \\nu I $$\n",
        "$$\\frac{dR}{dt} = \\nu I $$\n",
        "$$N = S + I + R$$\n",
        "\n",
        "Como epidemiólogo, usted desea saber cómo se comportará cierta enfermedad y según estudios preliminares, usted sabe que $\\beta = 2.67$ y $\\nu = 0.19$. Además, sabe que de la población actual de 2000 personas, 0 son inmunes, 1 está infectado y el resto están en condición susceptible.\n",
        "\n",
        "¿Cómo se comportará la enfermedad en los siguientes 20 días? Posiblemente usted quiera visualizar sus datos después, por lo que se le recomienda que los guarde en un archivo llamado **modeloSIR.csv** donde cada columna corresponda a un estado.\n",
        "\n"
      ]
    },
    {
      "cell_type": "markdown",
      "metadata": {
        "id": "pMS9BZulY0Ub"
      },
      "source": [
        "## <font color='purple'>**Ejercicio 1**</font>\n",
        "\n",
        "Utilice los datos recopilados por una estación sismológica sobre la aceleración vertical causada por un sismo en $\\mathrm{nm/s^2}$ y las funciones de las bibliotecas SciPy y NumPy para lo siguiente:\n",
        "\n",
        "* Importar los datos utilizando NumPy y guardarlos como números de punto flotante.\n",
        "* Graficar los datos de tiempo contra la aceleración. Para graficar se provee la siguiente plantilla con el código de matplotlib:\n",
        "```\n",
        "import matplotlib.pyplot as plt\n",
        "plt.plot(,) #Valores x, valores y\n",
        "plt.show()\n",
        "```\n",
        "* Encontrar el valor del *peak* de aceleración. Este corresponde al valor absoluto más alto de la aceleración en el período de tiempo dado.\n",
        "* Obtener la transformada de Fourier y utilizar la plantilla de matplotlib para obtener el espectro de amplitud y frecuencia. Considere que el instrumento registra 100 muestras por segundo.\n",
        "* Sabiendo que el ruido sísmico casi siempre es menor a 1 Hz y que un tipo de filtro adecuado en sismología es el Butterworth, implementar un filtro que corrija los posibles efectos del ruido. Utilice el orden de filtro más pequeño posible y que sea efectivo para atenuar el ruido. \n",
        "* Obtener y graficar nuevamente la transformada de Fourier para ver el resultado filtrado."
      ]
    },
    {
      "cell_type": "code",
      "execution_count": null,
      "metadata": {
        "id": "uKu3vCejXGqv"
      },
      "outputs": [],
      "source": []
    }
  ],
  "metadata": {
    "colab": {
      "collapsed_sections": [],
      "provenance": []
    },
    "kernelspec": {
      "display_name": "Python 3",
      "name": "python3"
    },
    "language_info": {
      "name": "python"
    }
  },
  "nbformat": 4,
  "nbformat_minor": 0
}
