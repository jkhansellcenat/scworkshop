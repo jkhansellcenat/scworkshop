{
  "cells": [
    {
      "attachments": {},
      "cell_type": "markdown",
      "metadata": {
        "id": "dPng8tG7ZjC3"
      },
      "source": [
        "# Manipulación de datos con Pandas\n",
        "\n",
        "<center> <img src=\"https://drive.google.com/uc?export=view&id=1INS1MCIbEfjzFle1JNV5l7KftHlUyyBk\" alt=\"image info\" width=\"400\"/> </center>\n",
        "\n",
        "* Biblioteca diseñada para análisis y manipulación de datos.\n",
        "* El nombre viene de **PANel DAta**, que es un término común para conjuntos de datos multidimensionales usualmente utilizados en estadística.\n",
        "* Construida sobre NumPy.\n",
        "* Implementa muchas operaciones de datos que pueden resultar familiares a usuarios de bases de datos o hojas de cálculo.\n",
        "\n",
        "Pandas se importa como cualquier módulo ya visto."
      ]
    },
    {
      "cell_type": "code",
      "execution_count": null,
      "metadata": {
        "id": "wZu_xRTSZrb8",
        "vscode": {
          "languageId": "python"
        }
      },
      "outputs": [],
      "source": [
        "import numpy as np\n",
        "import pandas as pd #pd es una convención\n",
        "pd.__version__"
      ]
    },
    {
      "cell_type": "code",
      "execution_count": null,
      "metadata": {
        "id": "wSp1xB3TaTg9",
        "vscode": {
          "languageId": "python"
        }
      },
      "outputs": [],
      "source": [
        "?pd"
      ]
    },
    {
      "cell_type": "markdown",
      "metadata": {
        "id": "AAunRfjvaWlr"
      },
      "source": [
        "* Los datos en Pandas se manejan a través de dos importantes objetos o estructuras: **Series** y **DataFrame**.\n",
        "* Ambas estructuras pueden ser vistas como versiones *mejoradas* de estructuras NumPy.\n",
        "\n",
        "# Series\n",
        "\n",
        "* Una serie es un arreglo **unidimensional** de datos indexados. \n",
        "* Los valores que se guardan en esta estructura tienen un índice, tal y como en el caso de las listas y los arreglos.\n",
        "* La creación de una serie se basa en el comando:\n",
        "\n",
        "```\n",
        "pd.Series(estructura_de_datos,index=lista_de_indices)\n",
        "```\n",
        "## Series a partir de listas\n"
      ]
    },
    {
      "cell_type": "code",
      "execution_count": null,
      "metadata": {
        "id": "anIwckSs9bNu",
        "vscode": {
          "languageId": "python"
        }
      },
      "outputs": [],
      "source": [
        "[10,20.45,3,'cuatro',True,6.0]"
      ]
    },
    {
      "cell_type": "code",
      "execution_count": null,
      "metadata": {
        "id": "NWYDnnbraUB1",
        "vscode": {
          "languageId": "python"
        }
      },
      "outputs": [],
      "source": [
        "s1 = pd.Series([10,20.45,3,'cuatro',True,6.0]) #El índice por defecto empezará en cero\n",
        "s1"
      ]
    },
    {
      "cell_type": "markdown",
      "metadata": {
        "id": "BfPJOR0-asRt"
      },
      "source": [
        "Como se puede observar, una serie de Pandas engloba tanto a una secuencia de valores como una secuencia de índices."
      ]
    },
    {
      "cell_type": "code",
      "execution_count": null,
      "metadata": {
        "id": "V4n0qPvoapnF",
        "vscode": {
          "languageId": "python"
        }
      },
      "outputs": [],
      "source": [
        "s1.values #Tipo de dato, arreglos de NumPy"
      ]
    },
    {
      "cell_type": "code",
      "execution_count": null,
      "metadata": {
        "id": "yYOhB2HWGHt4",
        "vscode": {
          "languageId": "python"
        }
      },
      "outputs": [],
      "source": [
        "s1.index"
      ]
    },
    {
      "cell_type": "markdown",
      "metadata": {
        "id": "hjbunHR2axyl"
      },
      "source": [
        "## Series a partir de diccionarios\n",
        "\n",
        "Si se usa un diccionario para construir la serie, las llaves se toman como índices y los valores los números de la serie."
      ]
    },
    {
      "cell_type": "code",
      "execution_count": null,
      "metadata": {
        "id": "hS0Prs4oa1Rr",
        "vscode": {
          "languageId": "python"
        }
      },
      "outputs": [],
      "source": [
        "dicc = {'a':1,'b':2,'c':3}\n",
        "s2 = pd.Series(dicc)\n",
        "s2"
      ]
    },
    {
      "cell_type": "code",
      "execution_count": null,
      "metadata": {
        "id": "qcWafROb9_F2",
        "vscode": {
          "languageId": "python"
        }
      },
      "outputs": [],
      "source": [
        "s2.index"
      ]
    },
    {
      "cell_type": "markdown",
      "metadata": {
        "id": "FPwaC8bGjLg4"
      },
      "source": [
        "Con **index**, se puede cambiar el orden en que se insertan los datos en la serie."
      ]
    },
    {
      "cell_type": "code",
      "execution_count": null,
      "metadata": {
        "id": "N6tEpEQzjJyI",
        "vscode": {
          "languageId": "python"
        }
      },
      "outputs": [],
      "source": [
        "s3 = pd.Series(dicc,index=['c','a','b'])\n",
        "s3"
      ]
    },
    {
      "cell_type": "markdown",
      "metadata": {
        "id": "ADZc_KlZa6zh"
      },
      "source": [
        "* Para acceder a un dato específico de la serie, hay que acceder al índice del mismo como con arreglos y listas.\n",
        "* Al igual que con estas estructuras, a las series se les puede hacer *slicing*."
      ]
    },
    {
      "cell_type": "code",
      "execution_count": null,
      "metadata": {
        "id": "aV0k27BEa-o-",
        "vscode": {
          "languageId": "python"
        }
      },
      "outputs": [],
      "source": [
        "print(s3['b'], s3[2], s3[-1])"
      ]
    },
    {
      "cell_type": "markdown",
      "metadata": {
        "id": "XfHaWOdUbBg9"
      },
      "source": [
        "**La diferencia entre un objeto Series de Pandas y un array de NumPy es la presencia de los índices.** En NumPy los índices están implícitamente definidos y son números enteros, en Pandas Series los índices se pueden definir además explícitamente.\n",
        "\n",
        "En Pandas Series también podemos indexar y manipular como si se tratara de la estructura original."
      ]
    },
    {
      "cell_type": "code",
      "execution_count": null,
      "metadata": {
        "id": "S-zNctRPkzD5",
        "vscode": {
          "languageId": "python"
        }
      },
      "outputs": [],
      "source": [
        "codigos = pd.Series({'San José':1,'Alajuela':2,'Cartago':3,'Heredia':4}) #Creamos una serie a partir de un diccionario"
      ]
    },
    {
      "cell_type": "code",
      "execution_count": null,
      "metadata": {
        "id": "HMvHKSqcGvKJ",
        "vscode": {
          "languageId": "python"
        }
      },
      "outputs": [],
      "source": [
        "'Guanacaste' not in codigos #Buscamos por índice"
      ]
    },
    {
      "cell_type": "code",
      "execution_count": null,
      "metadata": {
        "id": "jOHRdvdPG0_v",
        "vscode": {
          "languageId": "python"
        }
      },
      "outputs": [],
      "source": [
        "codigos.keys() #Imprimimos las claves del diccionario original"
      ]
    },
    {
      "cell_type": "code",
      "execution_count": null,
      "metadata": {
        "id": "jblNljABG6ph",
        "vscode": {
          "languageId": "python"
        }
      },
      "outputs": [],
      "source": [
        "list(codigos.items()) #Lista de elementos con los pares clave-valor del diccionario"
      ]
    },
    {
      "cell_type": "code",
      "execution_count": null,
      "metadata": {
        "id": "0e4J4z9RHATP",
        "vscode": {
          "languageId": "python"
        }
      },
      "outputs": [],
      "source": [
        "codigos['Guanacaste'] = 5 #Añadimos un nuevo elemento como en los diccionarios\n",
        "codigos"
      ]
    },
    {
      "cell_type": "markdown",
      "metadata": {
        "id": "0UjoV-U7malp"
      },
      "source": [
        "## Filtrando datos por índice y a partir de condicionales\n",
        "\n",
        "Podemos usar una \"máscara\" para encontrar ciertos elementos en nuestros datos."
      ]
    },
    {
      "cell_type": "code",
      "execution_count": null,
      "metadata": {
        "id": "uTSTSxaabLBC",
        "vscode": {
          "languageId": "python"
        }
      },
      "outputs": [],
      "source": [
        "mask = (codigos>2) & (codigos<=5) #Máscara, simplemente una condición\n",
        "\n",
        "codigos[mask] #Devuelve elementos de la serie que cumplen"
      ]
    },
    {
      "cell_type": "markdown",
      "metadata": {
        "id": "IPK4urB_nlkn"
      },
      "source": [
        "También podemos elegir los elementos por índice."
      ]
    },
    {
      "cell_type": "code",
      "execution_count": null,
      "metadata": {
        "id": "rTcyEUJxBg3y",
        "vscode": {
          "languageId": "python"
        }
      },
      "outputs": [],
      "source": [
        "consulta = (codigos==1)\n",
        "\n",
        "codigos[consulta]"
      ]
    },
    {
      "cell_type": "code",
      "execution_count": null,
      "metadata": {
        "id": "C8yUx6_Ynk9B",
        "vscode": {
          "languageId": "python"
        }
      },
      "outputs": [],
      "source": [
        "codigos[1]"
      ]
    },
    {
      "cell_type": "markdown",
      "metadata": {
        "id": "HsnYrB1HbPfD"
      },
      "source": [
        "# DataFrame\n",
        "\n",
        "* A grandes rasgos, el DataFrame es una tabla de datos.\n",
        "* A diferencia de los *ndarrays* de NumPy, se pueden tener distintos tipos de datos **en las columnas**.\n",
        "* Cada columna es un objeto de tipo Pandas Series.\n",
        "* Las filas se identifican con un **índice** y las columnas con una **etiqueta**.\n",
        "\n",
        "## Creando un DataFrame vacío"
      ]
    },
    {
      "cell_type": "code",
      "execution_count": null,
      "metadata": {
        "id": "vlZOqBvkbaxI",
        "vscode": {
          "languageId": "python"
        }
      },
      "outputs": [],
      "source": [
        "empt_df = pd.DataFrame()\n",
        "empt_df"
      ]
    },
    {
      "cell_type": "markdown",
      "metadata": {
        "id": "n3TAb3_AbfLX"
      },
      "source": [
        "## DataFrame a partir de estructuras de datos\n",
        "\n",
        "Los DataFrame se pueden crear también a partir de listas, diccionarios o incluso arreglos."
      ]
    },
    {
      "cell_type": "code",
      "execution_count": null,
      "metadata": {
        "id": "_LHP5ODeoU9p",
        "vscode": {
          "languageId": "python"
        }
      },
      "outputs": [],
      "source": [
        "cod_df = pd.DataFrame(np.array([['San José',1],['Alajuela',2],['Cartago',3]])) #A partir de una lista\n",
        "cod_df"
      ]
    },
    {
      "cell_type": "markdown",
      "metadata": {
        "id": "4-cMTkGrozro"
      },
      "source": [
        "Cuando no se indican los nombres de las columnas ni los índices, las etiquetas por defecto serán números consecutivos empezando por 0, al igual que los índices."
      ]
    },
    {
      "cell_type": "code",
      "execution_count": null,
      "metadata": {
        "id": "Dtjn985Hbcy0",
        "vscode": {
          "languageId": "python"
        }
      },
      "outputs": [],
      "source": [
        "cod_df_dicc = pd.DataFrame({'Nombre':['San José','Alajuela','Cartago'],'Codigo':[1,2,3]}) #A partir de un diccionario\n",
        "cod_df_dicc"
      ]
    },
    {
      "cell_type": "markdown",
      "metadata": {
        "id": "9rQrKaQjpZjY"
      },
      "source": [
        "Creando el DataFrame de la forma anterior, obtenemos los nombres de las columnas a partir de las claves del diccionario.\n",
        "\n",
        "## Asignando el nombre a las columnas y las filas\n",
        "\n",
        "* Al crear el DataFrame, las etiquetas se pueden asignar usando el parámetro **columns**.\n",
        "* Los índices también se pueden asignar con **index**."
      ]
    },
    {
      "cell_type": "code",
      "execution_count": null,
      "metadata": {
        "id": "NmUuBqqebpdT",
        "vscode": {
          "languageId": "python"
        }
      },
      "outputs": [],
      "source": [
        "cod_df_names = pd.DataFrame([['Heredia',4],['Guanacaste',5],['Puntarenas',6]],columns=['Nombre','Código'],index=['P1','P2','P3'])\n",
        "cod_df_names"
      ]
    },
    {
      "cell_type": "markdown",
      "metadata": {
        "id": "WnHPN1NbbtmG"
      },
      "source": [
        "**columns** e **index** son atributos que pueden ser cambiados incluso después de haber creado el DataFrame."
      ]
    },
    {
      "cell_type": "code",
      "execution_count": null,
      "metadata": {
        "id": "MI3gGcSJqfLQ",
        "vscode": {
          "languageId": "python"
        }
      },
      "outputs": [],
      "source": [
        "cod_df #No tenía nombres asignados en filas ni columnas"
      ]
    },
    {
      "cell_type": "code",
      "execution_count": null,
      "metadata": {
        "id": "kyheUZRsbrCa",
        "vscode": {
          "languageId": "python"
        }
      },
      "outputs": [],
      "source": [
        "cod_df.columns = ['Name','Code']\n",
        "cod_df"
      ]
    },
    {
      "cell_type": "markdown",
      "metadata": {
        "id": "iiLcTO3-rINI"
      },
      "source": [
        "Además, podemos realizar operaciones con estos atributos, que devuelven estructuras iterables."
      ]
    },
    {
      "cell_type": "code",
      "execution_count": null,
      "metadata": {
        "id": "sYnbl8h8ThYX",
        "vscode": {
          "languageId": "python"
        }
      },
      "outputs": [],
      "source": [
        "cod_df.index"
      ]
    },
    {
      "cell_type": "code",
      "execution_count": null,
      "metadata": {
        "id": "HSVoW5nPrQVd",
        "vscode": {
          "languageId": "python"
        }
      },
      "outputs": [],
      "source": [
        "cod_df.index = ['P' + str(i) for i in cod_df.index]\n",
        "cod_df"
      ]
    },
    {
      "cell_type": "markdown",
      "metadata": {
        "id": "x8Tt8QCxb17-"
      },
      "source": [
        "## DataFrames a partir de Series"
      ]
    },
    {
      "cell_type": "code",
      "execution_count": null,
      "metadata": {
        "id": "q1RXz7oKb6F6",
        "vscode": {
          "languageId": "python"
        }
      },
      "outputs": [],
      "source": [
        "s1 = pd.Series(['Carmen','Merced','Hospital'],index=[0,1,2])\n",
        "s2 = pd.Series([10101,10102,10104],index=[0,1,3],dtype=object)"
      ]
    },
    {
      "cell_type": "code",
      "execution_count": null,
      "metadata": {
        "id": "ETooHPVbICYg",
        "vscode": {
          "languageId": "python"
        }
      },
      "outputs": [],
      "source": [
        "cod_distritos = pd.DataFrame({'Distrito':s1,'Código':s2})\n",
        "cod_distritos"
      ]
    },
    {
      "cell_type": "markdown",
      "metadata": {
        "id": "a9kPoQp1teGq"
      },
      "source": [
        "Notemos que el índice donde se inserta el dato se respeta. Los datos faltantes se rellenan como valores **NaN** o *Not a Number*."
      ]
    },
    {
      "cell_type": "markdown",
      "metadata": {
        "id": "FXdnwTbKt-Ww"
      },
      "source": [
        "# Trabajando los datos con Pandas\n",
        "\n",
        "## ¿Cómo cargar datos desde un archivo?\n",
        "\n",
        "* Con Pandas se pueden cargar datos desde diversos tipos de archivos, incluyendo hojas de Microsoft Excel. Pueden consultar más [aquí](https://pandas.pydata.org/pandas-docs/stable/user_guide/io.html).\n",
        "* Se debe indicar el *path* o dirección del archivo, así como el delimitador de los datos o el nombre de la hoja en algunos casos.\n",
        "* **read_csv()** es una función que permite cargar datos desde un archivo **.csv** y guardarlos en un objeto de Pandas.\n",
        "\n",
        "Usaremos esta función para cargar un archivo con los datos de un estudio de detección de enfermedades del corazón en pacientes. Las variables que contiene este set de datos son:\n",
        "\n",
        "* Edad.\n",
        "* Sexo (H o M).\n",
        "* Tipo de dolor de pecho (escala 0-3).\n",
        "* Presión sanguínea en reposo.\n",
        "* Colesterol sérico (en mg/dL).\n",
        "* Niveles de azúcar en ayunas mayores a > 120 mg/dL (1 = Sí, 0 = No).\n",
        "* Ritmo cardíaco máximo.\n",
        "* Presencia de una enfermedad del corazón (escala 0-4)."
      ]
    },
    {
      "cell_type": "code",
      "execution_count": null,
      "metadata": {
        "id": "X8Xw0YhSulqL",
        "vscode": {
          "languageId": "python"
        }
      },
      "outputs": [],
      "source": [
        "import pandas as pd\n",
        "datosPacientes = pd.read_csv('pacientesCorazon.csv')\n",
        "datosPacientes"
      ]
    },
    {
      "cell_type": "markdown",
      "metadata": {
        "id": "4pgfYs301w1_"
      },
      "source": [
        "* La primera fila es tomada como las etiquetas. \n",
        "* En bases de datos donde no tenemos los nombres de las columnas en los archivos, el parámetro **names** nos permite asignar los nombres.  "
      ]
    },
    {
      "cell_type": "code",
      "execution_count": null,
      "metadata": {
        "id": "yCKexEyz2uzq",
        "vscode": {
          "languageId": "python"
        }
      },
      "outputs": [],
      "source": [
        "nombres_columnas = ['edad', 'sexo', 'tipoDolor', 'presionReposo', 'colesterolSerico','azucarAyunas', 'latidosMax','presencia']"
      ]
    },
    {
      "cell_type": "code",
      "execution_count": null,
      "metadata": {
        "id": "9mimz7bLI2bg",
        "vscode": {
          "languageId": "python"
        }
      },
      "outputs": [],
      "source": [
        "datosPacientesSN = pd.read_csv('pacientesCorazonSN.csv',names = nombres_columnas)\n",
        "datosPacientesSN"
      ]
    },
    {
      "cell_type": "markdown",
      "metadata": {
        "id": "8CcCAQi73VMR"
      },
      "source": [
        "A veces los delimitadores son distintos, esto también debemos indicarlo."
      ]
    },
    {
      "cell_type": "code",
      "execution_count": null,
      "metadata": {
        "id": "JKNxt8vW4KNZ",
        "vscode": {
          "languageId": "python"
        }
      },
      "outputs": [],
      "source": [
        "datosPacientesPC = pd.read_csv('pacientesCorazonPC.csv') #Los datos no se leerán correctamente\n",
        "datosPacientesPC"
      ]
    },
    {
      "cell_type": "code",
      "execution_count": null,
      "metadata": {
        "id": "6Nq3V9s04bCB",
        "vscode": {
          "languageId": "python"
        }
      },
      "outputs": [],
      "source": [
        "datosPacientesPC = pd.read_csv('pacientesCorazonPC.csv',delimiter=';') #Los datos sí se leerán correctamente\n",
        "datosPacientesPC"
      ]
    },
    {
      "cell_type": "markdown",
      "metadata": {
        "id": "x62t5z195J_w"
      },
      "source": [
        "* Si no se desea usar la fila de encabezados, **header** es un parámetro que indica cuántas filas ocupan estos, por lo que se usa para omitir las etiquetas. \n",
        "* Cuando header = None, las etiquetas serán números establecidos por defecto."
      ]
    },
    {
      "cell_type": "code",
      "execution_count": null,
      "metadata": {
        "id": "r9o_o0WE5cwA",
        "vscode": {
          "languageId": "python"
        }
      },
      "outputs": [],
      "source": [
        "datosPacientesSN = pd.read_csv('pacientesCorazon.csv',header= None)\n",
        "datosPacientesSN "
      ]
    },
    {
      "cell_type": "markdown",
      "metadata": {
        "id": "A-i1migE41HY"
      },
      "source": [
        "Como lo hacíamos con NumPy, también es posible omitir tantas filas como se quiera con el parámetro **skiprows**."
      ]
    },
    {
      "cell_type": "code",
      "execution_count": null,
      "metadata": {
        "id": "zKH8jbGSInsv",
        "vscode": {
          "languageId": "python"
        }
      },
      "outputs": [],
      "source": [
        "pd.read_csv?"
      ]
    },
    {
      "cell_type": "code",
      "execution_count": null,
      "metadata": {
        "id": "OJEvm8fh6TCx",
        "vscode": {
          "languageId": "python"
        }
      },
      "outputs": [],
      "source": [
        "datosPacientesSN = pd.read_csv('pacientesCorazon.csv',header=None,skiprows=1) \n",
        "datosPacientesSN"
      ]
    },
    {
      "cell_type": "markdown",
      "metadata": {
        "id": "h0Eu8dcHb8Q7"
      },
      "source": [
        "## Funciones que \"exploran\" los datos\n",
        "\n",
        "Pandas está ideado para el mandejo de bases de datos muy grandes, por lo que tiene algunas utilidades para su observación."
      ]
    },
    {
      "cell_type": "code",
      "execution_count": null,
      "metadata": {
        "id": "fz1z5eV6b6td",
        "vscode": {
          "languageId": "python"
        }
      },
      "outputs": [],
      "source": [
        "datosPacientes.head(5) #Imprime las dos primeras filas del DataFrame"
      ]
    },
    {
      "cell_type": "code",
      "execution_count": null,
      "metadata": {
        "id": "8NVNizi_JMJX",
        "vscode": {
          "languageId": "python"
        }
      },
      "outputs": [],
      "source": [
        "datosPacientes.tail(3) #Imprime las tres ultimas filas del DataFrame"
      ]
    },
    {
      "cell_type": "markdown",
      "metadata": {
        "id": "xtJ1gDSMcCZP"
      },
      "source": [
        "Por facilidad de lectura, las etiquetas se imprimen siempre.\n",
        "\n",
        "También podemos \"muestrear\" a partir del DataFrame."
      ]
    },
    {
      "cell_type": "code",
      "execution_count": null,
      "metadata": {
        "id": "LVyZLX-icAF4",
        "vscode": {
          "languageId": "python"
        }
      },
      "outputs": [],
      "source": [
        "datosPacientes.sample(5) #Muestreo aleatorio, devuelve la cantidad de elementos solicitada"
      ]
    },
    {
      "cell_type": "markdown",
      "metadata": {
        "id": "0w0dofbWcMv0"
      },
      "source": [
        "## Modificación de los datos\n",
        "\n",
        "### Adición de filas y columnas"
      ]
    },
    {
      "cell_type": "code",
      "execution_count": null,
      "metadata": {
        "id": "YtbHGej1cJc3",
        "vscode": {
          "languageId": "python"
        }
      },
      "outputs": [],
      "source": [
        "datosPacientes['No.Seguro'] = pd.Series(np.random.random(303)*(1e9)) #Agrega una columna\n",
        "datosPacientes"
      ]
    },
    {
      "cell_type": "markdown",
      "metadata": {
        "id": "eM-nxADocUDH"
      },
      "source": [
        "La función **append()** permite agregar filas, incluso otro DataFrame."
      ]
    },
    {
      "cell_type": "code",
      "execution_count": null,
      "metadata": {
        "id": "VavT3jayAlxA",
        "vscode": {
          "languageId": "python"
        }
      },
      "outputs": [],
      "source": [
        "nuevoPaciente = {'edad':64, 'sexo':'M', 'tipoDolor':2, 'presionReposo':120, 'colesterolSerico':325,'azucarAyunas':0, \n",
        "                 'latidosMax':175,'presencia':1,'No.Seguro':839082631} #Crea un nuevo paciente\n",
        "\n",
        "datosPacientes.append(nuevoPaciente,ignore_index=True) #Agrega el paciente al set de datos\n",
        "\n",
        "datosPacientes.tail(1)"
      ]
    },
    {
      "cell_type": "markdown",
      "metadata": {
        "id": "eD9RhRvzDna5"
      },
      "source": [
        "#### ¿Por qué no se añadió el nuevo paciente?\n",
        "\n",
        "append() devuelve **un nuevo DataFrame**, lo que implica que si no se captura en una variable, se pierde."
      ]
    },
    {
      "cell_type": "code",
      "execution_count": null,
      "metadata": {
        "id": "DPmjVnOpDyeA",
        "vscode": {
          "languageId": "python"
        }
      },
      "outputs": [],
      "source": [
        "datosPacientes = datosPacientes.append(nuevoPaciente,ignore_index=True)\n",
        "datosPacientes.tail(1)"
      ]
    },
    {
      "cell_type": "markdown",
      "metadata": {
        "id": "fcvudG9YEDqy"
      },
      "source": [
        "Ahora agregaremos el registro de diez pacientes más como un DataFrame."
      ]
    },
    {
      "cell_type": "code",
      "execution_count": null,
      "metadata": {
        "id": "ELsoJ7nBcRkU",
        "vscode": {
          "languageId": "python"
        }
      },
      "outputs": [],
      "source": [
        "nuevosPacientes = pd.read_csv('nuevosPacientes.csv') #Base de datos con nuevos pacientes\n",
        "\n",
        "datosPacientes = datosPacientes.append(nuevosPacientes,ignore_index=True)\n",
        "\n",
        "datosPacientes.tail(11)"
      ]
    },
    {
      "cell_type": "markdown",
      "metadata": {
        "id": "vTYB_qX9cjHl"
      },
      "source": [
        "#### ¿Para qué es el parámetro **ignore_index**?"
      ]
    },
    {
      "cell_type": "code",
      "execution_count": null,
      "metadata": {
        "id": "UpsDIBnycl7Q",
        "vscode": {
          "languageId": "python"
        }
      },
      "outputs": [],
      "source": [
        "datosPacientes = datosPacientes.append(nuevosPacientes) #Se conservan los índices del DataFrame agregado\n",
        "datosPacientes.tail(20)"
      ]
    },
    {
      "cell_type": "markdown",
      "metadata": {
        "id": "CpZ6nRSgcsMK"
      },
      "source": [
        "### Eliminación de filas y columnas\n",
        "\n",
        "El comando **del** sirve para borrar columnas."
      ]
    },
    {
      "cell_type": "code",
      "execution_count": null,
      "metadata": {
        "id": "jqBqnt5Jcpxu",
        "vscode": {
          "languageId": "python"
        }
      },
      "outputs": [],
      "source": [
        "del datosPacientes['No.Seguro']\n",
        "datosPacientes"
      ]
    },
    {
      "cell_type": "markdown",
      "metadata": {
        "id": "MOf8RYUxc0B2"
      },
      "source": [
        "La función **drop()** permite borrar filas y columnas."
      ]
    },
    {
      "cell_type": "code",
      "execution_count": null,
      "metadata": {
        "id": "q10h-7zsIhBC",
        "vscode": {
          "languageId": "python"
        }
      },
      "outputs": [],
      "source": [
        "datosPacientes = datosPacientes.drop([0]) #Borrará todo lo que está en el índice 0\n",
        "datosPacientes.head(5)"
      ]
    },
    {
      "cell_type": "code",
      "execution_count": null,
      "metadata": {
        "id": "zR52aTSdKEd_",
        "vscode": {
          "languageId": "python"
        }
      },
      "outputs": [],
      "source": [
        "datosPacientes.tail(10)"
      ]
    },
    {
      "cell_type": "code",
      "execution_count": null,
      "metadata": {
        "id": "XjXJv3yocxDl",
        "vscode": {
          "languageId": "python"
        }
      },
      "outputs": [],
      "source": [
        "datosPacientes = datosPacientes.drop(['edad','sexo'],axis=1) #Borra las columnas indicadas, axis=1 implica columnas\n",
        "datosPacientes"
      ]
    },
    {
      "cell_type": "markdown",
      "metadata": {
        "id": "XiO-GvbnrRsS"
      },
      "source": [
        "## <font color='purple'>**Ejercicio**</font>\n",
        "\n",
        "Con los datos que trabajó del modelo SIR, realice lo siguiente:\n",
        "\n",
        "* Cargue los datos en un DataFrame de Pandas.\n",
        "* Utilice algún método de los vistos para añadir los nombres a las columnas. Deberá nombrarlas \"Susceptibles\", \"Infectados\" y \"Recuperados\".\n",
        "* Cree una columna adicional que corresponda al valor del tiempo. Use los valores de los datos de tiempo que obtuvo en la solución del ejercicio del modelo SIR con SciPy.\n",
        "* Renombre los índices de su set de datos con \"t=\" y consecuentemente el número original del índice. Es decir, si el índice es 0, el nuevo índice será \"t=0\".\n",
        "* Utilice una función de Pandas para observar los últimos datos que generó en la solución, ¿podría decirse que para el día 20 la enfermedad está controlada?"
      ]
    },
    {
      "cell_type": "code",
      "execution_count": null,
      "metadata": {
        "id": "kpC9WCodnKRJ",
        "vscode": {
          "languageId": "python"
        }
      },
      "outputs": [],
      "source": [
        "import pandas as pd\n",
        "datosPacientes = pd.read_csv('pacientesCorazon.csv')\n",
        "datosPacientes\n",
        "\n",
        "nuevosPacientes = pd.read_csv('nuevosPacientes.csv') #Base de datos con nuevos pacientes\n",
        "datosPacientes = datosPacientes.append(nuevosPacientes)\n",
        "\n"
      ]
    },
    {
      "cell_type": "markdown",
      "metadata": {
        "id": "s2pIT0OHc6PD"
      },
      "source": [
        "## Localización de datos y selección de datos\n",
        "\n",
        "* Las filas de un DataFrame pueden seleccionarse con un índice, al igual que con otras estructuras de datos.\n",
        "* Las columnas se seleccionan con el nombre de la etiqueta y se indican como una lista."
      ]
    },
    {
      "cell_type": "code",
      "execution_count": null,
      "metadata": {
        "id": "SUU1FNX3KVcx",
        "vscode": {
          "languageId": "python"
        }
      },
      "outputs": [],
      "source": [
        "datosPacientes[0:2] #Slicing por posición iniciando en 0 (indexación implícita)"
      ]
    },
    {
      "cell_type": "code",
      "execution_count": null,
      "metadata": {
        "id": "2d1EMQIIc5eL",
        "vscode": {
          "languageId": "python"
        }
      },
      "outputs": [],
      "source": [
        "datosPacientes[0:2][['latidosMax','presencia']]\n"
      ]
    },
    {
      "cell_type": "markdown",
      "metadata": {
        "id": "IyZkXC6qdDKp"
      },
      "source": [
        "Para evitar confusiones entre indexación implícita y explícita en el caso de los índices enteros, Pandas ofrece algunos atributos espaciales de indexación.\n",
        "\n",
        "### loc\n",
        "\n",
        "**loc** sirve para buscar en un DataFrame por etiqueta o por el índice de la columna index. Es decir, **loc** indexa y hace slicing referenciando a los **índices explícitos** de la estructura."
      ]
    },
    {
      "cell_type": "code",
      "execution_count": null,
      "metadata": {
        "id": "mUQrUodAlxBr",
        "vscode": {
          "languageId": "python"
        }
      },
      "outputs": [],
      "source": [
        "cod_df_names = pd.DataFrame([['Heredia',4],['Guanacaste',5],['Puntarenas',6]],columns=['Nombre','Código'],index=['P1','P2','P3'])\n",
        "cod_df_names"
      ]
    },
    {
      "cell_type": "code",
      "execution_count": null,
      "metadata": {
        "id": "1B5Esb0nlzSC",
        "vscode": {
          "languageId": "python"
        }
      },
      "outputs": [],
      "source": [
        "cod_df_names.loc['P2']"
      ]
    },
    {
      "cell_type": "code",
      "execution_count": null,
      "metadata": {
        "id": "bt1XW4nELDTw",
        "vscode": {
          "languageId": "python"
        }
      },
      "outputs": [],
      "source": [
        "datosPacientes.loc[1,'presionReposo'] #Busca filas cuyo índice sea 1 y la columna sea presionReposo"
      ]
    },
    {
      "cell_type": "code",
      "execution_count": null,
      "metadata": {
        "id": "sQAHP9MxLXYY",
        "vscode": {
          "languageId": "python"
        }
      },
      "outputs": [],
      "source": [
        "datosPacientes.loc[200:205,'presionReposo':] #Slicing con loc"
      ]
    },
    {
      "cell_type": "markdown",
      "metadata": {
        "id": "qLECLBsadSgQ"
      },
      "source": [
        "### iloc\n",
        "\n",
        "Permite localizar las filas y las columnas por posición. Es decir, **iloc** indexa y hace slicing referenciando a los índices ímplicitos de la estructura usando indexación estilo Python."
      ]
    },
    {
      "cell_type": "code",
      "execution_count": null,
      "metadata": {
        "id": "U9FKAeY8X07R",
        "vscode": {
          "languageId": "python"
        }
      },
      "outputs": [],
      "source": [
        "datosPacientes.head(5)"
      ]
    },
    {
      "cell_type": "code",
      "execution_count": null,
      "metadata": {
        "id": "TzKRPfjoMwpB",
        "vscode": {
          "languageId": "python"
        }
      },
      "outputs": [],
      "source": [
        "datosPacientes.iloc[0,0] #Devuelve el valor en la primera fila, primera columna"
      ]
    },
    {
      "cell_type": "code",
      "execution_count": null,
      "metadata": {
        "id": "qlHRap8DM6v_",
        "vscode": {
          "languageId": "python"
        }
      },
      "outputs": [],
      "source": [
        "datosPacientes.iloc[0:3,0:4]"
      ]
    },
    {
      "cell_type": "code",
      "execution_count": null,
      "metadata": {
        "id": "kklDnlh_mMis",
        "vscode": {
          "languageId": "python"
        }
      },
      "outputs": [],
      "source": [
        "datosPacientes.head(5).iloc[-1] #Podemos usar la indexacion negativa como lo hacemos normalmente con Python"
      ]
    },
    {
      "cell_type": "markdown",
      "metadata": {
        "id": "lf9R-sUSNMwS"
      },
      "source": [
        "Si analizamos el objeto que nos devuelve iloc, nos damos cuenta de que puede ser una serie."
      ]
    },
    {
      "cell_type": "code",
      "execution_count": null,
      "metadata": {
        "id": "WCT5QqdHNVwy",
        "vscode": {
          "languageId": "python"
        }
      },
      "outputs": [],
      "source": [
        "isinstance(datosPacientes.iloc[3], pd.Series) #Es una serie"
      ]
    },
    {
      "cell_type": "code",
      "execution_count": null,
      "metadata": {
        "id": "XgkfBoTzNmqA",
        "vscode": {
          "languageId": "python"
        }
      },
      "outputs": [],
      "source": [
        "isinstance(datosPacientes.iloc[[3]], pd.Series) #Doble [] es un DataFrame"
      ]
    },
    {
      "cell_type": "markdown",
      "metadata": {
        "id": "MaYLrPvwdaBh"
      },
      "source": [
        "### Selección a través de condicionales"
      ]
    },
    {
      "cell_type": "code",
      "execution_count": null,
      "metadata": {
        "id": "WQz92t2zdfyX",
        "vscode": {
          "languageId": "python"
        }
      },
      "outputs": [],
      "source": [
        "datosPacientes['presionReposo'] > 150 #Devuelve un listado de booleanos, evaluando en cada índice la condición"
      ]
    },
    {
      "cell_type": "markdown",
      "metadata": {
        "id": "SILkGKYVOFJh"
      },
      "source": [
        "Crearemos un DataFrame nuevo solamente con los pacientes con un nivel de azúcar en ayunas elevado (mayor que 120 mg/dL)."
      ]
    },
    {
      "cell_type": "code",
      "execution_count": null,
      "metadata": {
        "id": "1Gta0KqZdgik",
        "vscode": {
          "languageId": "python"
        }
      },
      "outputs": [],
      "source": [
        "azucarAlta = datosPacientes[datosPacientes['azucarAyunas'] == 1] #Crea un nuevo DataFrame con las filas que cumplen esta condición\n",
        "azucarAlta"
      ]
    },
    {
      "cell_type": "markdown",
      "metadata": {
        "id": "PnaE6fkRdlMh"
      },
      "source": [
        "Evaluemos además los casos con colesterol sérico alto (mayor a 200 mg/dL)."
      ]
    },
    {
      "cell_type": "code",
      "execution_count": null,
      "metadata": {
        "id": "oIy4iV5UdjN8",
        "vscode": {
          "languageId": "python"
        }
      },
      "outputs": [],
      "source": [
        "azCol = datosPacientes[(datosPacientes['azucarAyunas'] == 1) & (datosPacientes['colesterolSerico'] > 200)] \n",
        "azCol"
      ]
    },
    {
      "cell_type": "markdown",
      "metadata": {
        "id": "5-QfKukYcD3M"
      },
      "source": [
        "## <font color='purple'>**Ejercicio**</font>\n",
        "\n",
        "* Localice las entradas con índice (explícito) 2.\n",
        "* Del DataFrame que obtenga, borre la entrada del paciente con menor presión sanguínea en reposo."
      ]
    },
    {
      "cell_type": "markdown",
      "metadata": {
        "id": "Q2i38l-Nd88n"
      },
      "source": [
        "## Ordenando y uniendo sets de datos\n",
        "\n",
        "### Ordenamiento\n",
        "\n",
        "* **sort_values()** permite organizar los datos por columna.\n",
        "* El parámetro **by** sirve para indicar las columnas por las cuales se quiere ordenar los datos."
      ]
    },
    {
      "cell_type": "code",
      "execution_count": null,
      "metadata": {
        "id": "7UEsezTgd589",
        "vscode": {
          "languageId": "python"
        }
      },
      "outputs": [],
      "source": [
        "datosPacientes.sort_values(by=['colesterolSerico']) #Ordena los datos de forma ascendente"
      ]
    },
    {
      "cell_type": "code",
      "execution_count": null,
      "metadata": {
        "id": "CVZQCpMQeEIr",
        "vscode": {
          "languageId": "python"
        }
      },
      "outputs": [],
      "source": [
        "datosPacientes.sort_values(by=['colesterolSerico'],ascending=False) #Ordena los datos de forma descendente"
      ]
    },
    {
      "cell_type": "markdown",
      "metadata": {
        "id": "PN5s6eDleL-c"
      },
      "source": [
        "La segunda columna es el \"criterio\" para ordenar valores repetidos."
      ]
    },
    {
      "cell_type": "code",
      "execution_count": null,
      "metadata": {
        "id": "516ePC9veLGG",
        "vscode": {
          "languageId": "python"
        }
      },
      "outputs": [],
      "source": [
        "datosPacientes.sort_values(by=['colesterolSerico','latidosMax'],ascending=False)"
      ]
    },
    {
      "cell_type": "markdown",
      "metadata": {
        "id": "BsclISvTeQtk"
      },
      "source": [
        "### Unión\n",
        "\n",
        "Pandas, a través de la operación merge(), nos brinda la capacidad de manejar datos de forma relacional. Los tipos de unión que permite hacer Pandas tienen los siguientes criterios:\n",
        "\n",
        "* Unión uno a uno\n",
        "* Unión muchos a uno\n",
        "* Unión muchos a muchos\n",
        "\n",
        "#### Unión uno a uno\n",
        "\n",
        "Es similar a realizar concatenación de columnas.\n"
      ]
    },
    {
      "cell_type": "code",
      "execution_count": null,
      "metadata": {
        "id": "XmrMePVmeQAl",
        "vscode": {
          "languageId": "python"
        }
      },
      "outputs": [],
      "source": [
        "empleados = pd.DataFrame({'Empleado': ['Carlos', 'Daniel', 'Mónica', 'Karla', 'Ricardo'],\n",
        "'Unidad': ['CNCA', 'LANOTEC', 'CENIBiot', 'FunCeNAT', 'CNCA']})\n",
        "empleados\n"
      ]
    },
    {
      "cell_type": "code",
      "execution_count": null,
      "metadata": {
        "id": "k76A3w7qMTUH",
        "vscode": {
          "languageId": "python"
        }
      },
      "outputs": [],
      "source": [
        "usuarios = pd.DataFrame({'Empleado': ['Daniel', 'Karla', 'Ricardo', 'Mónica','Carlos'],\n",
        "'Matrícula': ['cr2004', 'cr2007', 'cr2007', 'cr2010','cr2018']})\n",
        "usuarios"
      ]
    },
    {
      "cell_type": "code",
      "execution_count": null,
      "metadata": {
        "id": "TLgbTL5AegJP",
        "vscode": {
          "languageId": "python"
        }
      },
      "outputs": [],
      "source": [
        "autosEmpleados = pd.merge(empleados, usuarios)\n",
        "autosEmpleados"
      ]
    },
    {
      "cell_type": "markdown",
      "metadata": {
        "id": "ZsnW6w_kejUL"
      },
      "source": [
        "* La función merge() reconoce que existe una columna igual en cada DataFrame y automáticamente la utiliza como llave para la unión.\n",
        "\n",
        "* Noten que el orden de los registros no se mantiene y por lo general descarta el índice.\n",
        "\n",
        "#### Unión muchos a uno\n",
        "\n",
        "* Es el caso en el que la columna de referencia de uno de los DataFrame contenga valores duplicados.\n",
        "* Para este tipo de unión, esos registros se van a mantener de manera apropiada."
      ]
    },
    {
      "cell_type": "code",
      "execution_count": null,
      "metadata": {
        "id": "z_8xNMa7elfV",
        "vscode": {
          "languageId": "python"
        }
      },
      "outputs": [],
      "source": [
        "jefes =  pd.DataFrame({'Jefe': ['Esteban', 'Jose', 'Randall', 'Cinthya'],\n",
        "'Unidad': ['CNCA', 'LANOTEC', 'CENIBiot', 'FunCeNAT']})\n",
        "jefes"
      ]
    },
    {
      "cell_type": "code",
      "execution_count": null,
      "metadata": {
        "id": "2lrpH9IUeytR",
        "vscode": {
          "languageId": "python"
        }
      },
      "outputs": [],
      "source": [
        "cenat = pd.merge(autosEmpleados, jefes)\n",
        "cenat"
      ]
    },
    {
      "cell_type": "markdown",
      "metadata": {
        "id": "JcleHCgWe2Mx"
      },
      "source": [
        "#### Unión muchos a muchos\n",
        "\n",
        "Es el caso en el que ambas columnas llave contengan valores duplicados."
      ]
    },
    {
      "cell_type": "code",
      "execution_count": null,
      "metadata": {
        "id": "WfSnt0Vzezf9",
        "vscode": {
          "languageId": "python"
        }
      },
      "outputs": [],
      "source": [
        "habilidades = pd.DataFrame({'Unidad': ['FunCeNAT', 'FunCeNAT', 'CNCA', 'CNCA', 'LANOTEC', 'LANOTEC', 'CENIBiot','CENIBiot'],\n",
        "'Habilidades': ['Administración', 'Hojas de cálculo', 'Coding', 'HPC', 'Nanotecnología',\n",
        "           'Materiales', 'Análisis genómico', 'Bioinformática']})\n",
        "habilidades"
      ]
    },
    {
      "cell_type": "code",
      "execution_count": null,
      "metadata": {
        "id": "PD-WAktEfCAf",
        "vscode": {
          "languageId": "python"
        }
      },
      "outputs": [],
      "source": [
        "cenat = pd.merge(cenat,habilidades)\n",
        "cenat"
      ]
    },
    {
      "cell_type": "markdown",
      "metadata": {
        "id": "SxtWJaLGgm7f"
      },
      "source": [
        "#### Otras funciones como **join()** y **concat()** también funcionan a la hora de unir datos. Se pueden consultar [aquí](https://pandas.pydata.org/pandas-docs/stable/user_guide/merging.html).\n",
        "\n",
        "## Manejo de datos faltantes\n",
        "\n",
        "* En aplicaciones reales, tenemos que lidiar con conjuntos de datos que poseen múltiples datos faltantes.\n",
        "* NaN es un valor especial de punto flotante definido en el standard IEEE. \n",
        "* Normalmente se presentan problemas con estos valores, pues si operamos sobre ellos los resultados se verán afectados."
      ]
    },
    {
      "cell_type": "code",
      "execution_count": null,
      "metadata": {
        "id": "VQVd1ujopGMs",
        "vscode": {
          "languageId": "python"
        }
      },
      "outputs": [],
      "source": [
        "import numpy as np"
      ]
    },
    {
      "cell_type": "code",
      "execution_count": null,
      "metadata": {
        "id": "UzH5L1_PgiMm",
        "vscode": {
          "languageId": "python"
        }
      },
      "outputs": [],
      "source": [
        "1 + np.nan"
      ]
    },
    {
      "cell_type": "code",
      "execution_count": null,
      "metadata": {
        "id": "d_UF7VY6NRzA",
        "vscode": {
          "languageId": "python"
        }
      },
      "outputs": [],
      "source": [
        "0*np.nan"
      ]
    },
    {
      "cell_type": "code",
      "execution_count": null,
      "metadata": {
        "id": "C2qH2--aNV4_",
        "vscode": {
          "languageId": "python"
        }
      },
      "outputs": [],
      "source": [
        "values = np.array([4, 5, np.nan, 7, 8])\n",
        "\n",
        "print(values.sum(), values.min(), values.mean())"
      ]
    },
    {
      "cell_type": "markdown",
      "metadata": {
        "id": "KyzPMq_mg5Wp"
      },
      "source": [
        "## Operaciones con datos faltantes\n",
        "\n",
        "info() nos devuelve información de cuántos son valores faltantes en nuestras columnas. "
      ]
    },
    {
      "cell_type": "code",
      "execution_count": null,
      "metadata": {
        "id": "fSPJmaMyWHvh",
        "vscode": {
          "languageId": "python"
        }
      },
      "outputs": [],
      "source": [
        "datosPacientesNan = pd.read_csv('pacientesCorazonNaN.csv')\n",
        "datosPacientesNan.info()"
      ]
    },
    {
      "cell_type": "markdown",
      "metadata": {
        "id": "Ck7P3VtAhHpu"
      },
      "source": [
        "### Eliminando datos faltantes\n",
        "\n",
        "Los valores NaN no deben ser tomados en cuenta para hacer cálculos en Pandas. **dropna()** elimina las filas o las columnas donde existan datos faltantes. El parámetro **how** puede ser **any** o **all**, es decir, no es posible eliminar solo valores faltantes individualmente."
      ]
    },
    {
      "cell_type": "code",
      "execution_count": null,
      "metadata": {
        "id": "ywLBP8tKbZUI",
        "vscode": {
          "languageId": "python"
        }
      },
      "outputs": [],
      "source": [
        "datosPacientesNan_drop = datosPacientesNan.dropna() #Por defecto, eliminará todas las filas donde exista un valor faltante\n",
        "datosPacientesNan_drop.info()"
      ]
    },
    {
      "cell_type": "code",
      "execution_count": null,
      "metadata": {
        "id": "yfX8pDq1cHYy",
        "vscode": {
          "languageId": "python"
        }
      },
      "outputs": [],
      "source": [
        "datosPacientesNan_dropC = datosPacientesNan.dropna(axis='columns') #Por defecto, eliminará todas las columnas donde exista un valor faltante\n",
        "datosPacientesNan_dropC.info()"
      ]
    },
    {
      "cell_type": "code",
      "execution_count": null,
      "metadata": {
        "id": "G8CJTNNihWLL",
        "vscode": {
          "languageId": "python"
        }
      },
      "outputs": [],
      "source": [
        "datosPacientesNan.dropna(how='any').head(20) #Borra la fila si al menos un valor en ella es NaN"
      ]
    },
    {
      "cell_type": "code",
      "execution_count": null,
      "metadata": {
        "id": "y6_5y9v2hYKh",
        "vscode": {
          "languageId": "python"
        }
      },
      "outputs": [],
      "source": [
        "datosPacientesNan.dropna(how='all').head(20) #Borra la fila si todos los valores en ella son NaN"
      ]
    },
    {
      "cell_type": "code",
      "execution_count": null,
      "metadata": {
        "id": "3pKurusshY34",
        "vscode": {
          "languageId": "python"
        }
      },
      "outputs": [],
      "source": [
        "datosPacientesNan.dropna(axis='rows', thresh=7).head(20) #Especifica un mínimo de valores no nulos para conservar la fila o columna"
      ]
    },
    {
      "cell_type": "markdown",
      "metadata": {
        "id": "lGyyR61ChdVu"
      },
      "source": [
        "**reset_index()** es una función que reinicia los índices empezando desde cero. Así podemos \"limpiar\" los índices de nuestro set de datos."
      ]
    },
    {
      "cell_type": "code",
      "execution_count": null,
      "metadata": {
        "id": "WheB1rkvha3W",
        "vscode": {
          "languageId": "python"
        }
      },
      "outputs": [],
      "source": [
        "datosPacientesNan.dropna().reset_index().head(20)"
      ]
    },
    {
      "cell_type": "markdown",
      "metadata": {
        "id": "hG4LJFoUde_a"
      },
      "source": [
        "#### ¿Cómo identificar los elementos faltantes en una columna especifica?\n",
        "\n",
        "isna() devuelve una lista de booleanos, resultado de evaluar la función en cada fila."
      ]
    },
    {
      "cell_type": "code",
      "execution_count": null,
      "metadata": {
        "id": "reJFh_Qpdu5v",
        "vscode": {
          "languageId": "python"
        }
      },
      "outputs": [],
      "source": [
        "datosPacientesNan[:15]['presionReposo'].isna() #Indica los índices de la columna donde hay valores NaN"
      ]
    },
    {
      "cell_type": "markdown",
      "metadata": {
        "id": "FC3P6vUGhkFy"
      },
      "source": [
        "### Rellenando datos faltantes\n",
        "\n",
        "**fillna()** no elimina las filas, sino que sustituye el dato faltante con un dato deseado. El parámetro que recibe esta función es el dato con el que se rellenarán los NaN."
      ]
    },
    {
      "cell_type": "code",
      "execution_count": null,
      "metadata": {
        "id": "Guc4nwDyhh7Y",
        "vscode": {
          "languageId": "python"
        }
      },
      "outputs": [],
      "source": [
        "datosPacientesNan['presionReposo']= datosPacientesNan['presionReposo'].fillna('nd')\n",
        "datosPacientesNan.head(15)"
      ]
    },
    {
      "cell_type": "markdown",
      "metadata": {
        "id": "bGe2hKEUiIQk"
      },
      "source": [
        "## Operaciones de reducción y agrupamiento\n",
        "\n",
        "### Reducción\n",
        "\n",
        "Existen varias funciones que realizan cálculos básicos sobre los DataFrame, entre ellas están:\n",
        "\n",
        "| Función | Resultado |\n",
        "| :---: | :---: |\n",
        "|sum()| Suma todos los datos|\n",
        "|count()| Cuenta todos los datos|\n",
        "|min()| Devuelve el valor mínimo|\n",
        "|max()| Devuelve el valor máximo|\n",
        "|mean()| Calcula la media de los datos|\n",
        "|median()| Determina la mediana de los datos|"
      ]
    },
    {
      "cell_type": "code",
      "execution_count": null,
      "metadata": {
        "id": "_hb2vYLUf_Jp",
        "vscode": {
          "languageId": "python"
        }
      },
      "outputs": [],
      "source": [
        "datosPacientes = pd.read_csv('pacientesCorazon.csv')\n",
        "datosPacientes"
      ]
    },
    {
      "cell_type": "code",
      "execution_count": null,
      "metadata": {
        "id": "gLYxiY8ThpDH",
        "vscode": {
          "languageId": "python"
        }
      },
      "outputs": [],
      "source": [
        "datosPacientes.mean() #Media de los datos por columna"
      ]
    },
    {
      "cell_type": "code",
      "execution_count": null,
      "metadata": {
        "id": "elXFCiIriPrw",
        "vscode": {
          "languageId": "python"
        }
      },
      "outputs": [],
      "source": [
        "datosPacientes['latidosMax'].median() #Mediana de los datos de una columna"
      ]
    },
    {
      "cell_type": "code",
      "execution_count": null,
      "metadata": {
        "id": "v0y7FCRigutZ",
        "vscode": {
          "languageId": "python"
        }
      },
      "outputs": [],
      "source": [
        "datosPacientes['presencia'].mode() #Moda"
      ]
    },
    {
      "cell_type": "markdown",
      "metadata": {
        "id": "WuR97LQLlRNr"
      },
      "source": [
        "El método describe() nos da una serie de estadísticos básicos de nuestro DataFrame."
      ]
    },
    {
      "cell_type": "code",
      "execution_count": null,
      "metadata": {
        "id": "Q92rRXqQlX1B",
        "vscode": {
          "languageId": "python"
        }
      },
      "outputs": [],
      "source": [
        "datosPacientes.describe()"
      ]
    },
    {
      "cell_type": "markdown",
      "metadata": {
        "id": "gcJyBi8vT-YE"
      },
      "source": [
        "## <font color='purple'>**Ejercicio**</font>\n",
        "\n",
        "Analice los resultados del modelo SIR, ¿cuándo se alcanzó el pico de la epidemia?"
      ]
    },
    {
      "cell_type": "markdown",
      "metadata": {
        "id": "rQtbbkDynjY7"
      },
      "source": [
        "#### Histogramas y otros plots\n",
        "\n",
        "Pandas posee métodos de ploteo muy básicos para analizar los datos de manera rápida. Podemos hacer:\n",
        "\n",
        "* Histogramas.\n",
        "* Gráficos de barras.\n",
        "* Boxplots.\n",
        "* Densidad (kde).\n",
        "* Dispersión.\n",
        "* Pastel."
      ]
    },
    {
      "cell_type": "code",
      "execution_count": null,
      "metadata": {
        "id": "6eIvaP-toQDG",
        "vscode": {
          "languageId": "python"
        }
      },
      "outputs": [],
      "source": [
        "datosPacientes['presionReposo'].plot.hist()"
      ]
    },
    {
      "cell_type": "markdown",
      "metadata": {
        "id": "3dEZg1ukiWxN"
      },
      "source": [
        "### Agrupamiento\n",
        "\n",
        "* **groupby()** es un método que permite agrupar datos según un criterio.\n",
        "* Una vez agrupados, el resultado se obtiene haciendo una operación de reducción."
      ]
    },
    {
      "cell_type": "markdown",
      "metadata": {
        "id": "P82Spk6iifbh"
      },
      "source": [
        "Supongamos que queremos saber la edad promedio de las personas según cada tipo de dolor de pecho."
      ]
    },
    {
      "cell_type": "code",
      "execution_count": null,
      "metadata": {
        "id": "MJfk-mJeigQG",
        "vscode": {
          "languageId": "python"
        }
      },
      "outputs": [],
      "source": [
        "gruposDolor = datosPacientes.groupby(['tipoDolor'])\n",
        "gruposDolor[['edad']].mean()"
      ]
    },
    {
      "cell_type": "markdown",
      "metadata": {
        "id": "fgwl8jGehdES"
      },
      "source": [
        "Veamos si hombres o mujeres tienden a tener el azúcar más alto en ayunas."
      ]
    },
    {
      "cell_type": "code",
      "execution_count": null,
      "metadata": {
        "id": "otOL5m9lihgZ",
        "vscode": {
          "languageId": "python"
        }
      },
      "outputs": [],
      "source": [
        "datosPacientes.groupby(['sexo'])[['azucarAyunas']].sum()"
      ]
    },
    {
      "cell_type": "markdown",
      "metadata": {
        "id": "3hLGj0yOj7Tv"
      },
      "source": [
        "## <font color='purple'>**Con groupby(), ¿cómo averiguamos cuán propensa está una persona con nivel alto de azúcar a padecer una enfermedad del corazón?**</font>"
      ]
    },
    {
      "cell_type": "markdown",
      "metadata": {
        "id": "a53uFwWnjMT_"
      },
      "source": [
        "# Guardando datos con Pandas\n",
        "\n",
        "* **to_csv()** permite guardar los datos de un DataFrame en un archivo csv.\n",
        "* Al igual que para leer los datos, se necesita indicar la dirección donde será guardado el archivo.\n",
        "* Se puede elegir un delimitador, por defecto es \",\"."
      ]
    },
    {
      "cell_type": "code",
      "execution_count": null,
      "metadata": {
        "id": "GKjIPCnZmuC5",
        "vscode": {
          "languageId": "python"
        }
      },
      "outputs": [],
      "source": [
        "datosPacientesO = datosPacientes[datosPacientes['presencia']==4]\n",
        "datosPacientesO"
      ]
    },
    {
      "cell_type": "code",
      "execution_count": null,
      "metadata": {
        "id": "mtiyVHUVjKW6",
        "vscode": {
          "languageId": "python"
        }
      },
      "outputs": [],
      "source": [
        "datosPacientesO.to_csv('pacientesO.csv',sep=';')"
      ]
    },
    {
      "cell_type": "code",
      "execution_count": null,
      "metadata": {
        "id": "VNP4xlLOXj6C",
        "vscode": {
          "languageId": "python"
        }
      },
      "outputs": [],
      "source": [
        "!cat pacientesO.csv"
      ]
    }
  ],
  "metadata": {
    "colab": {
      "provenance": []
    },
    "kernelspec": {
      "display_name": "Python 3",
      "name": "python3"
    }
  },
  "nbformat": 4,
  "nbformat_minor": 0
}
