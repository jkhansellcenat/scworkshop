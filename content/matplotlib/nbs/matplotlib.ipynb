{
  "cells": [
    {
      "attachments": {},
      "cell_type": "markdown",
      "metadata": {
        "id": "rEoPW645kBB3"
      },
      "source": [
        "# Visualización de datos con matplotlib\n",
        "\n",
        "<center> <img src=\"https://drive.google.com/uc?export=view&id=1ZiUNQU-jqA7ODnvbMdBvD1QnSPM8Ff2I\" alt=\"image info\" width=\"400\"/> </center>\n",
        "    \n",
        "* Es una biblioteca para crear visualizaciones de datos en Python.\n",
        "* La documentación es muy detallada. Contiene muchos ejemplos y tutoriales, podemos verlos [aquí](https://matplotlib.org/).\n",
        "\n"
      ]
    },
    {
      "cell_type": "code",
      "execution_count": null,
      "metadata": {
        "id": "qKwA-S_9j9VB",
        "vscode": {
          "languageId": "python"
        }
      },
      "outputs": [],
      "source": [
        "import matplotlib as mpl\n",
        "import matplotlib.pyplot as plt #plt es la convención para importar el modulo pyplot"
      ]
    },
    {
      "cell_type": "code",
      "execution_count": null,
      "metadata": {
        "id": "VvGcs8l7mKuI",
        "vscode": {
          "languageId": "python"
        }
      },
      "outputs": [],
      "source": [
        "%matplotlib inline \n",
        "#Podemos ver los gráficos en el ambiente de IPython"
      ]
    },
    {
      "cell_type": "markdown",
      "metadata": {
        "id": "uXepkfU2mN1L"
      },
      "source": [
        "- El comando básico de pyplot es **plot()**.\n",
        "- Esta función recibe los valores de los ejes a graficar, pueden ser listas, arreglos, series, entre otros.\n",
        "- Si solo se indica un argumento, el comando supondrá que los valores dados están en el eje *y* y generará valores en *x* secuenciales.  \n",
        "- **show()** indica que el gráfico ya puede desplegarse. **Si no se usa, el gráfico no se mostrará.**"
      ]
    },
    {
      "cell_type": "code",
      "execution_count": null,
      "metadata": {
        "id": "YfBt512rmbOL",
        "vscode": {
          "languageId": "python"
        }
      },
      "outputs": [],
      "source": [
        "# Usamos una lista simple de Python para almacenar datos de temperatura horaria\n",
        "hourlyTemperature = [19.55,19.15,18.74,18.80,18.71,18.72,18.85,19.34,21.02]\n",
        "\n",
        "# Utilizamos la rutina plot para crear un objeto gráfico asociado a nuestros datos\n",
        "line = plt.plot(hourlyTemperature)"
      ]
    },
    {
      "cell_type": "code",
      "execution_count": null,
      "metadata": {
        "id": "4xz88D2HmewN",
        "vscode": {
          "languageId": "python"
        }
      },
      "outputs": [],
      "source": [
        "# Para agregar datos propios en el eje x simplemente hay que pasarlos como primer argumento a plot\n",
        "\n",
        "hour = ['00:00','01:00','02:00','03:00','04:00','05:00','06:00','07:00','08:00']\n",
        "plt.plot(hour, hourlyTemperature)"
      ]
    },
    {
      "cell_type": "markdown",
      "metadata": {
        "id": "2D6v4KjdmifA"
      },
      "source": [
        "## Personalizando gráficos\n",
        "\n",
        "### Títulos\n",
        "\n",
        "- Para los ejes se añaden con **xlabel()** y **ylabel()**, mientras que el título principal se muestra con **title()**."
      ]
    },
    {
      "cell_type": "code",
      "execution_count": null,
      "metadata": {
        "id": "ksr2E3VpmfXZ",
        "vscode": {
          "languageId": "python"
        }
      },
      "outputs": [],
      "source": [
        "import numpy as np\n",
        "x = np.arange(0,45,0.1)\n",
        "y = np.cos(x)\n",
        "\n",
        "plt.plot(x,y)\n",
        "\n",
        "plt.ylabel('cos(x)')\n",
        "plt.xlabel('Ángulo x')\n",
        "plt.title('Coseno del ángulo x')"
      ]
    },
    {
      "cell_type": "markdown",
      "metadata": {
        "id": "sJQVrlCqmuYM"
      },
      "source": [
        "### Colores y tipos de línea\n",
        "\n",
        "* El parámetro **color** de plot() sirve para modificar el color de línea o marcador.\n",
        "* matplotlib tiene una gran cantidad de colores que incluso se pueden personalizar. Los más básicos son:\n",
        "\n",
        "| Valor | b | g |r |c | m |y |k | w |\n",
        "| --- | --- |--- |--- |--- |--- |--- |--- |--- |\n",
        "| Color | Azul| Verde|Rojo| Cyan|Magenta|Amarillo|Negro|Blanco|\n",
        "\n",
        "Más colores predeterminados se pueden encontrar [aquí](https://matplotlib.org/stable/gallery/color/named_colors.html)."
      ]
    },
    {
      "cell_type": "code",
      "execution_count": null,
      "metadata": {
        "id": "Of6oJ-r7mtgu",
        "vscode": {
          "languageId": "python"
        }
      },
      "outputs": [],
      "source": [
        "import numpy as np\n",
        "x = np.arange(0,45,0.1)\n",
        "y = np.sin(x)\n",
        "\n",
        "plt.plot(x,y, color='r')\n",
        "plt.ylabel('sin(x)')\n",
        "plt.xlabel('Ángulo x')\n",
        "plt.title('Seno del ángulo x')"
      ]
    },
    {
      "cell_type": "markdown",
      "metadata": {
        "id": "3IBy5DUsnC83"
      },
      "source": [
        "* El tipo de línea se puede determinar con **linestyle**. Hay muchos estilos que se pueden consultar [aquí](https://matplotlib.org/stable/gallery/lines_bars_and_markers/linestyles.html). \n",
        "* Los marcadores se modificar con **marker**. [Aquí](https://matplotlib.org/stable/api/markers_api.html) se encuentran todos los estilos de marcadores."
      ]
    },
    {
      "cell_type": "code",
      "execution_count": null,
      "metadata": {
        "id": "-ICLDXMpnORT",
        "vscode": {
          "languageId": "python"
        }
      },
      "outputs": [],
      "source": [
        "plt.plot([1,2,3,4], marker='X',linestyle='dashed',color='magenta') "
      ]
    },
    {
      "cell_type": "markdown",
      "metadata": {
        "id": "4TurBjG1nQ8K"
      },
      "source": [
        "* matplotlib \"entiende\" otros formatos para asignar colores, líneas y marcadores.\n",
        "* **Esto solo funciona con los tipos de línea, colores y marcadores básicos.**"
      ]
    },
    {
      "cell_type": "code",
      "execution_count": null,
      "metadata": {
        "id": "orVRkwf3nUzB",
        "vscode": {
          "languageId": "python"
        }
      },
      "outputs": [],
      "source": [
        "plt.plot([1,2,3,4], 'k^') #Usará solo marcadores de triángulo negros\n",
        "plt.plot([4,3,2,1], '-.r') #Usará una linea punteada roja\n",
        "plt.show()"
      ]
    },
    {
      "cell_type": "markdown",
      "metadata": {
        "id": "gXmpGksXnZbo"
      },
      "source": [
        "### Limitar los ejes\n",
        "\n",
        "**axis()** recibe como parámetro una secuencia de cuatro números que indican los ámbitos entre los cuales se quieren mostrar los ejes."
      ]
    },
    {
      "cell_type": "code",
      "execution_count": null,
      "metadata": {
        "id": "BfGdtj9uncAN",
        "vscode": {
          "languageId": "python"
        }
      },
      "outputs": [],
      "source": [
        "plt.plot([1,2,3,4], 'k^')\n",
        "plt.plot([4,3,2,1], 'r-.') \n",
        "plt.axis([0.5,2.0,1.5,4.5]) #Formato [xi,xf,yi,yf]\n",
        "#plt.xlim(0.5,2.0) #Alternativa\n",
        "#plt.ylim(1.5,4.5)\n",
        "plt.show()"
      ]
    },
    {
      "cell_type": "markdown",
      "metadata": {
        "id": "M-AgguiTnmvK"
      },
      "source": [
        "## Graficar más de una serie\n",
        "\n",
        "### En un mismo gráfico"
      ]
    },
    {
      "cell_type": "code",
      "execution_count": null,
      "metadata": {
        "id": "hSjkzRTXnd_b",
        "vscode": {
          "languageId": "python"
        }
      },
      "outputs": [],
      "source": [
        "import numpy as np\n",
        "x = np.linspace(0,10,1000)\n",
        "y = np.cos(x)\n",
        "z = np.sin(x)\n",
        "\n",
        "plt.plot(x,y) #Grafica primero cos(x)\n",
        "line = plt.plot(x,z) #Grafica después sen(x) \n"
      ]
    },
    {
      "cell_type": "markdown",
      "metadata": {
        "id": "ktNfCth3ns0G"
      },
      "source": [
        "Lo anterior se puede lograr con el mismo comando plot():"
      ]
    },
    {
      "cell_type": "code",
      "execution_count": null,
      "metadata": {
        "id": "Il-8VjIUnvxF",
        "vscode": {
          "languageId": "python"
        }
      },
      "outputs": [],
      "source": [
        "plt.plot(x,y,'y',x,z,'k')"
      ]
    },
    {
      "cell_type": "markdown",
      "metadata": {
        "id": "16pRQxYnnyE-"
      },
      "source": [
        "* La función **legend()** permite incluir una leyenda que diferencia los gráficos.\n",
        "* Con el parámetro **label** se asigna el nombre que tendrá la serie graficada al desplegar la leyenda."
      ]
    },
    {
      "cell_type": "code",
      "execution_count": null,
      "metadata": {
        "id": "F7vXXKHtn3cD",
        "vscode": {
          "languageId": "python"
        }
      },
      "outputs": [],
      "source": [
        "import numpy as np\n",
        "\n",
        "plt.plot(x,y,label='cos(x)') \n",
        "plt.plot(x,z,label='sen(x)')\n",
        "\n",
        "plt.legend(framealpha=0) #El parámetro framealpha cambia la transparencia del cuadro de la leyenda"
      ]
    },
    {
      "cell_type": "markdown",
      "metadata": {
        "id": "ydMc5aX0n8Bo"
      },
      "source": [
        "### ¿Qué etiqueta tendría el eje _y_ en el gráfico anterior?\n",
        "\n",
        "**axes()** (¡No axis()!) añade un eje al gráfico, de forma que podemos agregar varios ejes *y* o *x* y graficar cada serie por separado."
      ]
    },
    {
      "cell_type": "code",
      "execution_count": null,
      "metadata": {
        "id": "g7e08Ylnn52l",
        "vscode": {
          "languageId": "python"
        }
      },
      "outputs": [],
      "source": [
        "import numpy as np\n",
        "\n",
        "ax = plt.axes() #Agrega una pareja de ejes (x,y)\n",
        "\n",
        "ax2 = ax.twinx() #Agrega un eje y2 que comparte el mismo eje x que y\n",
        "\n",
        "cos=ax.plot(x,y,'r',label='cos(x)') #Grafica el cos(x) en los primeros ejes\n",
        "ax.set_ylabel('cos(x)') #Título solamente para el primer eje y\n",
        "ax.set_xlabel('Ángulo x') #Título para el eje x de ambos\n",
        "\n",
        "sen=ax2.plot(x,z,label='sen(x)') #Grafica el sen(x) en los segundos ejes\n",
        "ax2.set_ylabel('sen(x)') #Título solamente para el segundo eje y\n",
        "\n",
        "#legend(handles,labels)\n",
        "#handles = lista objetos línea\n",
        "#labels = lista labels de esos objetos línea\n",
        "plt.legend([sen[0],cos[0]],[sen[0].get_label(),cos[0].get_label()],framealpha=1)"
      ]
    },
    {
      "cell_type": "markdown",
      "metadata": {
        "id": "YV349NROoH-g"
      },
      "source": [
        "### En varias figuras adjuntas o *subplots*\n",
        "\n",
        "Los *subplots* funcionan como una grilla en la cual se posicionan gráficos independientes.\n",
        "\n",
        "<center> <img src=\"https://drive.google.com/uc?export=view&id=1_q_kvOJgoIrU_9SsluFxZ6umxJqQradM\" alt=\"image info\" width=\"400\"/> </center>"
      ]
    },
    {
      "cell_type": "code",
      "execution_count": null,
      "metadata": {
        "id": "FunowLxNoFjF",
        "vscode": {
          "languageId": "python"
        }
      },
      "outputs": [],
      "source": [
        "def f(t):\n",
        "    return np.exp(-t) * np.cos(2*np.pi*t)\n",
        "\n",
        "t1 = np.arange(0.0, 5.0, 0.1)\n",
        "t2 = np.arange(0.0, 5.0, 0.02)\n",
        "\n",
        "plt.subplot(121) #Primer elemento en 1 fila y 2 columnas, posicion 1\n",
        "plt.plot(t1, f(t1), 'k.', t2, f(t2), 'c-')\n",
        "\n",
        "plt.subplot(122) #Segundo elemento en 1 fila y 2 columnas, posicion 2\n",
        "plt.plot(t2, np.cos(2*np.pi*t2), 'bv')\n",
        "plt.tight_layout() #Esta operacion ayuda a que los graficos no se traslapen"
      ]
    },
    {
      "cell_type": "code",
      "execution_count": null,
      "metadata": {
        "id": "Wt-VudW8oUuV",
        "vscode": {
          "languageId": "python"
        }
      },
      "outputs": [],
      "source": [
        "plt.subplot(311) #Primer elemento, en 3 filas y 1 columna\n",
        "plt.plot(t1, f(t1), 'k.')\n",
        "\n",
        "plt.subplot(312) #Segundo elemento, en 3 filas y 1 columna\n",
        "plt.plot(t2, np.cos(2*np.pi*t2), 'bv')\n",
        "\n",
        "plt.subplot(313) #Tercer elemento, en 3 filas y 1 columna\n",
        "plt.plot(t2, f(t2), 'c-')"
      ]
    },
    {
      "cell_type": "markdown",
      "metadata": {
        "id": "sZStt_Fcou7l"
      },
      "source": [
        "Existen otras maneras de crear *subplots* en matplotlib. Se pueden consultar [aquí](https://matplotlib.org/stable/tutorials/introductory/usage.html#axis-scales-and-ticks)\n",
        "\n",
        "## Guardar figuras en un archivo\n",
        "\n",
        "* La función **savefig()** se usa para guardar la figura creada en cualquier formato de archivo.\n",
        "* Se puede controlar la resolución con el parámetro **dpi** (dots per inch)."
      ]
    },
    {
      "cell_type": "code",
      "execution_count": null,
      "metadata": {
        "id": "CXMvKnouot-h",
        "vscode": {
          "languageId": "python"
        }
      },
      "outputs": [],
      "source": [
        "import math \n",
        "\n",
        "plt.axes(projection = 'polar') #El parametro projection indica el sistema de coordenadas\n",
        "\n",
        "a=4  \n",
        "rads = np.arange(0, (2 * np.pi), 0.01) \n",
        "for rad in rads: \n",
        "    r = a + (a*np.cos(rad))  \n",
        "    plt.polar(rad, r,'k.')  \n",
        "    \n",
        "plt.savefig('cardioide2.png')"
      ]
    },
    {
      "cell_type": "markdown",
      "metadata": {
        "id": "3ojsWrSopBri"
      },
      "source": [
        "## Gráficos 3D\n",
        "\n",
        "* matplotlib fue diseñado para visualizaciones en 2D.\n",
        "* mpl_toolkits engloba varias extensiones de matplotlib que permiten construir visualizaciones 3D.\n",
        "* El módulo mplot3d permite hacer gráficos en 3D de diferentes tipos."
      ]
    },
    {
      "cell_type": "code",
      "execution_count": null,
      "metadata": {
        "id": "P0U-uJNWo-mI",
        "vscode": {
          "languageId": "python"
        }
      },
      "outputs": [],
      "source": [
        "import mpl_toolkits.mplot3d\n",
        "\n",
        "x = 50*np.sin(x)\n",
        "y = 60*np.cos(x)\n",
        "z = x**2+y**2\n",
        "\n",
        "ax = plt.axes(projection='3d') # Se crea un sistema 3D usando la palabra clave '3d' a la creación de los ejes\n",
        "ax.scatter3D(x, y, z,c=z,cmap='seismic') # Scatter 3D mapea un conjunto de puntos en x, y y z al espacio 3D"
      ]
    },
    {
      "cell_type": "markdown",
      "metadata": {
        "id": "wHhOsfM_pKY4"
      },
      "source": [
        "* Los valores del tercer parámetro (*z*) se calculan a partir de los valores *x*, *y* y. *z*, por tanto, es un arreglo de 2D.\n",
        "* La gráfica tiene por defecto una transparencia para dar el efecto de profundidad."
      ]
    },
    {
      "cell_type": "code",
      "execution_count": null,
      "metadata": {
        "id": "JA7QHbA7pTZj",
        "vscode": {
          "languageId": "python"
        }
      },
      "outputs": [],
      "source": [
        "import mpl_toolkits.mplot3d\n",
        "\n",
        "def f(x,y):\n",
        "    return (4 - 2.1*x**2 + x**4 / 3.) * x**2 + x * y + (-4 + 4*y**2) * y **2\n",
        "\n",
        "x = np.linspace(-2, 2,250) \n",
        "y = np.linspace(-1, 1,250) \n",
        "xg, yg = np.meshgrid(x, y) #Para graficar en 3D, generalmente se necesita generar una malla de puntos\n",
        "\n",
        "ax = plt.axes(projection='3d')\n",
        "ax.plot_surface(xg, yg, f(xg, yg), cmap='magma') "
      ]
    },
    {
      "cell_type": "markdown",
      "metadata": {
        "id": "n-mLHFXqpYlW"
      },
      "source": [
        "* matplotlib tiene gran variedad de mapas de colores o [cmaps](https://matplotlib.org/stable/tutorials/colors/colormaps.html).\n",
        "\n",
        "* Pueden consultar la documentación del módulo mplot3d para ver otros gráficos 3D disponibles [aquí](https://matplotlib.org/3.5.0/tutorials/toolkits/mplot3d.html)."
      ]
    }
  ],
  "metadata": {
    "colab": {
      "provenance": []
    },
    "kernelspec": {
      "display_name": "Python 3",
      "name": "python3"
    }
  },
  "nbformat": 4,
  "nbformat_minor": 0
}
