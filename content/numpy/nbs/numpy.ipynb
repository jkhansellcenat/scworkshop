{
  "cells": [
    {
      "attachments": {},
      "cell_type": "markdown",
      "metadata": {
        "id": "J3zgJzVQ2lud"
      },
      "source": [
        "# NumPy: Fundamento de Python científico\n",
        "\n",
        "<center> <img src=\"https://drive.google.com/uc?export=view&id=1u9BJ9wGWUiQQnPdgH8NxPxLmjn2Q2iBX\" alt=\"image info\" width=\"500\"/> </center>\n",
        "\n",
        "\n"
      ]
    },
    {
      "cell_type": "markdown",
      "metadata": {
        "id": "nBRqYpsCXw7I"
      },
      "source": [
        "La utilización de arreglos, matrices y otros arreglos multi-dimensionales\n",
        "son comunes en la computación numérica y científica. \n",
        "\n",
        "- Idealmente, al operar sobre los elementos de un arreglo queremos evitar ciclos explícitos que complican legibilidad y lógica del código. \n",
        "- Operaciones basadas en arreglos (vectorizadas)\n",
        "- Código más conciso y ejecución más rápida"
      ]
    },
    {
      "cell_type": "markdown",
      "metadata": {
        "id": "JFTXz-6RXceD"
      },
      "source": [
        "\n",
        "\n",
        "---\n",
        "\n"
      ]
    },
    {
      "cell_type": "markdown",
      "metadata": {
        "id": "yuHCqI6KXap9"
      },
      "source": [
        "* En Python, NumPy es el \"estándar\" para trabajar con arreglos. \n",
        "* Su núcleo está escrito en C, por lo que es más eficiente en el almacenamiento de datos.\n",
        "* Tiene una implementación de arreglos muy poderosa, de carácter multidimensional.\n",
        "* Engloba funciones de álgebra lineal, transformada de Fourier, etc.\n",
        "\n",
        "# Arreglos (*arrays*) de NumPy\n",
        "\n",
        "* Los arrays de NumPY son estructuras de datos **ordenadas**, de **cantidad fija de elementos** y un tipo de **dato uniforme**.\n",
        "* Son los equivalentes a las matrices y los vectores en álgebra, por lo que se les puede aplicar operaciones.\n",
        "* Por su implementación, son **más eficientes** que otras estructuras de datos nativas de Python. El código, además, es más conciso."
      ]
    },
    {
      "cell_type": "code",
      "execution_count": null,
      "metadata": {
        "id": "HELHHsH53nZx",
        "vscode": {
          "languageId": "python"
        }
      },
      "outputs": [],
      "source": [
        "#Se debe importar la biblioteca NumPy\n",
        "#Por covención se usa el alias np\n",
        "import numpy as np"
      ]
    },
    {
      "cell_type": "code",
      "execution_count": null,
      "metadata": {
        "id": "kvm5mjxwnUtS",
        "vscode": {
          "languageId": "python"
        }
      },
      "outputs": [],
      "source": [
        "#Con el signo de ? podemos consultar la documentación de NumPy\n",
        "np?"
      ]
    },
    {
      "cell_type": "markdown",
      "metadata": {
        "id": "USBKrY9kqjSg"
      },
      "source": [
        "## ¿Por qué se dice que es más conciso y eficiente?"
      ]
    },
    {
      "cell_type": "code",
      "execution_count": null,
      "metadata": {
        "colab": {
          "base_uri": "https://localhost:8080/"
        },
        "id": "orQfovtS3uiA",
        "outputId": "d07efa6e-adb8-4cf1-8416-e9fc1615b61f",
        "vscode": {
          "languageId": "python"
        }
      },
      "outputs": [
        {
          "name": "stdout",
          "output_type": "stream",
          "text": [
            "282 ms ± 7.63 ms per loop (mean ± std. dev. of 7 runs, 10 loops each)\n",
            "2.06 ms ± 113 µs per loop (mean ± std. dev. of 7 runs, 10 loops each)\n"
          ]
        }
      ],
      "source": [
        "array = np.arange(1e6) #Creamos un arreglo de 1 millón de elementos \n",
        "                       #Queremos multiplicar por 5 cada elemento del arreglo\n",
        "\n",
        "lista = list(array) #Lo convertimos en una lista\n",
        "\n",
        "#Medimos el tiempo de 10 loops ejecutados 5 veces\n",
        "\n",
        "%timeit -n10 y = [val*5 for val in lista] #List comprehension, multiplicar por 5 cada valor\n",
        "\n",
        "%timeit -n10 y = array*5 #NumPy ofrece operaciones aplicables directamente sobre el arreglo"
      ]
    },
    {
      "cell_type": "markdown",
      "metadata": {
        "id": "QajI0G8y47NE"
      },
      "source": [
        "## Creación de arreglos\n",
        "\n",
        "Varias funciones sirven para crear arreglos de NumPy, entre ellas las siguientes:\n",
        "\n",
        "| Función | Resultado |\n",
        "| :---: | :---: |\n",
        "| array() | Crea un arreglo con los datos especificados como estructuras de datos|\n",
        "| empty() | Crea un arreglo vacío, con datos \"basura\"|\n",
        "| zeros() | Crea un arreglo de ceros|\n",
        "|ones() | Crea un arreglo de unos|\n",
        "| full() | Crea un arreglo lleno del valor especificado|\n",
        "| arange() | Crea un arreglo de valores indicando un valor inicial, un final y un step|\n",
        "| linspace() | Crea un arreglo de valores indicando un valor inicial, un final y una cantidad deseada|\n",
        "| logspace() |Crea un arreglo de valores con espaciado logarítmico|\n",
        "| geomspace() |Crea un arreglo de valores con espaciado logarítmico en una progresión geométrica|\n",
        "| random() | Crea una matriz de números entre 0.0 y 1.0|\n",
        "\n"
      ]
    },
    {
      "cell_type": "code",
      "execution_count": null,
      "metadata": {
        "colab": {
          "base_uri": "https://localhost:8080/"
        },
        "id": "o-ibktEW5jIM",
        "outputId": "fa078fe6-ba1f-4b76-d864-deffbd1161d2",
        "vscode": {
          "languageId": "python"
        }
      },
      "outputs": [
        {
          "name": "stdout",
          "output_type": "stream",
          "text": [
            "[1 2 3] \n",
            "\n",
            "[[1]\n",
            " [2]\n",
            " [3]] \n",
            "\n",
            "[[1 2]\n",
            " [3 4]] \n",
            "\n",
            "[[0.95193998 0.61784389 0.50353459 0.48612795]\n",
            " [0.26647019 0.15424596 0.30869225 0.0761973 ]\n",
            " [0.73126575 0.97329322 0.98384518 0.43953314]\n",
            " [0.54246392 0.51895266 0.55387516 0.9368823 ]\n",
            " [0.90508272 0.25711813 0.67973616 0.82457005]\n",
            " [0.82984389 0.87943603 0.41162702 0.6414092 ]\n",
            " [0.44232451 0.92263265 0.17228518 0.55932301]]\n"
          ]
        }
      ],
      "source": [
        "arr = np.array([1,2,3]) #Array de dimensiones 1x3\n",
        "print(arr,'\\n')\n",
        "print(np.array([[1],[2],[3]]),'\\n') #Array de dimensiones 3x1\n",
        "print(np.array([[1,2],[3,4]]),'\\n') #Matrix 2x2\n",
        "print(np.random.random([7,4]))"
      ]
    },
    {
      "cell_type": "markdown",
      "metadata": {
        "id": "FDd0RgDk5nyU"
      },
      "source": [
        "* Observe que los arreglos se encierran entre **[]**, pero que al imprimir sus valores no están separados por comas como en las listas.\n",
        "* Las dimensiones siempre se indican como **filas x columnas**.\n",
        "\n",
        "### Crear arreglos con distintos valores iniciales"
      ]
    },
    {
      "cell_type": "code",
      "execution_count": null,
      "metadata": {
        "id": "BEtIVK5dI170",
        "vscode": {
          "languageId": "python"
        }
      },
      "outputs": [],
      "source": [
        "import numpy as np\n",
        "\n",
        "np.empty?"
      ]
    },
    {
      "cell_type": "code",
      "execution_count": null,
      "metadata": {
        "colab": {
          "base_uri": "https://localhost:8080/"
        },
        "id": "9h22GxN_5tjr",
        "outputId": "07f15284-7ee2-4cd9-9dcf-630dbe8de595",
        "vscode": {
          "languageId": "python"
        }
      },
      "outputs": [
        {
          "name": "stdout",
          "output_type": "stream",
          "text": [
            "[[1.47229349e-316 2.47032823e-322 0.00000000e+000 0.00000000e+000]\n",
            " [0.00000000e+000 8.60952352e-072 7.79173371e-091 3.60188541e+175]\n",
            " [1.28306916e+160 9.41819607e-067 3.99910963e+252 1.46030983e-319]] \n",
            "\n",
            "[[3. 3. 3. 3.]\n",
            " [3. 3. 3. 3.]\n",
            " [3. 3. 3. 3.]] \n",
            "\n",
            "[1. 1. 1. 1. 1.] \n",
            "\n",
            "[[inf inf]\n",
            " [inf inf]]\n"
          ]
        }
      ],
      "source": [
        "arr1 = np.empty([3,4]) # Se indican [numero de filas, numero de columnas]\n",
        "print(arr1,'\\n') \n",
        "\n",
        "arr1.fill(3)\n",
        "print(arr1,'\\n')\n",
        "\n",
        "print(np.ones([5]),'\\n') # Si se indica solo un número, supondrá que son columnas\n",
        "\n",
        "print(np.full([2,2],np.inf)) # Crea una matriz rellena de \"infinito\""
      ]
    },
    {
      "cell_type": "markdown",
      "metadata": {
        "id": "_XeuOx2j6NW8"
      },
      "source": [
        "### Arreglos con secuencias incrementales"
      ]
    },
    {
      "cell_type": "markdown",
      "metadata": {
        "id": "XeCuYhn_azxH"
      },
      "source": [
        "Un caso de uso muy común es crear un arreglo incremental desde 0 hasta algún valor arbitrario. \n",
        "\n",
        "- Crearlo manualmente con np.array([0,1,2,...,N]) puede resultar inviable para arreglos muy grandes. \n",
        "\n"
      ]
    },
    {
      "cell_type": "code",
      "execution_count": null,
      "metadata": {
        "id": "ZjvCpcZJbHYX",
        "vscode": {
          "languageId": "python"
        }
      },
      "outputs": [],
      "source": [
        "#La función de construcción arange provee esta funcionalidad. \n",
        "np.arange?"
      ]
    },
    {
      "cell_type": "code",
      "execution_count": null,
      "metadata": {
        "colab": {
          "base_uri": "https://localhost:8080/"
        },
        "id": "NSu4YiMQbWQO",
        "outputId": "96cbdebc-752c-4a0e-c67c-01fa264c1eb2",
        "vscode": {
          "languageId": "python"
        }
      },
      "outputs": [
        {
          "data": {
            "text/plain": [
              "array([ 0,  1,  2,  3,  4,  5,  6,  7,  8,  9, 10, 11, 12, 13, 14, 15, 16,\n",
              "       17, 18, 19, 20, 21, 22, 23, 24, 25, 26, 27, 28, 29, 30, 31, 32, 33,\n",
              "       34, 35, 36, 37, 38, 39, 40, 41, 42, 43, 44, 45, 46, 47, 48, 49, 50,\n",
              "       51, 52, 53, 54, 55, 56, 57, 58, 59, 60, 61, 62, 63, 64, 65, 66, 67,\n",
              "       68, 69, 70, 71, 72, 73, 74, 75, 76, 77, 78, 79, 80, 81, 82, 83, 84,\n",
              "       85, 86, 87, 88, 89, 90, 91, 92, 93, 94, 95, 96, 97, 98, 99])"
            ]
          },
          "execution_count": 5,
          "metadata": {},
          "output_type": "execute_result"
        }
      ],
      "source": [
        "np.arange(100)"
      ]
    },
    {
      "cell_type": "code",
      "execution_count": null,
      "metadata": {
        "colab": {
          "base_uri": "https://localhost:8080/"
        },
        "id": "cMkMWIAqbaWn",
        "outputId": "d5321668-af1e-4fb9-d822-f0652b5bc60a",
        "vscode": {
          "languageId": "python"
        }
      },
      "outputs": [
        {
          "data": {
            "text/plain": [
              "array([50, 51, 52, 53, 54, 55, 56, 57, 58, 59, 60, 61, 62, 63, 64, 65, 66,\n",
              "       67, 68, 69, 70, 71, 72, 73, 74, 75, 76, 77, 78, 79, 80, 81, 82, 83,\n",
              "       84, 85, 86, 87, 88, 89, 90, 91, 92, 93, 94, 95, 96, 97, 98, 99])"
            ]
          },
          "execution_count": 7,
          "metadata": {},
          "output_type": "execute_result"
        }
      ],
      "source": [
        "np.arange(50,100)"
      ]
    },
    {
      "cell_type": "code",
      "execution_count": null,
      "metadata": {
        "colab": {
          "base_uri": "https://localhost:8080/"
        },
        "id": "7nNlee5a6QFE",
        "outputId": "48066acf-96a5-46e3-88fb-912dbd0d8a12",
        "vscode": {
          "languageId": "python"
        }
      },
      "outputs": [
        {
          "data": {
            "text/plain": [
              "array([0. , 1.5, 3. , 4.5, 6. , 7.5, 9. ])"
            ]
          },
          "execution_count": 8,
          "metadata": {},
          "output_type": "execute_result"
        }
      ],
      "source": [
        "#El tercer argumento de arange representa el incremento deseado o step\n",
        "arr2 = np.arange(0,10,1.5) #Arreglo entre 0 y 10 (sin 10), con valores cada 1.5\n",
        "arr2"
      ]
    },
    {
      "cell_type": "code",
      "execution_count": null,
      "metadata": {
        "colab": {
          "base_uri": "https://localhost:8080/"
        },
        "id": "VGkq69SIrWZc",
        "outputId": "9bfb1b9b-e3df-49c6-9001-9e927cc8e86c",
        "vscode": {
          "languageId": "python"
        }
      },
      "outputs": [
        {
          "data": {
            "text/plain": [
              "array([ 0. ,  0.5,  1. ,  1.5,  2. ,  2.5,  3. ,  3.5,  4. ,  4.5,  5. ,\n",
              "        5.5,  6. ,  6.5,  7. ,  7.5,  8. ,  8.5,  9. ,  9.5, 10. ])"
            ]
          },
          "execution_count": 11,
          "metadata": {},
          "output_type": "execute_result"
        }
      ],
      "source": [
        "#El tercer argumento de linspace representa la cantidad de datos deseados en el arreglo\n",
        "arr3 = np.linspace(0,10,21) #Arreglo entre 0 y 10 (con 10), con 11 valores\n",
        "arr3"
      ]
    },
    {
      "cell_type": "markdown",
      "metadata": {
        "id": "WJdOXFdv6U50"
      },
      "source": [
        "### Arreglos matriciales\n",
        "\n",
        "Con las funciones anteriores se pueden crear matrices, pero existen también funciones para crear matrices con características específicas.\n",
        "\n",
        "| Comando | Resultado |\n",
        "| :---: | :---: |\n",
        "| identity() | Crea una matriz identidad|\n",
        "| eye() |Crea una matriz con unos en una diagonal (offset)|\n",
        "| diag() |Crea una matriz con un arreglo arbitrario en la diagonal|\n"
      ]
    },
    {
      "cell_type": "code",
      "execution_count": null,
      "metadata": {
        "colab": {
          "base_uri": "https://localhost:8080/"
        },
        "id": "Kl1wmT7V6WzT",
        "outputId": "dfd2137a-4754-4574-8773-617125991e50",
        "vscode": {
          "languageId": "python"
        }
      },
      "outputs": [
        {
          "data": {
            "text/plain": [
              "array([[1., 0., 0., 0.],\n",
              "       [0., 1., 0., 0.],\n",
              "       [0., 0., 1., 0.],\n",
              "       [0., 0., 0., 1.]])"
            ]
          },
          "execution_count": 12,
          "metadata": {},
          "output_type": "execute_result"
        }
      ],
      "source": [
        "identidad = np.identity(4)\n",
        "identidad"
      ]
    },
    {
      "cell_type": "code",
      "execution_count": null,
      "metadata": {
        "colab": {
          "base_uri": "https://localhost:8080/"
        },
        "id": "oCEoQUIErgCb",
        "outputId": "954f74eb-aa79-4fcd-a5e3-619a48ed7588",
        "vscode": {
          "languageId": "python"
        }
      },
      "outputs": [
        {
          "data": {
            "text/plain": [
              "array([[0., 1., 0., 0.],\n",
              "       [0., 0., 1., 0.],\n",
              "       [0., 0., 0., 1.],\n",
              "       [0., 0., 0., 0.]])"
            ]
          },
          "execution_count": 13,
          "metadata": {},
          "output_type": "execute_result"
        }
      ],
      "source": [
        "offset = np.eye(4, k=1) \n",
        "offset"
      ]
    },
    {
      "cell_type": "code",
      "execution_count": null,
      "metadata": {
        "colab": {
          "base_uri": "https://localhost:8080/"
        },
        "id": "L74PlLcLrjqb",
        "outputId": "8afe43f1-0ade-45d3-8dc0-d8ddfa75716b",
        "vscode": {
          "languageId": "python"
        }
      },
      "outputs": [
        {
          "data": {
            "text/plain": [
              "array([[1, 0, 0, 0],\n",
              "       [0, 2, 0, 0],\n",
              "       [0, 0, 3, 0],\n",
              "       [0, 0, 0, 4]])"
            ]
          },
          "execution_count": 14,
          "metadata": {},
          "output_type": "execute_result"
        }
      ],
      "source": [
        "diagonal = np.diag(np.arange(1,5,1))\n",
        "diagonal"
      ]
    },
    {
      "cell_type": "markdown",
      "metadata": {
        "id": "HIA5cAXy6rz8"
      },
      "source": [
        "### *List comprehension* y creación de arreglos\n",
        "\n",
        "Se puede crear un arreglo a partir de listas directamente obtenidas de *list comprehension*."
      ]
    },
    {
      "cell_type": "code",
      "execution_count": null,
      "metadata": {
        "colab": {
          "base_uri": "https://localhost:8080/"
        },
        "id": "hKpIvkTr6vHL",
        "outputId": "d19411f8-b881-48b5-d88b-1476ccb4a618",
        "vscode": {
          "languageId": "python"
        }
      },
      "outputs": [
        {
          "name": "stdout",
          "output_type": "stream",
          "text": [
            "[20.6116, 712336, 0.0529]\n"
          ]
        },
        {
          "data": {
            "text/plain": [
              "array([2.06116e+01, 7.12336e+05, 5.29000e-02])"
            ]
          },
          "execution_count": 16,
          "metadata": {},
          "output_type": "execute_result"
        }
      ],
      "source": [
        "a = [4.54,844,0.23]\n",
        "print([i**2 for i in a])\n",
        "np.array([i**2 for i in a])"
      ]
    },
    {
      "cell_type": "markdown",
      "metadata": {
        "id": "VYMVrH716zvU"
      },
      "source": [
        "## Comandos útiles para trabajar con arreglos de NumPy\n",
        "\n",
        "Los arreglos de NumPy están acompañados de varias funciones y atributos que permiten manipularlos.\n",
        "\n",
        "| Comando | Resultado |\n",
        "| :---: | :---: |\n",
        "| shape | Retorna una tupla con el número de elementos por dimensión|\n",
        "| ndim | Dice el número de dimensiones|\n",
        "| size | Dice cuántos elementos hay en un arreglo|\n",
        "| dtype | Dice el tipo de datos que guarda un arreglo|\n",
        "| T | Retorna la transpuesta de un arreglo|\n",
        "|flatten() | Retorna el arreglo colapsado en una dimensión|\n",
        "| fill() | Rellena el arreglo con el valor especificado|\n",
        "| reshape() | Retorna un arreglo con el shape especificado|\n",
        "| resize() | Cambia el tamaño y shape del arreglo|\n",
        "| where() | Retorna los índices donde se cumplen las condiciones dadas|"
      ]
    },
    {
      "cell_type": "code",
      "execution_count": null,
      "metadata": {
        "colab": {
          "base_uri": "https://localhost:8080/"
        },
        "id": "IMPxVAjU_v90",
        "outputId": "7b7b33a7-5533-4d24-9f24-10b2b93f8248",
        "vscode": {
          "languageId": "python"
        }
      },
      "outputs": [
        {
          "data": {
            "text/plain": [
              "array([1, 2, 3])"
            ]
          },
          "execution_count": 17,
          "metadata": {},
          "output_type": "execute_result"
        }
      ],
      "source": [
        "arr = np.array([1,2,3]) #Array de dimension 1x3\n",
        "arr"
      ]
    },
    {
      "cell_type": "code",
      "execution_count": null,
      "metadata": {
        "colab": {
          "base_uri": "https://localhost:8080/"
        },
        "id": "vBGwRVKSL6Al",
        "outputId": "d5bc39ca-4640-4640-b283-25813cc39775",
        "vscode": {
          "languageId": "python"
        }
      },
      "outputs": [
        {
          "data": {
            "text/plain": [
              "array([[1],\n",
              "       [2],\n",
              "       [3]])"
            ]
          },
          "execution_count": 18,
          "metadata": {},
          "output_type": "execute_result"
        }
      ],
      "source": [
        "arr.reshape([3,1]) #Otra forma de crear un array 3x1"
      ]
    },
    {
      "cell_type": "markdown",
      "metadata": {
        "id": "xkUf_s_7CE4C"
      },
      "source": [
        "Algunas de estas funciones son muy útiles para entender las características de los objetos con los que estamos trabajando."
      ]
    },
    {
      "cell_type": "code",
      "execution_count": null,
      "metadata": {
        "colab": {
          "base_uri": "https://localhost:8080/"
        },
        "id": "M0MVWUO_7YF3",
        "outputId": "01f7cc72-9728-40c5-ac40-e66ffc179cbf",
        "vscode": {
          "languageId": "python"
        }
      },
      "outputs": [
        {
          "name": "stdout",
          "output_type": "stream",
          "text": [
            "Matriz: \n",
            " [[1. 0. 0.]\n",
            " [0. 1. 0.]\n",
            " [0. 0. 1.]] \n",
            "\n",
            "Número de elementos:  9 \n",
            "\n",
            "Forma (filas,columnas):  (3, 3) \n",
            "\n",
            "Cantidad de dimensiones:  2\n"
          ]
        }
      ],
      "source": [
        "ident = np.identity(3) #Creando una matriz identidad de 3x3\n",
        "\n",
        "print('Matriz: \\n',ident,'\\n')\n",
        "print('Número de elementos: ',ident.size,'\\n')\n",
        "print('Forma (filas,columnas): ',ident.shape, '\\n')\n",
        "print('Cantidad de dimensiones: ', ident.ndim)"
      ]
    },
    {
      "cell_type": "markdown",
      "metadata": {
        "id": "Vi7dbd06ECoZ"
      },
      "source": [
        "Otras nos permiten modificar la estructura del arreglo."
      ]
    },
    {
      "cell_type": "code",
      "execution_count": null,
      "metadata": {
        "colab": {
          "base_uri": "https://localhost:8080/"
        },
        "id": "0vB-u9xaApGj",
        "outputId": "047dcf58-491c-476d-c451-6c27b7c92ad8",
        "vscode": {
          "languageId": "python"
        }
      },
      "outputs": [
        {
          "name": "stdout",
          "output_type": "stream",
          "text": [
            "[[3. 3. 3. 3.]\n",
            " [3. 3. 3. 3.]\n",
            " [3. 3. 3. 3.]]\n"
          ]
        }
      ],
      "source": [
        "print(arr1)"
      ]
    },
    {
      "cell_type": "code",
      "execution_count": null,
      "metadata": {
        "colab": {
          "base_uri": "https://localhost:8080/"
        },
        "id": "ESNvQolRDtMq",
        "outputId": "2dfe2f42-739a-4986-ea76-dfeaf5013c09",
        "vscode": {
          "languageId": "python"
        }
      },
      "outputs": [
        {
          "data": {
            "text/plain": [
              "array([[3., 3.],\n",
              "       [3., 3.],\n",
              "       [3., 3.],\n",
              "       [3., 3.],\n",
              "       [3., 3.],\n",
              "       [3., 3.],\n",
              "       [3., 3.]])"
            ]
          },
          "execution_count": 24,
          "metadata": {},
          "output_type": "execute_result"
        }
      ],
      "source": [
        "np.resize(arr1,(7,2)) #Corta o agrega elementos según el tamaño especificado"
      ]
    },
    {
      "cell_type": "code",
      "execution_count": null,
      "metadata": {
        "colab": {
          "base_uri": "https://localhost:8080/"
        },
        "id": "2uy7Yi3xNwBy",
        "outputId": "1e326a03-1766-42d3-851d-fbce1380f739",
        "vscode": {
          "languageId": "python"
        }
      },
      "outputs": [
        {
          "data": {
            "text/plain": [
              "array([[3., 3., 3., 3.],\n",
              "       [3., 3., 3., 3.],\n",
              "       [3., 3., 3., 3.]])"
            ]
          },
          "execution_count": 25,
          "metadata": {},
          "output_type": "execute_result"
        }
      ],
      "source": [
        "arr1 #resize() no modifica el arreglo original"
      ]
    },
    {
      "cell_type": "markdown",
      "metadata": {
        "id": "U9EsdqNhEG7R"
      },
      "source": [
        "Se pueden hacer operaciones sofisticadas como la búsqueda en arreglos según ciertas condiciones y la aplicación de operaciones sobre los elementos que cumplen la condición."
      ]
    },
    {
      "cell_type": "code",
      "execution_count": null,
      "metadata": {
        "colab": {
          "base_uri": "https://localhost:8080/"
        },
        "id": "yGnaaIhcN3mB",
        "outputId": "33c70cbd-fef4-4bc5-e16d-6de8f8200938",
        "vscode": {
          "languageId": "python"
        }
      },
      "outputs": [
        {
          "data": {
            "text/plain": [
              "array([-5., -4., -3., -2., -1.,  0.,  1.,  2.,  3.,  4.,  5.])"
            ]
          },
          "execution_count": 26,
          "metadata": {},
          "output_type": "execute_result"
        }
      ],
      "source": [
        "original = np.linspace(-5,5,11)\n",
        "original"
      ]
    },
    {
      "cell_type": "code",
      "execution_count": null,
      "metadata": {
        "colab": {
          "base_uri": "https://localhost:8080/"
        },
        "id": "WkG6XICLN9cx",
        "outputId": "120117ef-8106-4e0e-fd69-291c74b2e755",
        "vscode": {
          "languageId": "python"
        }
      },
      "outputs": [
        {
          "data": {
            "text/plain": [
              "(array([0, 1, 2, 3, 4]),)"
            ]
          },
          "execution_count": 27,
          "metadata": {},
          "output_type": "execute_result"
        }
      ],
      "source": [
        "np.where(original < 0) #Retorna los índices donde los valores son menores a cero"
      ]
    },
    {
      "cell_type": "code",
      "execution_count": null,
      "metadata": {
        "id": "mjDYCRiSdDpB",
        "vscode": {
          "languageId": "python"
        }
      },
      "outputs": [],
      "source": [
        "np.where?"
      ]
    },
    {
      "cell_type": "code",
      "execution_count": null,
      "metadata": {
        "colab": {
          "base_uri": "https://localhost:8080/"
        },
        "id": "IdC6ymM98Uds",
        "outputId": "1573fc23-f676-47f9-b405-9955a06fe8e0",
        "vscode": {
          "languageId": "python"
        }
      },
      "outputs": [
        {
          "data": {
            "text/plain": [
              "array([ 25.,  16.,   9.,   4.,   1.,   0.,   1.,   8.,  27.,  64., 125.])"
            ]
          },
          "execution_count": 29,
          "metadata": {},
          "output_type": "execute_result"
        }
      ],
      "source": [
        "#Para los números que cumplen la condición calculamos el cuadrado, para los otros el cubo\n",
        "\n",
        "np.where(original < 0, original**2, original**3)"
      ]
    },
    {
      "cell_type": "code",
      "execution_count": null,
      "metadata": {
        "colab": {
          "base_uri": "https://localhost:8080/"
        },
        "id": "RmKQgS-BOaEJ",
        "outputId": "d12cbec1-f549-458b-80c3-97a3236c1894",
        "vscode": {
          "languageId": "python"
        }
      },
      "outputs": [
        {
          "data": {
            "text/plain": [
              "array([25., 16.,  9.,  4.,  1.,  0.,  1.,  2.,  3.,  4.,  5.])"
            ]
          },
          "execution_count": 30,
          "metadata": {},
          "output_type": "execute_result"
        }
      ],
      "source": [
        "#Tal vez solamente necesitamos calcular el cuadrado de los que cumplen\n",
        "\n",
        "np.where(original < 0, original**2, original)"
      ]
    },
    {
      "cell_type": "markdown",
      "metadata": {
        "id": "lmJNfDYZo9ib"
      },
      "source": [
        "## <font color='purple'>**Ejercicio**</font>\n",
        "\n",
        "Suponga que usted quiere graficar los valores de un modelo que depende de dos variables $X$ y $Y$ usando Python. Para ello, usted desea generar los valores de entrada de $X$ y de $Y$  **en dos columnas separadas de un solo arreglo**, considerando lo siguiente:\n",
        "\n",
        "* El modelo es válido para $300 \\leq X \\leq 540$ y $300 \\leq Y \\leq 540$.\n",
        "* Usted sabe que necesita 100 valores o más de ambas variables para obtener una buena resolución en la respuesta del modelo.\n",
        "\n",
        "¿De qué forma podría crear este arreglo?\n"
      ]
    },
    {
      "cell_type": "code",
      "execution_count": null,
      "metadata": {
        "colab": {
          "base_uri": "https://localhost:8080/"
        },
        "id": "EdJ697HyOxZz",
        "outputId": "eb3476e4-13f6-4ead-b4a5-8f4fbf7ce49e",
        "vscode": {
          "languageId": "python"
        }
      },
      "outputs": [
        {
          "data": {
            "text/plain": [
              "array([[300.        , 301.0041841 ],\n",
              "       [302.0083682 , 303.0125523 ],\n",
              "       [304.0167364 , 305.0209205 ],\n",
              "       [306.0251046 , 307.0292887 ],\n",
              "       [308.0334728 , 309.0376569 ],\n",
              "       [310.041841  , 311.0460251 ],\n",
              "       [312.05020921, 313.05439331],\n",
              "       [314.05857741, 315.06276151],\n",
              "       [316.06694561, 317.07112971],\n",
              "       [318.07531381, 319.07949791],\n",
              "       [320.08368201, 321.08786611],\n",
              "       [322.09205021, 323.09623431],\n",
              "       [324.10041841, 325.10460251],\n",
              "       [326.10878661, 327.11297071],\n",
              "       [328.11715481, 329.12133891],\n",
              "       [330.12552301, 331.12970711],\n",
              "       [332.13389121, 333.13807531],\n",
              "       [334.14225941, 335.14644351],\n",
              "       [336.15062762, 337.15481172],\n",
              "       [338.15899582, 339.16317992],\n",
              "       [340.16736402, 341.17154812],\n",
              "       [342.17573222, 343.17991632],\n",
              "       [344.18410042, 345.18828452],\n",
              "       [346.19246862, 347.19665272],\n",
              "       [348.20083682, 349.20502092],\n",
              "       [350.20920502, 351.21338912],\n",
              "       [352.21757322, 353.22175732],\n",
              "       [354.22594142, 355.23012552],\n",
              "       [356.23430962, 357.23849372],\n",
              "       [358.24267782, 359.24686192],\n",
              "       [360.25104603, 361.25523013],\n",
              "       [362.25941423, 363.26359833],\n",
              "       [364.26778243, 365.27196653],\n",
              "       [366.27615063, 367.28033473],\n",
              "       [368.28451883, 369.28870293],\n",
              "       [370.29288703, 371.29707113],\n",
              "       [372.30125523, 373.30543933],\n",
              "       [374.30962343, 375.31380753],\n",
              "       [376.31799163, 377.32217573],\n",
              "       [378.32635983, 379.33054393],\n",
              "       [380.33472803, 381.33891213],\n",
              "       [382.34309623, 383.34728033],\n",
              "       [384.35146444, 385.35564854],\n",
              "       [386.35983264, 387.36401674],\n",
              "       [388.36820084, 389.37238494],\n",
              "       [390.37656904, 391.38075314],\n",
              "       [392.38493724, 393.38912134],\n",
              "       [394.39330544, 395.39748954],\n",
              "       [396.40167364, 397.40585774],\n",
              "       [398.41004184, 399.41422594],\n",
              "       [400.41841004, 401.42259414],\n",
              "       [402.42677824, 403.43096234],\n",
              "       [404.43514644, 405.43933054],\n",
              "       [406.44351464, 407.44769874],\n",
              "       [408.45188285, 409.45606695],\n",
              "       [410.46025105, 411.46443515],\n",
              "       [412.46861925, 413.47280335],\n",
              "       [414.47698745, 415.48117155],\n",
              "       [416.48535565, 417.48953975],\n",
              "       [418.49372385, 419.49790795],\n",
              "       [420.50209205, 421.50627615],\n",
              "       [422.51046025, 423.51464435],\n",
              "       [424.51882845, 425.52301255],\n",
              "       [426.52719665, 427.53138075],\n",
              "       [428.53556485, 429.53974895],\n",
              "       [430.54393305, 431.54811715],\n",
              "       [432.55230126, 433.55648536],\n",
              "       [434.56066946, 435.56485356],\n",
              "       [436.56903766, 437.57322176],\n",
              "       [438.57740586, 439.58158996],\n",
              "       [440.58577406, 441.58995816],\n",
              "       [442.59414226, 443.59832636],\n",
              "       [444.60251046, 445.60669456],\n",
              "       [446.61087866, 447.61506276],\n",
              "       [448.61924686, 449.62343096],\n",
              "       [450.62761506, 451.63179916],\n",
              "       [452.63598326, 453.64016736],\n",
              "       [454.64435146, 455.64853556],\n",
              "       [456.65271967, 457.65690377],\n",
              "       [458.66108787, 459.66527197],\n",
              "       [460.66945607, 461.67364017],\n",
              "       [462.67782427, 463.68200837],\n",
              "       [464.68619247, 465.69037657],\n",
              "       [466.69456067, 467.69874477],\n",
              "       [468.70292887, 469.70711297],\n",
              "       [470.71129707, 471.71548117],\n",
              "       [472.71966527, 473.72384937],\n",
              "       [474.72803347, 475.73221757],\n",
              "       [476.73640167, 477.74058577],\n",
              "       [478.74476987, 479.74895397],\n",
              "       [480.75313808, 481.75732218],\n",
              "       [482.76150628, 483.76569038],\n",
              "       [484.76987448, 485.77405858],\n",
              "       [486.77824268, 487.78242678],\n",
              "       [488.78661088, 489.79079498],\n",
              "       [490.79497908, 491.79916318],\n",
              "       [492.80334728, 493.80753138],\n",
              "       [494.81171548, 495.81589958],\n",
              "       [496.82008368, 497.82426778],\n",
              "       [498.82845188, 499.83263598],\n",
              "       [500.83682008, 501.84100418],\n",
              "       [502.84518828, 503.84937238],\n",
              "       [504.85355649, 505.85774059],\n",
              "       [506.86192469, 507.86610879],\n",
              "       [508.87029289, 509.87447699],\n",
              "       [510.87866109, 511.88284519],\n",
              "       [512.88702929, 513.89121339],\n",
              "       [514.89539749, 515.89958159],\n",
              "       [516.90376569, 517.90794979],\n",
              "       [518.91213389, 519.91631799],\n",
              "       [520.92050209, 521.92468619],\n",
              "       [522.92887029, 523.93305439],\n",
              "       [524.93723849, 525.94142259],\n",
              "       [526.94560669, 527.94979079],\n",
              "       [528.9539749 , 529.958159  ],\n",
              "       [530.9623431 , 531.9665272 ],\n",
              "       [532.9707113 , 533.9748954 ],\n",
              "       [534.9790795 , 535.9832636 ],\n",
              "       [536.9874477 , 537.9916318 ],\n",
              "       [538.9958159 , 540.        ]])"
            ]
          },
          "execution_count": 32,
          "metadata": {},
          "output_type": "execute_result"
        }
      ],
      "source": [
        "import numpy as np\n",
        "\n",
        "entradas = np.linspace(300,540,240).reshape([120,2])\n",
        "entradas"
      ]
    },
    {
      "cell_type": "markdown",
      "metadata": {
        "id": "Rg--ARE_8dt0"
      },
      "source": [
        "## Operaciones con arreglos de NumPy\n",
        "\n",
        "* Se pueden hacer operaciones tanto con escalares como entre matrices y vectores.\n",
        "* Estas operaciones se realizan según las reglas de álgebra lineal."
      ]
    },
    {
      "cell_type": "code",
      "execution_count": null,
      "metadata": {
        "colab": {
          "base_uri": "https://localhost:8080/"
        },
        "id": "K-4Tv9DBLLdl",
        "outputId": "56a2b0e4-0887-41cc-b111-2f96984254ea",
        "vscode": {
          "languageId": "python"
        }
      },
      "outputs": [
        {
          "name": "stdout",
          "output_type": "stream",
          "text": [
            "[[2 4]\n",
            " [6 8]] \n",
            "\n",
            " [[0.5 1. ]\n",
            " [1.5 2. ]] \n",
            "\n",
            " [[-9 -8]\n",
            " [-7 -6]] \n",
            "\n",
            " [[6 7]\n",
            " [8 9]] \n",
            "\n"
          ]
        }
      ],
      "source": [
        "arr = np.array([[1,2],[3,4]])\n",
        "\n",
        "print(arr*2, '\\n\\n', arr/2, '\\n\\n', arr-10,'\\n\\n', arr+5, '\\n') #Elemento por elemento"
      ]
    },
    {
      "cell_type": "code",
      "execution_count": null,
      "metadata": {
        "colab": {
          "base_uri": "https://localhost:8080/"
        },
        "id": "HosH2r6t8q_r",
        "outputId": "0c0581ef-bc0d-4582-c1ae-8cf3cf75e389",
        "vscode": {
          "languageId": "python"
        }
      },
      "outputs": [
        {
          "data": {
            "text/plain": [
              "array([[2, 4],\n",
              "       [6, 8]])"
            ]
          },
          "execution_count": 34,
          "metadata": {},
          "output_type": "execute_result"
        }
      ],
      "source": [
        "arr * np.full([2,2],2) # Multiplicación de arreglos"
      ]
    },
    {
      "cell_type": "code",
      "execution_count": null,
      "metadata": {
        "colab": {
          "base_uri": "https://localhost:8080/"
        },
        "id": "avFdfjI0LeW8",
        "outputId": "12922779-9674-4f8b-db72-c59b3bddae87",
        "vscode": {
          "languageId": "python"
        }
      },
      "outputs": [
        {
          "data": {
            "text/plain": [
              "array([[1., 2.],\n",
              "       [3., 4.]])"
            ]
          },
          "execution_count": 35,
          "metadata": {},
          "output_type": "execute_result"
        }
      ],
      "source": [
        "arr.dot(np.identity(2)) # Multiplicación de matrices "
      ]
    },
    {
      "cell_type": "markdown",
      "metadata": {
        "id": "SkashJmKcYNK"
      },
      "source": [
        "## <font color='purple'> **Analicemos las funciones de NumPy vistas hasta ahora. ¿Cómo crearía un arreglo de elementos aleatorios tipo float entre 0 y 100?**</font>"
      ]
    },
    {
      "cell_type": "markdown",
      "metadata": {
        "id": "A6GE8pHz8vVc"
      },
      "source": [
        "### Operadores de reducción\n",
        "\n",
        "En general, son operaciones que tienen como objetivo reducir las dimensiones del arreglo. *Ejemplo*: Producto punto.\n",
        "\n",
        "| Comando | Resultado que retorna |\n",
        "|:----------:|:------------:|\n",
        "| argmax() | Índice donde ocurren los valores máximos |\n",
        "| min()    | Valor mínimo |\n",
        "| argmin() | Índice donde ocurren los valores mínimos |\n",
        "| conj()   | Conjugado complejo de todos los elementos |\\\n",
        "| round()  | Valor redondeado de cada elemento |\n",
        "| trace()  | Suma de las diagonales del arreglo |\n",
        "| sum()    | Suma del arreglo |\n",
        "| cumsum() | Suma acumulativa |\n",
        "| mean()   | Media aritmética |\n",
        "| var()    | Varianza|\n",
        "| std()    | Desviación estándar |\n",
        "| prod()   | Producto |\n",
        "| cumprod()| Producto acumulativo |\n"
      ]
    },
    {
      "cell_type": "code",
      "execution_count": null,
      "metadata": {
        "colab": {
          "base_uri": "https://localhost:8080/"
        },
        "id": "_ANBIV0QbWCC",
        "outputId": "ecdeebdf-177b-4cd1-d614-54766d99060d",
        "vscode": {
          "languageId": "python"
        }
      },
      "outputs": [
        {
          "data": {
            "text/plain": [
              "array([[ 1,  2,  3,  4],\n",
              "       [ 5,  6,  7,  8],\n",
              "       [ 9, 10, 11, 12]])"
            ]
          },
          "execution_count": 36,
          "metadata": {},
          "output_type": "execute_result"
        }
      ],
      "source": [
        "a = np.array([[1,2,3,4], [5,6,7,8], [9,10,11,12]])\n",
        "a"
      ]
    },
    {
      "cell_type": "code",
      "execution_count": null,
      "metadata": {
        "colab": {
          "base_uri": "https://localhost:8080/"
        },
        "id": "5gl7tjuaQcv1",
        "outputId": "12de95dc-7d5e-466a-e6c5-54173c326762",
        "vscode": {
          "languageId": "python"
        }
      },
      "outputs": [
        {
          "data": {
            "text/plain": [
              "479001600"
            ]
          },
          "execution_count": 37,
          "metadata": {},
          "output_type": "execute_result"
        }
      ],
      "source": [
        "a.prod() #Producto de todos los elementos de un arreglo"
      ]
    },
    {
      "cell_type": "code",
      "execution_count": null,
      "metadata": {
        "colab": {
          "base_uri": "https://localhost:8080/"
        },
        "id": "dEYOzM7JQlY8",
        "outputId": "ae36bd08-b5d5-4795-ed0b-0cea12dfd52c",
        "vscode": {
          "languageId": "python"
        }
      },
      "outputs": [
        {
          "data": {
            "text/plain": [
              "array([[1. +2.j, 2. +2.j],\n",
              "       [1. -2.j, 5.-12.j]])"
            ]
          },
          "execution_count": 38,
          "metadata": {},
          "output_type": "execute_result"
        }
      ],
      "source": [
        "b = np.array([[1+2j,2+2j],[1-2j,5-12j]])\n",
        "b"
      ]
    },
    {
      "cell_type": "code",
      "execution_count": null,
      "metadata": {
        "colab": {
          "base_uri": "https://localhost:8080/"
        },
        "id": "OkYep1lZbvIT",
        "outputId": "47022eee-c580-445c-9c1a-929c118f846a",
        "vscode": {
          "languageId": "python"
        }
      },
      "outputs": [
        {
          "data": {
            "text/plain": [
              "array([[1. -2.j, 2. -2.j],\n",
              "       [1. +2.j, 5.+12.j]])"
            ]
          },
          "execution_count": 39,
          "metadata": {},
          "output_type": "execute_result"
        }
      ],
      "source": [
        "b.conj() #Conjugado del complejo"
      ]
    },
    {
      "cell_type": "code",
      "execution_count": null,
      "metadata": {
        "colab": {
          "base_uri": "https://localhost:8080/"
        },
        "id": "ycFlNZc49Ob7",
        "outputId": "4aa09398-cf9e-4e49-ce4e-85554a5233dc",
        "vscode": {
          "languageId": "python"
        }
      },
      "outputs": [
        {
          "name": "stdout",
          "output_type": "stream",
          "text": [
            "Media:  392.84999999999997\n",
            "Desviación estándar:  12.48384556136449\n"
          ]
        }
      ],
      "source": [
        "datos = np.array([402.23,384.60,384.21,409.58,374.42,402.06])\n",
        "\n",
        "#Estadísticos descriptivos\n",
        "\n",
        "print('Media: ', np.mean(datos))\n",
        "print('Desviación estándar: ',np.std(datos))  "
      ]
    },
    {
      "cell_type": "markdown",
      "metadata": {
        "id": "w-lnVyiv9jVs"
      },
      "source": [
        "## Indexación y slicing\n",
        "\n",
        "* Se puede acceder al índice o posición del elemento de un array con la sintaxis **[fila,columna]**.\n",
        "* El slicing se consigue con **[inicio:final:step,inicio:final:step]** en el orden **[filas,columnas]**."
      ]
    },
    {
      "cell_type": "code",
      "execution_count": null,
      "metadata": {
        "colab": {
          "base_uri": "https://localhost:8080/"
        },
        "id": "H4lYevbZ9t76",
        "outputId": "f4cbfde1-e49d-40ee-eb19-c9fdc98db3a3",
        "vscode": {
          "languageId": "python"
        }
      },
      "outputs": [
        {
          "name": "stdout",
          "output_type": "stream",
          "text": [
            "[[ 1  2  3  4]\n",
            " [ 5  6  7  8]\n",
            " [ 9 10 11 12]] \n",
            "\n"
          ]
        }
      ],
      "source": [
        "print(a,'\\n')\n",
        "\n",
        "#a[:2,0:4:2]\n",
        "\n"
      ]
    },
    {
      "cell_type": "markdown",
      "metadata": {
        "id": "TVn5O-MvgYMp"
      },
      "source": [
        "¡Cuidado! Al hacer *slicing*, no se copian los datos subyacentes."
      ]
    },
    {
      "cell_type": "code",
      "execution_count": null,
      "metadata": {
        "colab": {
          "base_uri": "https://localhost:8080/"
        },
        "id": "WfMwM_3I9wca",
        "outputId": "4e080dfa-2f1d-429e-eaf6-3800dcada48f",
        "vscode": {
          "languageId": "python"
        }
      },
      "outputs": [
        {
          "data": {
            "text/plain": [
              "array([1, 2, 3])"
            ]
          },
          "execution_count": 47,
          "metadata": {},
          "output_type": "execute_result"
        }
      ],
      "source": [
        "original = np.array([1,2,3])\n",
        "original"
      ]
    },
    {
      "cell_type": "code",
      "execution_count": null,
      "metadata": {
        "colab": {
          "base_uri": "https://localhost:8080/"
        },
        "id": "p1PHff6U93c6",
        "outputId": "7b835caa-5599-43d2-e2af-47e48d9b21f2",
        "vscode": {
          "languageId": "python"
        }
      },
      "outputs": [
        {
          "data": {
            "text/plain": [
              "array([1, 2])"
            ]
          },
          "execution_count": 48,
          "metadata": {},
          "output_type": "execute_result"
        }
      ],
      "source": [
        "trozo = original[:2]\n",
        "trozo"
      ]
    },
    {
      "cell_type": "code",
      "execution_count": null,
      "metadata": {
        "colab": {
          "base_uri": "https://localhost:8080/"
        },
        "id": "QyaWoDoZ95TS",
        "outputId": "3df28658-8dc0-45b9-fa1a-a7b3163997dc",
        "vscode": {
          "languageId": "python"
        }
      },
      "outputs": [
        {
          "data": {
            "text/plain": [
              "array([9, 2])"
            ]
          },
          "execution_count": 49,
          "metadata": {},
          "output_type": "execute_result"
        }
      ],
      "source": [
        "trozo[0] = 9\n",
        "trozo"
      ]
    },
    {
      "cell_type": "code",
      "execution_count": null,
      "metadata": {
        "colab": {
          "base_uri": "https://localhost:8080/"
        },
        "id": "WkK9POqs99FK",
        "outputId": "2646a4cb-25db-4518-c260-11884d35d4b8",
        "vscode": {
          "languageId": "python"
        }
      },
      "outputs": [
        {
          "data": {
            "text/plain": [
              "array([9, 2, 3])"
            ]
          },
          "execution_count": 50,
          "metadata": {},
          "output_type": "execute_result"
        }
      ],
      "source": [
        "original #¡Cambiamos el arreglo original!"
      ]
    },
    {
      "cell_type": "markdown",
      "metadata": {
        "id": "3YWOORCJf2TD"
      },
      "source": [
        "Los subarreglos que se extraen a través de *slicing* son vistas (views) de los datos originales. Hacen referencia a los mismos datos en memoria. \n",
        "\n"
      ]
    },
    {
      "cell_type": "code",
      "execution_count": null,
      "metadata": {
        "colab": {
          "base_uri": "https://localhost:8080/"
        },
        "id": "HCm3ADdsgKhJ",
        "outputId": "3f3c1bd2-cab2-462d-94dc-ec03ba94b6df",
        "vscode": {
          "languageId": "python"
        }
      },
      "outputs": [
        {
          "name": "stdout",
          "output_type": "stream",
          "text": [
            "[1 2 3]\n",
            "[9 2]\n"
          ]
        }
      ],
      "source": [
        "original = np.array([1,2,3])\n",
        "trozo = original[:2]\n",
        "\n",
        "modificado = np.copy(trozo)\n",
        "modificado[0] = 9\n",
        "\n",
        "print(original)\n",
        "print(modificado)"
      ]
    },
    {
      "cell_type": "markdown",
      "metadata": {
        "id": "M1jiyXDx-Dqb"
      },
      "source": [
        "## Manejo de archivos con NumPy\n",
        "\n",
        "* NumPy permite cargar datos de un archivo de texto con la función. Los datos se guardan en un array.\n",
        "* **loadtxt()** es una de las funciones más usadas.\n",
        "\n"
      ]
    },
    {
      "cell_type": "code",
      "execution_count": null,
      "metadata": {
        "id": "jjHkChMl-aLS",
        "vscode": {
          "languageId": "python"
        }
      },
      "outputs": [],
      "source": [
        "datos = np.loadtxt(open('entrada.csv','r'),delimiter=',')"
      ]
    },
    {
      "cell_type": "code",
      "execution_count": null,
      "metadata": {
        "colab": {
          "base_uri": "https://localhost:8080/"
        },
        "id": "LXKR7t_eWHzV",
        "outputId": "aa9e55ab-c9ce-41da-8219-7016ac5c7639",
        "vscode": {
          "languageId": "python"
        }
      },
      "outputs": [
        {
          "data": {
            "text/plain": [
              "array([[0.56445312, 0.7857666 , 0.66238403, 0.381073  , 0.76885986],\n",
              "       [0.70596313, 0.89736938, 0.90246582, 0.88717651, 0.21951294],\n",
              "       [0.00320435, 0.88973999, 0.27859497, 0.18301392, 0.10778809],\n",
              "       [0.36602783, 0.15338135, 0.62615967,        nan, 0.98999023],\n",
              "       [0.19818115, 0.00131226, 0.20666504, 0.55252075, 0.71081543],\n",
              "       [0.90380859, 0.05490112, 0.70968628, 0.02615356, 0.91934204],\n",
              "       [0.15689087, 0.85852051, 0.51434326, 0.75436401, 0.4425354 ],\n",
              "       [0.56121826, 0.93249512, 0.30606079, 0.21484375, 0.42486572],\n",
              "       [0.41104126, 0.82803345, 0.27801514,        nan, 0.85632324],\n",
              "       [0.84790039, 0.80950928, 0.49990845, 0.05026245, 0.99301147]])"
            ]
          },
          "execution_count": 55,
          "metadata": {},
          "output_type": "execute_result"
        }
      ],
      "source": [
        "datos"
      ]
    },
    {
      "cell_type": "code",
      "execution_count": null,
      "metadata": {
        "colab": {
          "base_uri": "https://localhost:8080/"
        },
        "id": "eOFpWqsGSILx",
        "outputId": "a232a057-4df2-4b8c-ec1e-575ab9a91959",
        "vscode": {
          "languageId": "python"
        }
      },
      "outputs": [
        {
          "data": {
            "text/plain": [
              "array([[0.75130096, 0.88643477, 0.81386979, 0.6173111 , 0.87684654],\n",
              "       [0.84021612, 0.94729583, 0.94998201, 0.94190048, 0.46852208],\n",
              "       [0.05660694, 0.9432603 , 0.52782096, 0.42780126, 0.32831096],\n",
              "       [0.60500234, 0.39163931, 0.79130251,        nan, 0.99498253],\n",
              "       [0.44517542, 0.03622507, 0.45460427, 0.7433174 , 0.84309871],\n",
              "       [0.95068848, 0.23430989, 0.8424288 , 0.16172064, 0.95882326],\n",
              "       [0.39609452, 0.92656382, 0.71717729, 0.86854131, 0.66523334],\n",
              "       [0.74914502, 0.96565787, 0.55322761, 0.46351241, 0.65181725],\n",
              "       [0.641125  , 0.90996343, 0.52727141,        nan, 0.92537735],\n",
              "       [0.92081507, 0.89972733, 0.70704204, 0.22419289, 0.99649961]])"
            ]
          },
          "execution_count": 56,
          "metadata": {},
          "output_type": "execute_result"
        }
      ],
      "source": [
        "np.sqrt(datos)"
      ]
    },
    {
      "cell_type": "markdown",
      "metadata": {
        "id": "Dkhe-laY-j48"
      },
      "source": [
        "Con **skiprows** se puede omitir tantas filas como se desee."
      ]
    },
    {
      "cell_type": "code",
      "execution_count": null,
      "metadata": {
        "colab": {
          "base_uri": "https://localhost:8080/"
        },
        "id": "Zl_WkifC-cRy",
        "outputId": "a30d66be-3140-4188-e324-0a20251d34cd",
        "vscode": {
          "languageId": "python"
        }
      },
      "outputs": [
        {
          "data": {
            "text/plain": [
              "array([[0.19818115, 0.00131226, 0.20666504, 0.55252075, 0.71081543],\n",
              "       [0.90380859, 0.05490112, 0.70968628, 0.02615356, 0.91934204],\n",
              "       [0.15689087, 0.85852051, 0.51434326, 0.75436401, 0.4425354 ],\n",
              "       [0.56121826, 0.93249512, 0.30606079, 0.21484375, 0.42486572],\n",
              "       [0.41104126, 0.82803345, 0.27801514,        nan, 0.85632324],\n",
              "       [0.84790039, 0.80950928, 0.49990845, 0.05026245, 0.99301147]])"
            ]
          },
          "execution_count": 57,
          "metadata": {},
          "output_type": "execute_result"
        }
      ],
      "source": [
        "datos = np.loadtxt(open('entrada.csv','r'),delimiter=',',skiprows=4) #Ignora las primeras 4 filas\n",
        "datos"
      ]
    },
    {
      "cell_type": "markdown",
      "metadata": {
        "id": "bWANdpa2-qlz"
      },
      "source": [
        "### Archivos con encabezados\n",
        "\n",
        "Para cargar datos con encabezados en las columnas se utiliza **genfromtxt()**. Con esta función también se pueden leer archivos sin encabezado usando **names=False**."
      ]
    },
    {
      "cell_type": "code",
      "execution_count": null,
      "metadata": {
        "colab": {
          "base_uri": "https://localhost:8080/"
        },
        "id": "b1a9-yue-xe6",
        "outputId": "ac091273-f4ba-479b-e5c5-6cbcbc8c8596",
        "vscode": {
          "languageId": "python"
        }
      },
      "outputs": [
        {
          "data": {
            "text/plain": [
              "array([(1990.,  5.,  6.,  1., 56., 3., 9.7489, -83.7534),\n",
              "       (1991.,  4., 30.,  1., 55., 5., 9.7489, -83.7534),\n",
              "       (1992.,  8., 31.,  2., 44., 3., 9.7489, -83.7534),\n",
              "       (1993.,  7.,  3.,  3., 21., 4., 9.7489, -83.7534),\n",
              "       (1993.,  9., 24.,  4., 39., 5., 9.7489, -83.7534),\n",
              "       (1993., 11., 15.,  5., 17., 3., 9.7489, -83.7534),\n",
              "       (1993.,  1., 16.,  8., 45., 7., 9.7489, -83.7534),\n",
              "       (1997.,  2., 22.,  9., 44., 4., 9.7489, -83.7534),\n",
              "       (1998.,  3., 12., 15., 54., 2., 9.7489, -83.7534),\n",
              "       (1999., 11., 13., 15., 21., 3., 9.7489, -83.7534),\n",
              "       (2000.,  2., 14., 16., 10., 8., 9.7489, -83.7534)],\n",
              "      dtype=[('anio', '<f8'), ('mes', '<f8'), ('dia', '<f8'), ('hora', '<f8'), ('minuto', '<f8'), ('escala', '<f8'), ('latitud', '<f8'), ('longitud', '<f8')])"
            ]
          },
          "execution_count": 58,
          "metadata": {},
          "output_type": "execute_result"
        }
      ],
      "source": [
        "datos = np.genfromtxt('sismos.csv', dtype=float, delimiter=',', names=True)\n",
        "datos"
      ]
    },
    {
      "cell_type": "markdown",
      "metadata": {
        "id": "RvNQvOnj-z6L"
      },
      "source": [
        " * Se puede acceder a los nombres con el atributo **dtype.names**.\n",
        " * Para conocer los datos se puede usar el nombre de las columnas en vez del índice."
      ]
    },
    {
      "cell_type": "code",
      "execution_count": null,
      "metadata": {
        "colab": {
          "base_uri": "https://localhost:8080/"
        },
        "id": "NCV81WnM-zDa",
        "outputId": "eaf227fa-6e2f-46a3-b49f-c94f349a1a05",
        "vscode": {
          "languageId": "python"
        }
      },
      "outputs": [
        {
          "data": {
            "text/plain": [
              "('anio', 'mes', 'dia', 'hora', 'minuto', 'escala', 'latitud', 'longitud')"
            ]
          },
          "execution_count": 59,
          "metadata": {},
          "output_type": "execute_result"
        }
      ],
      "source": [
        "datos.dtype.names"
      ]
    },
    {
      "cell_type": "code",
      "execution_count": null,
      "metadata": {
        "colab": {
          "base_uri": "https://localhost:8080/"
        },
        "id": "M7adEjvGTTjn",
        "outputId": "4ab71ddb-6415-4159-efa6-9205e7728d7a",
        "vscode": {
          "languageId": "python"
        }
      },
      "outputs": [
        {
          "data": {
            "text/plain": [
              "array([3., 5., 3., 4., 5., 3., 7., 4., 2., 3., 8.])"
            ]
          },
          "execution_count": 60,
          "metadata": {},
          "output_type": "execute_result"
        }
      ],
      "source": [
        "datos['escala']"
      ]
    },
    {
      "cell_type": "markdown",
      "metadata": {
        "id": "F2KYejOF--Vb"
      },
      "source": [
        "### Guardar datos\n",
        "**savetxt()** sirve para guardar datos."
      ]
    },
    {
      "cell_type": "code",
      "execution_count": null,
      "metadata": {
        "id": "oaIKl5np-7-6",
        "vscode": {
          "languageId": "python"
        }
      },
      "outputs": [],
      "source": [
        "arr = np.arange(0, 1000, 0.01)"
      ]
    },
    {
      "cell_type": "code",
      "execution_count": null,
      "metadata": {
        "id": "4YupjLQWTnXU",
        "vscode": {
          "languageId": "python"
        }
      },
      "outputs": [],
      "source": [
        "np.savetxt('salida.csv',arr, delimiter=',', fmt='%.2f') #fmt indica el formato de los decimales para cada float"
      ]
    }
  ],
  "metadata": {
    "colab": {
      "collapsed_sections": [],
      "provenance": []
    },
    "kernelspec": {
      "display_name": "Python 3",
      "name": "python3"
    }
  },
  "nbformat": 4,
  "nbformat_minor": 0
}
