{
  "cells": [
    {
      "attachments": {},
      "cell_type": "markdown",
      "metadata": {
        "id": "Qbs1H-YCQSMh"
      },
      "source": [
        "# Herramientas de computación científica con SciPy \n",
        "\n",
        "<center> <img src=\"https://drive.google.com/uc?export=view&id=1QpoDoKHdtIqY4OWLL7dbv4M6YfiVrSER\" alt=\"image info\" width=\"400\"/> </center>\n",
        "\n",
        "\"*SciPy (pronounced “Sigh Pie”) is a Python-based ecosystem of open-source software for mathematics, science, and engineering.*\" —http://www.scipy.org\n",
        "       \n",
        "    \n",
        "* Contiene funciones que ayudan a abordar problemas comunes de la computación científica.\n",
        "* Trabaja en conjunto con NumPy.\n",
        "* Entre sus módulos están:\n",
        "    \n",
        "|Nombre|Funciones relacionadas|\n",
        "| :---: | :---: |\n",
        "|misc|Funciones no clasificadas|\n",
        "|special|Funciones especiales|\n",
        "|fftpack|Transformada de Fourier|\n",
        "|integrate|Integración y ecuaciones diferenciales|\n",
        "|interpolate|Interpolación|\n",
        "|io|Input/Output, entrada y salida de datos|\n",
        "|linalg|Álgebra lineal|\n",
        "|ndimage|Imágenes n-dimensionales|\n",
        "|optimize|Optimización|\n",
        "|signal|Procesamiento de señales|\n",
        "|stats|Estadística|\n",
        "|spatial|Estructuras de datos espaciales|\n",
        "|constants|Constante matemáticas y físicas|\n",
        "    \n",
        "### Antes de implementar una rutina en su código, verifique si no existe ya una implementación en SciPy.\n",
        "\n",
        "- Los submódulos son independientes entre si. \n",
        "\n",
        "# Módulo scipy.linalg: Álgebra lineal\n",
        "    \n",
        "- Tiene operaciones *built-in* para trabajar con matrices.\n",
        "- Posee métodos para calcular productos matriciales, de Kronecker, internos y externos, entre otros.\n",
        "- Podemos determinar los valores propios y calcular funciones trigonométricas para matrices.\n",
        "- También tiene funciones para crear matrices especiales. *Ejemplo:* circulante, convolución."
      ]
    },
    {
      "cell_type": "code",
      "execution_count": null,
      "metadata": {
        "id": "L8Tm8ioeSMm4",
        "vscode": {
          "languageId": "python"
        }
      },
      "outputs": [],
      "source": [
        "import numpy as np\n",
        "from scipy import linalg as la"
      ]
    },
    {
      "cell_type": "code",
      "execution_count": null,
      "metadata": {
        "id": "GVU_ITH-SOw6",
        "vscode": {
          "languageId": "python"
        }
      },
      "outputs": [],
      "source": [
        "matriz = np.array([[1,2],[3,4]])"
      ]
    },
    {
      "cell_type": "code",
      "execution_count": null,
      "metadata": {
        "id": "tkOdjA7JXeg5",
        "vscode": {
          "languageId": "python"
        }
      },
      "outputs": [],
      "source": [
        "la.det(matriz) #Calcula el determinante de una matriz cuadrada"
      ]
    },
    {
      "cell_type": "code",
      "execution_count": null,
      "metadata": {
        "id": "AK5Ns7wIXjqP",
        "vscode": {
          "languageId": "python"
        }
      },
      "outputs": [],
      "source": [
        "la.inv(matriz) #Calcula la inversa de una matriz cuadrada"
      ]
    },
    {
      "cell_type": "code",
      "execution_count": null,
      "metadata": {
        "id": "lZj4pq0QSQuu",
        "vscode": {
          "languageId": "python"
        }
      },
      "outputs": [],
      "source": [
        "vector = np.array([2,2,1])\n",
        "la.norm(vector) #Calcula la norma del vector"
      ]
    },
    {
      "cell_type": "markdown",
      "metadata": {
        "id": "OQvc-mwvobtE"
      },
      "source": [
        "También es posible calcular diferentes normas para un mismo arreglo."
      ]
    },
    {
      "cell_type": "code",
      "execution_count": null,
      "metadata": {
        "id": "wFIum_cTogwT",
        "vscode": {
          "languageId": "python"
        }
      },
      "outputs": [],
      "source": [
        "?la.norm"
      ]
    },
    {
      "cell_type": "code",
      "execution_count": null,
      "metadata": {
        "id": "FJCgOkYNozZz",
        "vscode": {
          "languageId": "python"
        }
      },
      "outputs": [],
      "source": [
        "vector2 = np.array([[2,2,1],[3,4,1]])\n",
        "la.norm(vector2, axis= 0) #Norma a lo largo de las columnas"
      ]
    },
    {
      "cell_type": "markdown",
      "metadata": {
        "id": "Fx5Yt90dSUjZ"
      },
      "source": [
        "## Solución de sistemas de ecuaciones\n",
        "\n",
        "Un problema común es la resolución de sistemas lineales de tipo $$Ax = b$$\n",
        "\n",
        "donde $A$ es una matriz cuadrada y $det(A)\\neq0$\n",
        "\n",
        "Por ejemplo el sistema:\n",
        "\n",
        "$$\\begin{array}{lcl} 2x + 3y & = & 6 \\\\ 4x + 9y & = & 15 \\end{array}$$"
      ]
    },
    {
      "cell_type": "code",
      "execution_count": null,
      "metadata": {
        "id": "Ubt0NIZwSWxT",
        "vscode": {
          "languageId": "python"
        }
      },
      "outputs": [],
      "source": [
        "#Primero definimos la matriz de coeficientes\n",
        "matA = np.array([[2,3],[4,9]])\n",
        "\n",
        "#Luego, definimos el vector b o matriz de resultados\n",
        "vectB = np.array([6,15]).reshape(2,1)"
      ]
    },
    {
      "cell_type": "code",
      "execution_count": null,
      "metadata": {
        "id": "mTIBZzI6YL4H",
        "vscode": {
          "languageId": "python"
        }
      },
      "outputs": [],
      "source": [
        "#Finalmente, hacemos uso de la función solve de linalg\n",
        "la.solve(matA, vectB)"
      ]
    },
    {
      "cell_type": "markdown",
      "metadata": {
        "id": "t-GXwfvJSa1N"
      },
      "source": [
        "SciPy incluye otros métodos de resolución de sistemas de ecuaciones como factorización LU o el método de Cholesky. Se pueden consultar [aquí](https://docs.scipy.org/doc/scipy/reference/linalg.html#module-scipy.linalg).\n",
        "\n",
        "## Álgebra lineal para manipular objetos"
      ]
    },
    {
      "cell_type": "code",
      "execution_count": null,
      "metadata": {
        "id": "7tq5QxWGuqMw",
        "vscode": {
          "languageId": "python"
        }
      },
      "outputs": [],
      "source": [
        "from scipy import misc\n",
        "import matplotlib.pyplot as plt"
      ]
    },
    {
      "cell_type": "code",
      "execution_count": null,
      "metadata": {
        "id": "XuclJEuKYf3I",
        "vscode": {
          "languageId": "python"
        }
      },
      "outputs": [],
      "source": [
        "mapache = misc.face() #Devuelve un array que corresponde a la imagen de la cara de un mapache\n",
        "plt.imshow(mapache) #Comando solo para mostrar la imagen"
      ]
    },
    {
      "cell_type": "markdown",
      "metadata": {
        "id": "0DLXIkSy0Ei0"
      },
      "source": [
        "La imagen del mapache es una matriz, veamos cuáles son sus características."
      ]
    },
    {
      "cell_type": "code",
      "execution_count": null,
      "metadata": {
        "id": "Flxpd4Qw0Udt",
        "vscode": {
          "languageId": "python"
        }
      },
      "outputs": [],
      "source": [
        "print('Forma: ',mapache.shape,'\\nTamaño: ',mapache.size, '\\nDimensiones: ', mapache.ndim)"
      ]
    },
    {
      "cell_type": "markdown",
      "metadata": {
        "id": "oIMrBDMU1MQ8"
      },
      "source": [
        "La forma indica que el objeto se compone de tres matrices, cada una con forma 768 x 1024. Estas tres matrices representan un canal de color RGB.\n",
        "\n",
        "Lo que haremos será cambiar el color de la imagen a escala de grises usando la fórmula\n",
        "\n",
        "$Gris = 0.2126R+0.7152G+0.0722B$"
      ]
    },
    {
      "cell_type": "code",
      "execution_count": null,
      "metadata": {
        "id": "7np2QrMQlTis",
        "vscode": {
          "languageId": "python"
        }
      },
      "outputs": [],
      "source": [
        "mapache[:,:,0] #Note de una de las matrices que cada valor en la matriz representa el valor R, G o B del pixel"
      ]
    },
    {
      "cell_type": "code",
      "execution_count": null,
      "metadata": {
        "id": "W3Ml8H3cyAzH",
        "vscode": {
          "languageId": "python"
        }
      },
      "outputs": [],
      "source": [
        "mapache_gris = mapache.dot([0.2126, 0.7152, 0.0722]) #Multiplicamos cada canal de color por los valores de la fórmula\n",
        "\n",
        "plt.imshow(mapache_gris,cmap='gray')"
      ]
    },
    {
      "cell_type": "markdown",
      "metadata": {
        "id": "LJVfs7WmivtL"
      },
      "source": [
        "Ahora utilizaremos descomposición en valores singulares (SVD) en esta matriz para extraer las principales características y luego reconstruir la imagen a partir de ellas. \n",
        "\n",
        "$$U\\Sigma V^T=A$$\n",
        "\n",
        "donde $U$ y $V^T$ son matrices cuadradas y $\\Sigma$ es la matriz con los valores singulares de $A$. Estos valores pueden ser utilizados como medida de la \"importancia\" de las características de la matriz $A$. \n",
        "\n",
        "En esencia, estamos usando SVD para comprimir una imagen"
      ]
    },
    {
      "cell_type": "code",
      "execution_count": null,
      "metadata": {
        "id": "55tkjpXJit8R",
        "vscode": {
          "languageId": "python"
        }
      },
      "outputs": [],
      "source": [
        "U,s,Vt = la.svd(mapache_gris) #Singular Value Decomposition "
      ]
    },
    {
      "cell_type": "code",
      "execution_count": null,
      "metadata": {
        "id": "mBb0il6KcD5g",
        "vscode": {
          "languageId": "python"
        }
      },
      "outputs": [],
      "source": [
        "print(s.shape,'\\n',s.ndim) #Análisis de s"
      ]
    },
    {
      "cell_type": "code",
      "execution_count": null,
      "metadata": {
        "id": "teaTE0QqdO4n",
        "vscode": {
          "languageId": "python"
        }
      },
      "outputs": [],
      "source": [
        "s"
      ]
    },
    {
      "cell_type": "markdown",
      "metadata": {
        "id": "N8doH-_zux21"
      },
      "source": [
        "s no es la matriz $\\Sigma$ que buscamos, ya que debería ser una matriz diagonal. Por lo que debemos construirla con los valores de s."
      ]
    },
    {
      "cell_type": "code",
      "execution_count": null,
      "metadata": {
        "id": "0PKTzYuYu-9u",
        "vscode": {
          "languageId": "python"
        }
      },
      "outputs": [],
      "source": [
        "Sigma = np.diag(s) #Construimos una matriz con s como diagonal \n",
        "#Computacionalmente es más económico almacenar solo un vector que una matriz diagonal"
      ]
    },
    {
      "cell_type": "markdown",
      "metadata": {
        "id": "Iey6RsvLv7lU"
      },
      "source": [
        "Ahora que tenemos la aproximación, reconstruiremos la imagen."
      ]
    },
    {
      "cell_type": "code",
      "execution_count": null,
      "metadata": {
        "id": "T_NwsNuYpyd-",
        "vscode": {
          "languageId": "python"
        }
      },
      "outputs": [],
      "source": [
        "from matplotlib import pyplot as plt \n",
        "\n",
        "plt.plot(s)\n",
        "plt.show()"
      ]
    },
    {
      "cell_type": "markdown",
      "metadata": {
        "id": "bkSlEjYbvrfN"
      },
      "source": [
        "Noten que aunque tenemos 768 valores singulares, la mayoría de ellos tienen un valor pequeño. Por eso, tendría sentido utilizar sólo algunos de ellos para reconstruir una versión más \"económica\"de la imagen. "
      ]
    },
    {
      "cell_type": "code",
      "execution_count": null,
      "metadata": {
        "id": "Az6uRFOSwI2R",
        "vscode": {
          "languageId": "python"
        }
      },
      "outputs": [],
      "source": [
        "k = 30 #k representa la cantidad de valores singulares en s que vale la pena utilizar en la aproximación"
      ]
    },
    {
      "cell_type": "code",
      "execution_count": null,
      "metadata": {
        "id": "qUNF90qPeXXB",
        "vscode": {
          "languageId": "python"
        }
      },
      "outputs": [],
      "source": [
        "mapache_grisR = np.matmul(np.matmul(U,Sigma[:,:k]),Vt[:k,:]) #Multiplicación de matrices en NumPy"
      ]
    },
    {
      "cell_type": "code",
      "execution_count": null,
      "metadata": {
        "id": "Prl_VlXRw9Z2",
        "vscode": {
          "languageId": "python"
        }
      },
      "outputs": [],
      "source": [
        "plt.imshow(mapache_grisR,cmap='gray')"
      ]
    },
    {
      "cell_type": "markdown",
      "metadata": {
        "id": "S9MehjFL0Dbo"
      },
      "source": [
        "## <font color='purple'>**Ejercicio**</font>\n",
        "\n",
        "Suponga que usted quiere construir una versión no tan \"económica\" de la imagen y por lo tanto quiere utilizar más valores singulares de s. Si la precisión de los valores de s es 1000, no se necesitan valores más pequeños que eso, ¿de qué manera podría determinarse el valor de k? "
      ]
    },
    {
      "cell_type": "code",
      "execution_count": null,
      "metadata": {
        "id": "UQJskMZYdVak",
        "vscode": {
          "languageId": "python"
        }
      },
      "outputs": [],
      "source": [
        "np.where(s>1000) "
      ]
    },
    {
      "cell_type": "markdown",
      "metadata": {
        "id": "h_ZDM1JgSei_"
      },
      "source": [
        "# Módulo scipy.integrate: Integración y EDO\n",
        "\n",
        "Por motivos históricos, a la integración numérica se le conoce también como cuadratura numérica (*quadrature*).\n",
        "\n",
        "A pesar de que hay muchos ejemplos de integrales que se pueden calcular analíticamente, en muchos casos es necesario recurrir a los métodos numéricos para aproximar una solución. \n",
        "\n",
        "\n",
        "La integración numérica en SciPy se categoriza en dos tipos:\n",
        "\n",
        "* Rutinas que evalúan el integrando como una función de Python (*Gaussian quadrature*)\n",
        "  * quad, quadrature, fixed_quad\n",
        "* Rutinas que toman un arreglo con muestras del integrando en puntos dados (*Newton-Cotes*) \n",
        "  * trapz, simps, romb\n",
        "\n",
        "\n",
        "### Funciones lambda o anónimas en Python\n",
        "\n",
        "* Una función anónima es lo que este término dice, una función **sin nombre**.\n",
        "* A diferencia de las funciones tradicionales, **no se usa def para definirlas** y **se escriben en una sola expresión**.\n",
        "* Generalmente se usan para escribir operaciones simples."
      ]
    },
    {
      "cell_type": "code",
      "execution_count": null,
      "metadata": {
        "id": "YcIdRh_pSwBG",
        "vscode": {
          "languageId": "python"
        }
      },
      "outputs": [],
      "source": [
        "def al_cuadrado(x): #Función tradicional\n",
        "    return x**2\n",
        "    \n",
        "al_cuadrado(2)"
      ]
    },
    {
      "cell_type": "code",
      "execution_count": null,
      "metadata": {
        "id": "zgV_cWo_Sz4Y",
        "vscode": {
          "languageId": "python"
        }
      },
      "outputs": [],
      "source": [
        "def al_cuadrado(x): return x**2 #Escrito en una sola línea\n",
        "\n",
        "al_cuadrado(2)"
      ]
    },
    {
      "cell_type": "code",
      "execution_count": null,
      "metadata": {
        "id": "QZs26wAeS1op",
        "vscode": {
          "languageId": "python"
        }
      },
      "outputs": [],
      "source": [
        "lambda x: x**2 #Notación anterior simplificada, es una función lambda"
      ]
    },
    {
      "cell_type": "code",
      "execution_count": null,
      "metadata": {
        "id": "nH1Ad6XkS4Vd",
        "vscode": {
          "languageId": "python"
        }
      },
      "outputs": [],
      "source": [
        "quad_lambda = lambda x: x**2 #Hay que guardarlo en una variable\n",
        "quad_lambda(2) #Se llama de la misma forma que las funciones tradicionales"
      ]
    },
    {
      "cell_type": "markdown",
      "metadata": {
        "id": "wDrXD5O2S9il"
      },
      "source": [
        "Las funciones lambda son muy útiles cuando se quiere integrar un $f(x)$.\n",
        "\n",
        "## Integración\n",
        "\n",
        "Suponga que quiere saber el valor de la integral $ y = \\int_{0}^{1} f(x)dx $ siendo $ f(x) = \\frac{4}{(1+x^2)} $.\n",
        "-  La función anónima es $f(x)$.\n",
        "- Del módulo **integrate** se usa **quad()** para calcular la integral simple. "
      ]
    },
    {
      "cell_type": "code",
      "execution_count": null,
      "metadata": {
        "id": "3-2-vORuS5rp",
        "vscode": {
          "languageId": "python"
        }
      },
      "outputs": [],
      "source": [
        "from scipy import integrate\n",
        "\n",
        "funcionPI = lambda x: 4/(1+x**2) #El primer argumento de quad debe ser un objeto \"llamable\" (función, método o instancia de clase)\n",
        "\n",
        "integrate.quad(funcionPI, 0,1) # Los argumentos 2 y 3 son los límites de integración (Pueden ser +-inf)"
      ]
    },
    {
      "cell_type": "markdown",
      "metadata": {
        "id": "Czc4rPdYCKYc"
      },
      "source": [
        "El resultado anterior es una tupla cuya primera entrada es la solución y la segunda un número muy cercano a cero, ¿por qué? Porque quad() retorna tanto el resultado como el **error absoluto** en el valor de la integral."
      ]
    },
    {
      "cell_type": "code",
      "execution_count": null,
      "metadata": {
        "id": "tCu31yn28E94",
        "vscode": {
          "languageId": "python"
        }
      },
      "outputs": [],
      "source": [
        "integrate.quadrature(funcionPI, 0, 1) #Cuadratura gaussiana"
      ]
    },
    {
      "cell_type": "markdown",
      "metadata": {
        "id": "9sLaa-RH83UY"
      },
      "source": [
        "¿Cómo integraríamos usando el método de los trapezoides?\n",
        "\n",
        "<center> <img src=\"https://drive.google.com/uc?export=view&id=10dDjclIqrpewye4D9EUlfS0Av7EnOiJu\" alt=\"image info\" width=\"350\"/> </center>\n",
        "\n",
        "Debemos calcular $f(x)$ para cada $x$."
      ]
    },
    {
      "cell_type": "code",
      "execution_count": null,
      "metadata": {
        "id": "wbMgU0gO_lgO",
        "vscode": {
          "languageId": "python"
        }
      },
      "outputs": [],
      "source": [
        "x = np.linspace(0,1,50) #Creamos una serie de puntos entre 0 y 1\n",
        "y = funcionPI(x) #Determinamos y = f(x) para cada x creado\n",
        "\n",
        "integrate.trapz(y,x) #Atención que el orden es y,x"
      ]
    },
    {
      "cell_type": "markdown",
      "metadata": {
        "id": "Mm0Fd9OuTTLG"
      },
      "source": [
        "### Solución de integrales múltiples\n",
        "\n",
        "Así como se puede resolver una integral sencilla, **dblquad()**, **tplquad()** y **nquad()** permiten resolver integrales dobles, triples y múltiples con integrate."
      ]
    },
    {
      "cell_type": "code",
      "execution_count": null,
      "metadata": {
        "id": "rHExJobCTgJ3",
        "vscode": {
          "languageId": "python"
        }
      },
      "outputs": [],
      "source": [
        "vol_cubo = lambda x,y,z: 1\n",
        "v = integrate.tplquad(vol_cubo,0,2,0,2,0,2) #Volumen de un cubo con arista igual a 2\n",
        "print(v)"
      ]
    },
    {
      "cell_type": "markdown",
      "metadata": {
        "id": "wJV07FZKTk9s"
      },
      "source": [
        "## Ecuaciones diferenciales\n",
        "\n",
        "* El módulo integrate de SciPy también incluye rutinas para la integración de ecuaciones diferenciales ordinarias (ODE).\n",
        "* **solve_ivp()** es una función para resolver problemas de valor inicial en sistemas de ecuaciones diferenciales ordinarias.\n",
        "* SciPy.integrate cuenta con otros *solvers* (Runge-Kutta, BDF, LSODA, entre otros).\n",
        "\n",
        "Suponga que tiene un circuito RC. La respuesta natural de un circuito se refiere al comportamiento del circuito, sin fuentes externas de excitación.\n",
        "\n",
        "<center> <img src=\"https://drive.google.com/uc?export=view&id=1f5-ChhKsoMK_H7wdmKY10d5xBNJpalv-\" alt=\"image info\" width=\"200\"/> </center>\n",
        "\n",
        "Aplicando la ley de corriente de Kirchhoff podemos describir el valor de la caída de potencial en el capacitor con la ecuación diferencial de primer orden:\n",
        "\n",
        "$$\\frac{dv(t)}{dt}=-\\frac{1}{RC}v(t)$$"
      ]
    },
    {
      "cell_type": "code",
      "execution_count": null,
      "metadata": {
        "id": "MFZsXjx9TuUu",
        "vscode": {
          "languageId": "python"
        }
      },
      "outputs": [],
      "source": [
        "from scipy import integrate\n",
        "import matplotlib.pyplot as plt\n",
        "import numpy as np\n",
        "\n",
        "def modelo_RC(t,v,r,c): #r y c son parámetros del modelo\n",
        "    k = 1/(r*c)\n",
        "    dvdt = -k * v\n",
        "    return dvdt\n",
        "\n",
        "v0 = [15] #Valor inicial\n",
        "t = [0,2] #Span de tiempo\n",
        "teval = np.linspace(0,2,11) #Tiempo donde se evalúan las soluciones\n",
        "\n",
        "sol = integrate.solve_ivp(modelo_RC,t,v0,t_eval=teval,args=[4,0.1])\n",
        "sol"
      ]
    },
    {
      "cell_type": "code",
      "execution_count": null,
      "metadata": {
        "id": "Wr7QvqbAKSAX",
        "vscode": {
          "languageId": "python"
        }
      },
      "outputs": [],
      "source": [
        "?integrate.solve_ivp"
      ]
    },
    {
      "cell_type": "code",
      "execution_count": null,
      "metadata": {
        "id": "6-0et7GmKHrn",
        "vscode": {
          "languageId": "python"
        }
      },
      "outputs": [],
      "source": [
        "#Graficamos solamente para ver los resultados\n",
        "\n",
        "plt.xlabel('t[s]')\n",
        "plt.ylabel('Capacitor voltage [V]')\n",
        "plt.plot(sol.t,sol.y.flatten()) #la solución del model es un objeto compuesto"
      ]
    },
    {
      "cell_type": "markdown",
      "metadata": {
        "id": "hPpfRzR-vDjN"
      },
      "source": [
        "### ¿Qué pasa si necesitamos más de una salida?\n",
        "\n",
        "El modelo debe editarse para que produzca dos salidas."
      ]
    },
    {
      "cell_type": "code",
      "execution_count": null,
      "metadata": {
        "id": "yvDWvqOTvlKr",
        "vscode": {
          "languageId": "python"
        }
      },
      "outputs": [],
      "source": [
        "def model(t,output):\n",
        "    A, B = output\n",
        "    dAdt = A*B\n",
        "    dBdt = A*B - B\n",
        "    return dAdt, dBdt\n",
        "\n",
        "output0 = [0.5,3] #Condiciones iniciales para A y B\n",
        "t = [0,4]\n",
        "teval = np.linspace(0,4,100)\n",
        "\n",
        "sol = integrate.solve_ivp(model, t, output0, t_eval=teval)\n",
        "print(sol)"
      ]
    },
    {
      "cell_type": "markdown",
      "metadata": {
        "id": "LJ8-FD_m6XtH"
      },
      "source": [
        "# Módulo scipy.interpolate: Interpolación\n",
        "\n",
        "* Comprende diversos métodos de interpolación. *Ejemplos*: *spline*, multivariada, suavizado.\n",
        "* También tiene funciones para trabajar con interpolantes polinómicos de Lagrange y Taylor.\n",
        "* El submódulo **interp1d** es uno de los más convenientes."
      ]
    },
    {
      "cell_type": "code",
      "execution_count": null,
      "metadata": {
        "id": "kBk3Iofq7nMR",
        "vscode": {
          "languageId": "python"
        }
      },
      "outputs": [],
      "source": [
        "import numpy as np\n",
        "datos = np.genfromtxt('meteorologia.csv', delimiter=',', names=True)\n",
        "datos"
      ]
    },
    {
      "cell_type": "code",
      "execution_count": null,
      "metadata": {
        "id": "r_qvdekc_j1R",
        "vscode": {
          "languageId": "python"
        }
      },
      "outputs": [],
      "source": [
        "from scipy.interpolate import interp1d\n",
        "import matplotlib.pyplot as plt\n",
        "\n",
        "f = interp1d(datos['Mes'],datos['Temperaturac']) #Interpola una función 1-D, el método se cambia con kind\n",
        "x = np.linspace(1,12,12)\n",
        "plt.plot(datos['Mes'],datos['Temperaturac'],'o',x,f(x),'-')\n",
        "plt.show()\n",
        "\n",
        "print('Valor real en setiembre: 23 °C \\nValor interpolado: ',f(9),'°C')"
      ]
    },
    {
      "cell_type": "code",
      "execution_count": null,
      "metadata": {
        "id": "b0wnVP6N3wJL",
        "vscode": {
          "languageId": "python"
        }
      },
      "outputs": [],
      "source": [
        "interp1d?"
      ]
    },
    {
      "cell_type": "code",
      "execution_count": null,
      "metadata": {
        "id": "JKNwW2js6b70",
        "vscode": {
          "languageId": "python"
        }
      },
      "outputs": [],
      "source": [
        "A, nu, k = 10, 4, 2\n",
        "\n",
        "def f(x, A, nu, k):\n",
        "    return A * np.exp(-k*x) * np.cos(2*np.pi * nu * x)\n",
        "\n",
        "xmax, nx = 0.5, 8\n",
        "x = np.linspace(0, xmax, nx)\n",
        "y = f(x, A, nu, k)\n",
        "\n",
        "f_nearest = interp1d(x, y, kind='nearest')\n",
        "f_linear  = interp1d(x, y)\n",
        "f_cubic   = interp1d(x, y, kind='cubic')\n",
        "\n",
        "x2 = np.linspace(0, xmax, 100)\n",
        "plt.plot(x, y, 'o', label='data points')\n",
        "plt.plot(x2, f(x2, A, nu, k), label='exact')\n",
        "plt.plot(x2, f_nearest(x2), label='nearest')\n",
        "plt.plot(x2, f_linear(x2), label='linear')\n",
        "plt.plot(x2, f_cubic(x2), label='cubic')\n",
        "plt.legend()\n",
        "plt.show()"
      ]
    },
    {
      "cell_type": "markdown",
      "metadata": {
        "id": "AtBhJXY17T2b"
      },
      "source": [
        "Ejemplo tomado de [Learning Scientific Programming with Python](https://scipython.com/book/chapter-8-scipy/examples/scipyinterpolateinterp1d/)"
      ]
    },
    {
      "cell_type": "markdown",
      "metadata": {
        "id": "-OsYx3Pn25ER"
      },
      "source": [
        "### ¿Qué sucede si tenemos ruido en nuestros datos? ¿Podemos interpolar?\n",
        "\n",
        "La respuesta es sí. Las funciones *spline* son particularmente buenas para estos casos. Usando el *smoothing factor* podemos evitar que el polinomio interpolador pase por todos los puntos, ignorando un poco el ruido.\n",
        "\n",
        "#### ¿Cómo agregar ruido artificial a mis datos?\n",
        "\n",
        "Con NumPy, podemos usar el módulo random para añadir ruido.\n",
        "\n",
        "Supongamos que estamos midiendo una señal sinusoidal."
      ]
    },
    {
      "cell_type": "code",
      "execution_count": null,
      "metadata": {
        "id": "oHwV8kAK3-Sg",
        "vscode": {
          "languageId": "python"
        }
      },
      "outputs": [],
      "source": [
        "import numpy as np\n",
        "\n",
        "x = np.arange(0,4*np.pi,0.3)\n",
        "y = np.cos(x)\n",
        "y"
      ]
    },
    {
      "cell_type": "code",
      "execution_count": null,
      "metadata": {
        "id": "unRGqESE4aM_",
        "vscode": {
          "languageId": "python"
        }
      },
      "outputs": [],
      "source": [
        "y_ruido = y + np.random.normal(0, 0.05, y.shape) #Agregarmos ruido simplemente añadiendo datos obtenidos de una distribución normal\n",
        "y_ruido"
      ]
    },
    {
      "cell_type": "code",
      "execution_count": null,
      "metadata": {
        "id": "NcVPT7Cq5SN4",
        "vscode": {
          "languageId": "python"
        }
      },
      "outputs": [],
      "source": [
        "y_ruido2 = y + np.log(1.05) #Agregamos ruido con una función\n",
        "y_ruido2"
      ]
    },
    {
      "cell_type": "code",
      "execution_count": null,
      "metadata": {
        "id": "Q2NLMN3r6YHf",
        "vscode": {
          "languageId": "python"
        }
      },
      "outputs": [],
      "source": [
        "plt.plot(x,y,x,y_ruido,x,y_ruido2)\n",
        "plt.show()"
      ]
    },
    {
      "cell_type": "markdown",
      "metadata": {
        "id": "7Bn0Q06zLnZV"
      },
      "source": [
        "Ahora vamos a interpolar valores para la señal con ruido, que fue la que medimos en nuestro experimento."
      ]
    },
    {
      "cell_type": "code",
      "execution_count": null,
      "metadata": {
        "id": "JHeEPIbxMTzU",
        "vscode": {
          "languageId": "python"
        }
      },
      "outputs": [],
      "source": [
        "from scipy.interpolate import UnivariateSpline\n",
        "\n",
        "plt.plot(x,y_ruido,'o')\n",
        "plt.show()\n",
        "\n",
        "fr = UnivariateSpline(x,y,s=0.2) #El smoothing factor distinto de cero hace que no pase por todos los puntos, 'cancelando' el ruido\n",
        "frx = np.linspace(x.min(),x.max(),100)"
      ]
    },
    {
      "cell_type": "code",
      "execution_count": null,
      "metadata": {
        "id": "bhr4j3C-MxT7",
        "vscode": {
          "languageId": "python"
        }
      },
      "outputs": [],
      "source": [
        "plt.plot(x,y_ruido,'o',frx,fr(frx))\n",
        "plt.show()"
      ]
    },
    {
      "cell_type": "markdown",
      "metadata": {
        "id": "Q9i8Fo85jWnt"
      },
      "source": [
        "# Módulo scipy.optimize: Optimización\n",
        "\n",
        "Provee funciones para maximizar o minimizar funciones objetivo y encontrar raíces.\n",
        "\n"
      ]
    },
    {
      "cell_type": "code",
      "execution_count": null,
      "metadata": {
        "id": "YJxUkDCagPeM",
        "vscode": {
          "languageId": "python"
        }
      },
      "outputs": [],
      "source": [
        "import numpy as np\n",
        "from scipy import optimize\n",
        "import matplotlib.pyplot as plt\n",
        "from mpl_toolkits.mplot3d import Axes3D\n",
        "\n",
        "def f(ent):\n",
        "  x,y = ent\n",
        "  return x/np.exp(x**2 + y**2) #Función que queremos minimizar\n",
        "\n",
        "x = np.arange(-2,2,0.1)\n",
        "y = np.arange(-2,2,0.1)\n",
        "entt = np.meshgrid(x,y)\n",
        "z= f(entt)\n",
        "\n",
        "fig = plt.figure()\n",
        "ax = fig.add_subplot(111, projection='3d')\n",
        "ax.plot_surface(entt[0], entt[1], z)\n",
        "plt.show()"
      ]
    },
    {
      "cell_type": "code",
      "execution_count": null,
      "metadata": {
        "id": "ley8eUXR_DGG",
        "vscode": {
          "languageId": "python"
        }
      },
      "outputs": [],
      "source": [
        "optimize.minimize?"
      ]
    },
    {
      "cell_type": "code",
      "execution_count": null,
      "metadata": {
        "id": "Q1OW5DtFkDIQ",
        "vscode": {
          "languageId": "python"
        }
      },
      "outputs": [],
      "source": [
        "ent0 = [0,0]\n",
        "min = optimize.minimize(f,x0=ent0) #Para el algoritmo debemos dar una condición inicial x0 para todas las variables\n",
        "min"
      ]
    },
    {
      "cell_type": "code",
      "execution_count": null,
      "metadata": {
        "id": "ZNHrPJaDiQmS",
        "vscode": {
          "languageId": "python"
        }
      },
      "outputs": [],
      "source": [
        "min = optimize.minimize(f,x0=ent0,method='Nelder-Mead') #Cambiamos de algoritmo\n",
        "min"
      ]
    },
    {
      "cell_type": "markdown",
      "metadata": {
        "id": "DJK9RWbm50HZ"
      },
      "source": [
        "# Módulo scipy.signal: Procesamiento de señales\n",
        "\n",
        "* Contiene filtros y algunas técnicas de diseño de filtros.\n",
        "* También cuenta con algunos métodos de interpolación.\n"
      ]
    },
    {
      "cell_type": "code",
      "execution_count": null,
      "metadata": {
        "id": "ysqjEWSGKEqo",
        "vscode": {
          "languageId": "python"
        }
      },
      "outputs": [],
      "source": [
        "from scipy.io import wavfile\n",
        "import numpy as np\n",
        "import matplotlib.pyplot as plt\n",
        "\n",
        "samplerate, data = wavfile.read('pajarito.wav') #Devuelve la cantidad de muestras por segundo y los datos\n",
        "\n",
        "#Datos tienen forma (número de datos, número de canales)\n",
        "print('Muestras por segundo: %d \\nNúmero de datos: %d\\nNúmero de canales: %d' %(samplerate,data.shape[0],data.shape[1]))"
      ]
    },
    {
      "cell_type": "code",
      "execution_count": null,
      "metadata": {
        "id": "UB3GtYWYaoT1",
        "vscode": {
          "languageId": "python"
        }
      },
      "outputs": [],
      "source": [
        "length = data.shape[0] / samplerate #Longitud del audio en segundos\n",
        "time = np.linspace(0., length, data.shape[0]) #Creamos tantos datos de tiempo como muestras\n",
        "plt.plot(time, data[:,0]) #Ploteamos solo un canal\n",
        "plt.show()"
      ]
    },
    {
      "cell_type": "markdown",
      "metadata": {
        "id": "9ECC4YhoZZSG"
      },
      "source": [
        "Podemos aplicar una transformada de Fourier para ver el dominio de la frecuencia. Esto lo logramos con el módulo scipy.fft."
      ]
    },
    {
      "cell_type": "code",
      "execution_count": null,
      "metadata": {
        "id": "x4AtOFAxZefK",
        "vscode": {
          "languageId": "python"
        }
      },
      "outputs": [],
      "source": [
        "from scipy.fft import fft, fftfreq\n",
        "\n",
        "yf = fft(data[:,0])\n",
        "xf = fftfreq(data.shape[0], 1/samplerate) #Valores de frecuencia\n",
        "\n",
        "plt.plot(xf, np.abs(yf)) #Se utiliza el valor absoluto porque porque los valores de yf son complejos\n",
        "plt.minorticks_on()\n",
        "plt.show()\n"
      ]
    },
    {
      "cell_type": "code",
      "execution_count": null,
      "metadata": {
        "id": "PEdyKSoThrsJ",
        "vscode": {
          "languageId": "python"
        }
      },
      "outputs": [],
      "source": [
        "from scipy.signal import butter,sosfilt\n",
        "\n",
        "#sos =  butter(2,1000,'hp',output='sos',fs=samplerate) #Filtro paso alto de orden 2, Butterworth\n",
        "sos =  butter(1,0.09,'hp',output='sos') #Filtro paso alto de orden 1, Butterworth\n",
        "filtered = sosfilt(sos, data[:,0])\n",
        "plt.plot(time, filtered)\n",
        "plt.show()\n",
        "\n",
        "wavfile.write(\"pajarito_filt.wav\", samplerate, filtered.astype(np.int16))"
      ]
    },
    {
      "cell_type": "code",
      "execution_count": null,
      "metadata": {
        "id": "5VO_xe_Dzuon",
        "vscode": {
          "languageId": "python"
        }
      },
      "outputs": [],
      "source": [
        "from scipy.fft import fft, fftfreq\n",
        "\n",
        "yff = fft(filtered)\n",
        "\n",
        "plt.plot(xf, np.abs(yff))\n",
        "plt.minorticks_on()\n",
        "plt.show()"
      ]
    },
    {
      "cell_type": "markdown",
      "metadata": {
        "id": "DmDClvdFUWTl"
      },
      "source": [
        "# Módulo scipy.stats: Estadística\n",
        "\n",
        "Ofrece clases para representar variables aleatorias con gran variedad de distribuciones de probabilidad. Estas variables aleatorias pueden ser utilizadas para:\n",
        "\n",
        "* Realizar estadística descriptiva.\n",
        "* Generar muestras aleatorias que sigan la distribución asociada a la variable aleatoria."
      ]
    },
    {
      "cell_type": "code",
      "execution_count": null,
      "metadata": {
        "id": "zhM_9IZ7PORC",
        "vscode": {
          "languageId": "python"
        }
      },
      "outputs": [],
      "source": [
        "from scipy import stats\n",
        "\n",
        "variableDistNormal = stats.norm(1,0.5) #Creamos una variable aleatoria normalmente distribuida (mean, std)\n",
        "print(variableDistNormal) #Esto retorna un objeto de Python, no un arreglo de muestras\n",
        "variableDistNormal.mean()"
      ]
    },
    {
      "cell_type": "markdown",
      "metadata": {
        "id": "ceYjt0nMPwVS"
      },
      "source": [
        "Es posible utilizar estadística descriptiva sobre esta variable aleatoria."
      ]
    },
    {
      "cell_type": "code",
      "execution_count": null,
      "metadata": {
        "id": "Snq5Lhm8Ujim",
        "vscode": {
          "languageId": "python"
        }
      },
      "outputs": [],
      "source": [
        "print('Media: ',variableDistNormal.mean())\n",
        "print('Mediana: ',variableDistNormal.median())\n",
        "print('Varianza: ',variableDistNormal.var())"
      ]
    },
    {
      "cell_type": "markdown",
      "metadata": {
        "id": "iCODEiEHP01S"
      },
      "source": [
        "Además, con una variable aleatoria podemos evaluar su función de densidad de probabilidad."
      ]
    },
    {
      "cell_type": "code",
      "execution_count": null,
      "metadata": {
        "id": "Mb31x0C_U7vw",
        "vscode": {
          "languageId": "python"
        }
      },
      "outputs": [],
      "source": [
        "variableDistNormal.pdf([0,1,2]) #Recibe como parámetro un arreglo de valores donde evaluar la función"
      ]
    },
    {
      "cell_type": "code",
      "execution_count": null,
      "metadata": {
        "id": "ryTwBEJ_P8q5",
        "vscode": {
          "languageId": "python"
        }
      },
      "outputs": [],
      "source": [
        "variableDistNormal.cdf([0,1,2]) #Función de distribución acumulada"
      ]
    },
    {
      "cell_type": "markdown",
      "metadata": {
        "id": "h6cbSuWMQENo"
      },
      "source": [
        "## Muestras aleatorias de una distribución\n",
        "\n",
        "Podemos generar muestras aleatorias que sigan la distribución asociada a la variable aleatoria que creamos. La funcion **rvs()** de stats nos permite realizar esta tarea."
      ]
    },
    {
      "cell_type": "code",
      "execution_count": null,
      "metadata": {
        "id": "BedFplRVU9Px",
        "vscode": {
          "languageId": "python"
        }
      },
      "outputs": [],
      "source": [
        "variableDistNormal.rvs(10)"
      ]
    },
    {
      "cell_type": "markdown",
      "metadata": {
        "id": "q0O5QsI6VBhD"
      },
      "source": [
        "### *stats* permite representar distribuciones continuas, multivariadas y discretas. Posee alrededor de 80 de ellas. Se pueden consultar [aquí](https://docs.scipy.org/doc/scipy/reference/stats.html)."
      ]
    },
    {
      "cell_type": "markdown",
      "metadata": {
        "id": "7BaMUqxdQoyw"
      },
      "source": [
        "## Estadística descriptiva de un conjunto de datos\n",
        "\n",
        "Tomemos los datos meteorológicos que utilizamos anteriormente. ¿Qué podemos decir de ellos?"
      ]
    },
    {
      "cell_type": "code",
      "execution_count": null,
      "metadata": {
        "id": "PBzjF_Y2VT8A",
        "vscode": {
          "languageId": "python"
        }
      },
      "outputs": [],
      "source": [
        "datos"
      ]
    },
    {
      "cell_type": "code",
      "execution_count": null,
      "metadata": {
        "id": "COBA20JaSSjo",
        "vscode": {
          "languageId": "python"
        }
      },
      "outputs": [],
      "source": [
        "stats.describe(datos['Dias_Llovidos']) #Descripción general de los datos"
      ]
    },
    {
      "cell_type": "code",
      "execution_count": null,
      "metadata": {
        "id": "gAAoGw87V8Fm",
        "vscode": {
          "languageId": "python"
        }
      },
      "outputs": [],
      "source": [
        "stats.mode(datos['Humedad']) #La moda, el valor más repetido"
      ]
    },
    {
      "cell_type": "markdown",
      "metadata": {
        "id": "bwX9wXZ5YG87"
      },
      "source": [
        "También podemos obtener la frecuencia acumulada de los datos."
      ]
    },
    {
      "cell_type": "code",
      "execution_count": null,
      "metadata": {
        "id": "QB7wAQoOWc9N",
        "vscode": {
          "languageId": "python"
        }
      },
      "outputs": [],
      "source": [
        "cdf = stats.cumfreq(datos['Precipitacionmm'], numbins=4) #numbins es la cantidad de categorías\n",
        "cdf\n",
        "\n",
        "\n"
      ]
    },
    {
      "cell_type": "markdown",
      "metadata": {
        "id": "bK-IeDRRVoSJ"
      },
      "source": [
        "# Módulo scipy.sparse: Matrices dispersas\n",
        "    \n",
        "## ¿Qué es una matriz dispersa?\n",
        "\n",
        "* Es una matriz en la cual **la mayoría de sus entradas son cero**.\n",
        "* Se utilizan en la solución de ecuaciones diferenciales en áreas como la ingeniería, así como en el análisis numérico y la teoría de grafos o redes.\n",
        "* La representación de estas matrices se puede dar en distintos formatos. *Ejemplo:* COO, CSR, CSC.\n",
        "\n",
        "$$M = \\begin{bmatrix} 1 & 0 & 0 & 0 & 0 \\\\ 2 & 0 & 0 & 0 & 0 \\\\ 0 & 0 & 0 & 4 & 0 \\\\ 0 & 0 & 0 & 3 & 0 \\\\  0 & 0 & 0 & 0 & 5\\end{bmatrix}$$"
      ]
    },
    {
      "cell_type": "code",
      "execution_count": null,
      "metadata": {
        "id": "YhNVdr-pVv87",
        "vscode": {
          "languageId": "python"
        }
      },
      "outputs": [],
      "source": [
        "from scipy import sparse\n",
        "\n",
        "ind_f = np.array([0,1,3,2,4]) #Indices de las filas\n",
        "ind_c = np.array([0,0,3,3,4]) #Indices de las columnas\n",
        "datos = np.array([1,2,3,4,5]) #Datos\n",
        "mat = sparse.coo_matrix((datos,(ind_f,ind_c))) #Crea una matriz dispersa en formato COO (COOrdinate)\n",
        "\n",
        "print(mat)"
      ]
    },
    {
      "cell_type": "code",
      "execution_count": null,
      "metadata": {
        "id": "67zmbEZi-61f",
        "vscode": {
          "languageId": "python"
        }
      },
      "outputs": [],
      "source": [
        "mat.toarray() #Imprime la matriz creada como un array, mas sencillo de visualizar"
      ]
    },
    {
      "cell_type": "code",
      "execution_count": null,
      "metadata": {
        "id": "-tvY20XQVzdN",
        "vscode": {
          "languageId": "python"
        }
      },
      "outputs": [],
      "source": [
        "#Noten que el resultado es una estructura de datos que representa la matriz \n",
        "#Estos objetos tienen atributos que podemos extraer\n",
        "\n",
        "print(mat.shape)\n",
        "print(mat.size)\n",
        "print(mat.nnz) #Número de valores que no son cero\n",
        "print(mat.data)"
      ]
    },
    {
      "cell_type": "markdown",
      "metadata": {
        "id": "boLf8dqnV3tr"
      },
      "source": [
        "**find()** devuelve los valores y los índices de los elementos que no son cero en la matriz."
      ]
    },
    {
      "cell_type": "code",
      "execution_count": null,
      "metadata": {
        "id": "XDn6NGsWV7Ac",
        "vscode": {
          "languageId": "python"
        }
      },
      "outputs": [],
      "source": [
        "sparse.find(mat)"
      ]
    },
    {
      "cell_type": "markdown",
      "metadata": {
        "id": "YtgwF6SyV_FF"
      },
      "source": [
        "También se pueden generar matrices dispersas aleatorias, hacer operaciones como el producto de Kronecker, comprobar si una matriz es de cierto tipo o incluso salvar y cargar una matriz en un archivo formato **.npz**. Más información de este formato [aquí](https://imageio.readthedocs.io/en/stable/format_npz.html)."
      ]
    },
    {
      "cell_type": "code",
      "execution_count": null,
      "metadata": {
        "id": "12bjuvhQ_b7l",
        "vscode": {
          "languageId": "python"
        }
      },
      "outputs": [],
      "source": [
        "A = sparse.rand(3,3,density=0.25, format='coo') #Se crean dos matrices aleatorias de 3x3 con cierta densidad y formato COO\n",
        "B = sparse.rand(3,3,density=0.4, format='coo')\n",
        "print(A.toarray(),'\\n')\n",
        "print(B.toarray(),'\\n')"
      ]
    },
    {
      "cell_type": "code",
      "execution_count": null,
      "metadata": {
        "id": "_nMb0djT_oUc",
        "vscode": {
          "languageId": "python"
        }
      },
      "outputs": [],
      "source": [
        "C = sparse.kron(A,B,format='coo') #Calcula el producto de Kronecker entre A y B, lo guarda en formato COO\n",
        "print(C)\n",
        "print(C.toarray(),'\\n')"
      ]
    },
    {
      "cell_type": "code",
      "execution_count": null,
      "metadata": {
        "id": "RLRIIUdnV8mV",
        "vscode": {
          "languageId": "python"
        }
      },
      "outputs": [],
      "source": [
        "sparse.save_npz('C.npz', C) #Guarda el producto anterior en el archivo C.npz\n",
        "C_archivo = sparse.load_npz('C.npz') #Carga la matriz de C.npz nuevamente\n",
        "\n",
        "print(C_archivo)\n",
        "\n",
        "print(sparse.issparse(C_archivo)) #No comprueba si la matriz es dispersa, comprueba si es un objeto sparse"
      ]
    },
    {
      "cell_type": "markdown",
      "metadata": {
        "id": "FaG3GvNCWHoW"
      },
      "source": [
        "*sparse* tiene además dos submódulos:\n",
        "\n",
        "* *csgraph*, algoritmos de grafos basados en representaciones de matrices dispersas.\n",
        "* *linalg*, álgebra lineal para matrices dispersas.\n",
        "\n",
        "### Para explorar más de _sparse_, se puede consultar [aquí](https://docs.scipy.org/doc/scipy/reference/sparse.html)\n",
        "\n",
        "## Grafos\n",
        "\n",
        "Un grafo es un conjunto de **vértices** (también llamados **nodos**) que se conectan entre sí a través de **aristas**. A las aristas se les puede asignar un valor llamado **peso**.\n",
        "\n",
        "<center> <img src=\"https://drive.google.com/uc?export=view&id=1aCxtdof-NX5sXpQHKFb8TL-cNue-7vcu\" alt=\"image info\" width=\"300\"/> </center>\n",
        "\n",
        "Un grafo es una buena representación para sistemas que se basan en redes. Por ejemplo:\n",
        "\n",
        "* Movilidad entre ciudades.\n",
        "* Células y sus interacciones.\n",
        "* Contactos sociales.\n",
        "* Átomos, moléculas y sus interacciones.\n",
        "* Procesamiento del lenguaje.\n",
        "\n",
        "Una de las representaciones de los grafos es a través de matrices. Estas pueden ser tanto densas como dispersas.\n",
        "\n",
        "Los nodos se ubican en columnas y filas de la matriz, y cada entrada corresponde al peso de la relación entre ambos nodos.\n",
        "\n",
        "$$M_{grafo} = \\begin{bmatrix}\n",
        "0 & 0 & 2 & 0 & 1 & 1\\\\ \n",
        "0 & 0 & 0 &0  & 3 & 1 \\\\ \n",
        "2 & 0 & 0 & 5 & 3 & 0\\\\ \n",
        "0 & 0 & 5 & 0 & 0 & 0\\\\ \n",
        "1 & 3 & 3 & 0 & 0 & 2\\\\ \n",
        "1 & 1 & 0 & 0 & 2 & 0\n",
        "\\end{bmatrix} $$\n",
        "\n",
        "Determinemos si esta matriz es densa o dispersa.\n",
        "\n",
        "\n"
      ]
    },
    {
      "cell_type": "code",
      "execution_count": null,
      "metadata": {
        "id": "J53EP3kTBvJp",
        "vscode": {
          "languageId": "python"
        }
      },
      "outputs": [],
      "source": [
        "filas = [2,4,5,4,5,0,3,4,2,0,1,2,5,0,1,4]\n",
        "columnas = [0,0,0,1,1,2,2,2,3,4,4,4,4,5,5,5]\n",
        "valores = [2,1,1,3,1,2,5,3,5,1,3,3,2,1,1,2]\n",
        "\n",
        "m_grafo = sparse.coo_matrix((valores,(filas,columnas)), shape=(6,6))\n",
        "\n",
        "no_cero= m_grafo.nnz #Elementos que no son cero\n",
        "\n",
        "densidad = no_cero / np.prod(m_grafo.shape) #Elementos que no son cero/total de elementos\n",
        "print(densidad) #Podemos decir que la matriz es ligeramente dispersa, ya que su densidad es menor al 50%"
      ]
    },
    {
      "cell_type": "markdown",
      "metadata": {
        "id": "T1zCAuybI4BX"
      },
      "source": [
        "Teniendo la representación matricial de un grafo, podemos usar sparse para aplicar algoritmos comunes aplicados a los grafos. Entre ellos están:\n",
        "\n",
        "* Determinar el camino más corto entre nodos (Dijkstra, Bellman-Ford, etc.)\n",
        "* Búsqueda de anchura o BFS.\n",
        "* Árbol recubridor mínimo o MST (Kruskal). \n",
        "\n",
        "Todos estos algoritmos son importantes en el diseño de redes (cableado telefónico, eléctrico, TV, hidráulica, entre otros).\n",
        "\n",
        "Utilicemos un algoritmo de sparse para calcular el camino más corto entre el vértice 3 y el vértice 1 de nuestro grafo.\n",
        "\n",
        "<center> <img src=\"https://drive.google.com/uc?export=view&id=1aCxtdof-NX5sXpQHKFb8TL-cNue-7vcu\" alt=\"image info\" width=\"300\"/> </center>"
      ]
    },
    {
      "cell_type": "code",
      "execution_count": null,
      "metadata": {
        "id": "ThG7YRxlLRsj",
        "vscode": {
          "languageId": "python"
        }
      },
      "outputs": [],
      "source": [
        "#Devuelve la distancia más pequeña entre el nodo 1 y el 3\n",
        "dist_min=sparse.csgraph.shortest_path(m_grafo, directed=False, indices=1)\n",
        "print(dist_min)\n",
        "dist_min[3]"
      ]
    },
    {
      "cell_type": "code",
      "execution_count": null,
      "metadata": {
        "id": "EAp8-ypTKlJu",
        "vscode": {
          "languageId": "python"
        }
      },
      "outputs": [],
      "source": []
    }
  ],
  "metadata": {
    "colab": {
      "collapsed_sections": [],
      "provenance": []
    },
    "kernelspec": {
      "display_name": "Python 3",
      "name": "python3"
    }
  },
  "nbformat": 4,
  "nbformat_minor": 0
}
