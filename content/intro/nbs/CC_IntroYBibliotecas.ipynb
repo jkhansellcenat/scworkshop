{
  "cells": [
    {
      "attachments": {},
      "cell_type": "markdown",
      "metadata": {
        "id": "FluAs_DSAotX"
      },
      "source": [
        "# Computación científica con Python\n",
        "\n",
        "<font size=\"5\"><center> Johansell Villalobos </center></font>\n",
        "<center> jovillalobos@cenat.ac.cr </center>\n",
        "\n",
        "<font size=\"3\"><center> Asistente: Danniela Cartín </center></font>\n",
        "<center> Mayo, 2023 </center>\n",
        "\n",
        "### Introducción\n",
        "\n",
        "\n",
        "\n",
        "\n"
      ]
    },
    {
      "attachments": {},
      "cell_type": "markdown",
      "metadata": {
        "id": "BOJ0YPBoanJo"
      },
      "source": [
        "### Ambiente de programación interactivo\n",
        "\n",
        "* Se ha vuelto muy popular en la comunidad científica y de análisis de datos por la capacidad de integrar todo un flujo de análisis en un único documento que se puede guardar, recargar y reutilizar.\n",
        "* **IPython**: plataforma de computación interactiva con Python.\n",
        "* **Jupyter Notebooks**: herramienta que permite combinar código, texto, expresiones matemáticas, gráficos y otros recursos comunicativos en un ambiente basado en web.\n",
        "\n",
        "Un cuaderno se compone de celdas de **texto** y otras de **código**.\n",
        "\n",
        "Para ejecutar una celda: **Shift + Enter**.\n",
        "\n",
        "#### Celdas de código"
      ]
    },
    {
      "cell_type": "code",
      "execution_count": null,
      "metadata": {
        "id": "DbAW5Xn6Ynum",
        "vscode": {
          "languageId": "python"
        }
      },
      "outputs": [],
      "source": [
        "print('¡Bienvenidos al taller!') "
      ]
    },
    {
      "cell_type": "markdown",
      "metadata": {
        "id": "zLWt-fF-Yyue"
      },
      "source": [
        "Es posible desde un cuaderno ejecutar operaciones de línea de comando."
      ]
    },
    {
      "cell_type": "code",
      "execution_count": null,
      "metadata": {
        "id": "ch8jX4_UL5yM",
        "vscode": {
          "languageId": "python"
        }
      },
      "outputs": [],
      "source": [
        "!touch auxScript.py experimentalData.txt"
      ]
    },
    {
      "cell_type": "code",
      "execution_count": null,
      "metadata": {
        "id": "YFvBuRsuZAQt",
        "vscode": {
          "languageId": "python"
        }
      },
      "outputs": [],
      "source": [
        "!ls"
      ]
    },
    {
      "cell_type": "code",
      "execution_count": null,
      "metadata": {
        "id": "auHFZm1d4a3l",
        "vscode": {
          "languageId": "python"
        }
      },
      "outputs": [],
      "source": [
        "!echo ¡Bienvenidos al taller!"
      ]
    },
    {
      "cell_type": "markdown",
      "metadata": {
        "id": "76UeJdolZN_A"
      },
      "source": [
        " Como parte de IPython, existen algunos comando mágicos. Se pueden consultar con **%lsmagic**"
      ]
    },
    {
      "cell_type": "code",
      "execution_count": null,
      "metadata": {
        "id": "tg7qVHbpZPx9",
        "vscode": {
          "languageId": "python"
        }
      },
      "outputs": [],
      "source": [
        "%lsmagic"
      ]
    },
    {
      "cell_type": "code",
      "execution_count": null,
      "metadata": {
        "id": "WYJK9PttZSEk",
        "vscode": {
          "languageId": "python"
        }
      },
      "outputs": [],
      "source": [
        "%%writefile magic.txt\n",
        "\n",
        "Esto es una prueba de los comandos mágicos."
      ]
    },
    {
      "cell_type": "code",
      "execution_count": null,
      "metadata": {
        "id": "SudNiAngM5Bf",
        "vscode": {
          "languageId": "python"
        }
      },
      "outputs": [],
      "source": [
        "%%writefile fib.py\n",
        "\n",
        "def fib(N): \n",
        "    \"\"\" \n",
        "    Imprimir lista de los primeros N numeros Fibonacci\n",
        "    Ejemplo tomado de [1]\n",
        "    \"\"\" \n",
        "    f0, f1 = 0, 1\n",
        "    f = [1] * N\n",
        "    for n in range(1, N):\n",
        "        f[n] = f0 + f1\n",
        "        f0, f1 = f1, f[n]\n",
        "\n",
        "    return f\n",
        "\n",
        "print(fib(10))"
      ]
    },
    {
      "cell_type": "markdown",
      "metadata": {
        "id": "ohcDz4USNihJ"
      },
      "source": [
        "[1] *Numerical Python - Scientific Computing and Data Science Applications with Numpy, SciPy and Matplotlib (Robert Johansson)* "
      ]
    },
    {
      "cell_type": "code",
      "execution_count": null,
      "metadata": {
        "id": "Kb8KiUbj5Ghc",
        "vscode": {
          "languageId": "python"
        }
      },
      "outputs": [],
      "source": [
        "%cat fib.py"
      ]
    },
    {
      "cell_type": "markdown",
      "metadata": {
        "id": "8BLtR9uUN4yi"
      },
      "source": [
        "Es posible ejecutar scripts de Python desde los cuadernos de Jupyter \n",
        "a través de operaciones de línea de comando: ! ó utilizando el comando mágico \n",
        "%run"
      ]
    },
    {
      "cell_type": "code",
      "execution_count": null,
      "metadata": {
        "id": "xrV2d70VNzd_",
        "vscode": {
          "languageId": "python"
        }
      },
      "outputs": [],
      "source": [
        "!python fib.py"
      ]
    },
    {
      "cell_type": "code",
      "execution_count": null,
      "metadata": {
        "id": "gEQmXgv_OCw4",
        "vscode": {
          "languageId": "python"
        }
      },
      "outputs": [],
      "source": [
        "%run fib.py"
      ]
    },
    {
      "cell_type": "markdown",
      "metadata": {
        "id": "Kzk9YtN4aFS5"
      },
      "source": [
        "### Celdas de texto\n",
        "\n",
        "Esta es una celda de texto y nos permite comentar nuestros procesos científicos y resultados. Se pueden incluir ecuaciones matemáticas con $\\mathrm{\\LaTeX}$ y hasta [links](https://ipython.org/).\n",
        "\n",
        "$$r_s=\\frac{2GM}{c^2}$$\n",
        "\n"
      ]
    },
    {
      "attachments": {},
      "cell_type": "markdown",
      "metadata": {
        "id": "ZPJFn3zEbk7M"
      },
      "source": [
        "## <center> Bibliotecas y documentación en Python </center>\n",
        "\n",
        "### ¿Qué es una biblioteca?\n",
        "\n",
        "* Se trata de una colección de recursos que se utilizan para el desarrollo de software. \n",
        "* Generalmente está compuesta de **módulos** que encierran una función específica o una serie de funciones relacionadas.\n",
        "* *Ejemplo*: **cm** y **contour** son módulos de **matplotlib**, una se usa para crear mapas de color y la otra para graficar contornos.\n",
        "\n",
        "### ¿Cuáles bibliotecas existen en Python?\n",
        "\n",
        "<center> <img src=\"https://drive.google.com/uc?export=view&id=1OjwBO5jJSXEB1CVi44-jTOiVVaEPAYSP\" alt=\"image info\" width=\"700\"/> </center>\n",
        "\n",
        "\n",
        "### ¿Cómo se cargan y se utilizan las bibliotecas en Python?\n",
        "\n",
        "* Para cargar un módulo o biblioteca, se utiliza **import** y el nombre de la biblioteca o módulo.\n",
        "* Dentro de cada biblioteca existe una **jerarquía**. No siempre al cargar una biblioteca se cargan todos sus módulos.\n",
        "\n",
        "<center> <img src=\"https://drive.google.com/uc?export=view&id=13_Vs1EL_8S9cU5qI51Jk5Qb507j_NO2u\" alt=\"image info\" width=\"400\"/> </center>\n",
        "\n",
        "* Cargar toda una biblioteca puede ser pesado en ocasiones. Se prefiere cargar el módulo que se va a necesitar solamente.\n",
        "* La sintaxis es **nombreBiblioteca.nombreModulo**. \n",
        "* Similarmente, para llamar una función que se encuentra en la biblioteca se indica su nombre.\n"
      ]
    },
    {
      "cell_type": "code",
      "execution_count": null,
      "metadata": {
        "id": "UEHtfwy6cvjW",
        "vscode": {
          "languageId": "python"
        }
      },
      "outputs": [],
      "source": [
        "import numpy #Importando toda la biblioteca NumPy\n",
        "import matplotlib.pyplot #Importando el módulo pyplot de la biblioteca matplotlib\n",
        "\n",
        "print(numpy.log(10)) #Usando la función log de Numpy"
      ]
    },
    {
      "cell_type": "markdown",
      "metadata": {
        "id": "5iqG7XjfglaO"
      },
      "source": [
        "Otra manera de importar módulos es usando **from**."
      ]
    },
    {
      "cell_type": "code",
      "execution_count": null,
      "metadata": {
        "id": "YSlbaYNmgUO3",
        "vscode": {
          "languageId": "python"
        }
      },
      "outputs": [],
      "source": [
        "from matplotlib import pyplot"
      ]
    },
    {
      "attachments": {},
      "cell_type": "markdown",
      "metadata": {
        "id": "dVR9U9HFhx8d"
      },
      "source": [
        "#### Convenciones al importar\n",
        "\n",
        "* Con **as** se puede asignar un alias a la biblioteca, así se puede utilizar de manera más práctica.\n",
        "* Los alias usados a veces se utilizan por convención. *Ejemplo*: **plt** para **matplotlib.pyplot** o **np** para **NumPy**."
      ]
    },
    {
      "cell_type": "code",
      "execution_count": null,
      "metadata": {
        "id": "lZ_N8dKah1Nx",
        "vscode": {
          "languageId": "python"
        }
      },
      "outputs": [],
      "source": [
        "import numpy as np #Importando una biblioteca con as\n",
        "\n",
        "print(np.log(10))"
      ]
    },
    {
      "cell_type": "markdown",
      "metadata": {
        "id": "z9ozQqf8h7yr"
      },
      "source": [
        "Se pueden mezclar **from** y **as**."
      ]
    },
    {
      "cell_type": "code",
      "execution_count": null,
      "metadata": {
        "id": "82_aho2xh6DV",
        "vscode": {
          "languageId": "python"
        }
      },
      "outputs": [],
      "source": [
        "from matplotlib import pyplot as plt"
      ]
    },
    {
      "attachments": {},
      "cell_type": "markdown",
      "metadata": {
        "id": "SvQ9FkxRiF6m"
      },
      "source": [
        "Las bibliotecas en general tienen una muy buena documentación en internet. Para otras funciones estándar de Python, consultar la ayuda puede ser útil.\n",
        "\n",
        "#### Python help()\n",
        "\n",
        "Es una utilidad para obtener información sobre elementos de Python como una clase, una variable, un módulo, etc."
      ]
    },
    {
      "cell_type": "code",
      "execution_count": null,
      "metadata": {
        "id": "IbQmPi8oir5r",
        "vscode": {
          "languageId": "python"
        }
      },
      "outputs": [],
      "source": [
        "help('from')"
      ]
    },
    {
      "cell_type": "markdown",
      "metadata": {
        "id": "MmFV9SQyizfu"
      },
      "source": [
        "* Si no se da un argumento a la función help(), iniciará una sesión interactiva con instrucciones en la que se puede consultar una ayuda global.\n",
        "* Para salir de este modo se digita **quit**."
      ]
    },
    {
      "cell_type": "code",
      "execution_count": null,
      "metadata": {
        "id": "OHjscBNhit6W",
        "vscode": {
          "languageId": "python"
        }
      },
      "outputs": [],
      "source": [
        "help()"
      ]
    },
    {
      "cell_type": "markdown",
      "metadata": {
        "id": "UqtlS_CxH8Vc"
      },
      "source": [
        "Utilizar el signo de interrogación también permite acceder a la documentación de Python."
      ]
    },
    {
      "cell_type": "code",
      "execution_count": null,
      "metadata": {
        "id": "wff2S7zwIFl7",
        "vscode": {
          "languageId": "python"
        }
      },
      "outputs": [],
      "source": [
        "import math \n",
        "math.cos?"
      ]
    },
    {
      "attachments": {},
      "cell_type": "markdown",
      "metadata": {
        "id": "uvhNxTYljRfc"
      },
      "source": [
        "#### Mensajes de error\n",
        "\n",
        "Consultar la documentación es clave para solucionar errores, los cuales muchas veces están asociados a un mal uso de los objetos."
      ]
    },
    {
      "cell_type": "code",
      "execution_count": null,
      "metadata": {
        "id": "H4jY1T2AjZlk",
        "vscode": {
          "languageId": "python"
        }
      },
      "outputs": [],
      "source": [
        "import numpy as np\n",
        "\n",
        "print(np.log(0))"
      ]
    },
    {
      "cell_type": "markdown",
      "metadata": {
        "id": "PzlUggGEwwgF"
      },
      "source": [
        "* Los errores en Python, si se leen, son sencillos de interpretar la mayoría de las veces.\n",
        "* Existen varios tipos de errores.\n",
        "* Muchas veces, el tipo de error tiene que ver con la indentación.\n",
        "* El tipo de error es identificado por Python y ayuda a encontrar su origen. Los errores se separan en errores de **sintaxis** y ***runtime***."
      ]
    },
    {
      "cell_type": "code",
      "execution_count": null,
      "metadata": {
        "id": "eg7ZTSebxAoR",
        "vscode": {
          "languageId": "python"
        }
      },
      "outputs": [],
      "source": [
        "print 'Error de sintaxis: se escribe algo mal'"
      ]
    },
    {
      "cell_type": "code",
      "execution_count": null,
      "metadata": {
        "id": "nWjz0SsYxFX1",
        "vscode": {
          "languageId": "python"
        }
      },
      "outputs": [],
      "source": [
        "tupla = (0,2,8)\n",
        "tupla[0] = 7"
      ]
    },
    {
      "cell_type": "markdown",
      "metadata": {
        "id": "nmw5VrzLcpgt"
      },
      "source": [
        "* El error anterior es un error de *runtime* relacionado con el **tipo de objeto** cuando se quiere aplicar una operación indebida para el mismo, por ello se denomina ***TypeError***.\n",
        "* Las tuplas no son modificables, por lo que Python señala un error y además **dónde se encuentra**."
      ]
    },
    {
      "attachments": {},
      "cell_type": "markdown",
      "metadata": {
        "id": "fU2lNOJ6csZ_"
      },
      "source": [
        "\n",
        "#### <font>**¿Cuál de los errores surgirá primero?**</font>\n",
        "\n",
        "```\n",
        "tupla[0]=6\n",
        "print 'Las tuplas no son modificables'\n",
        "```\n",
        "\n"
      ]
    },
    {
      "cell_type": "markdown",
      "metadata": {
        "id": "CkWuKZ37xLxN"
      },
      "source": [
        "\n",
        "### Stack Overflow y la cultura de buscar soluciones en internet\n",
        "\n",
        "* Algunos errores no son tan fáciles de interpretar. Python es un lenguaje muy popular, tiene gran cantidad de documentación. Lo recomendable es que al obtener un error, si no se comprende, **se busque en la web**.\n",
        "* **Stack Overflow** es un sitio web donde los programadores hacen consultas y/o las responden, referentes a distintos lenguajes.\n",
        "* Si no se sabe cómo resolver un problema o quitar un error, es muy probable que en Stack Overflow ya alguien lo haya hecho.\n",
        "* Lo más recomendable es hacer las búsquedas en **inglés** para tener mejores resultados."
      ]
    }
  ],
  "metadata": {
    "colab": {
      "collapsed_sections": [],
      "provenance": []
    },
    "kernelspec": {
      "display_name": "Python 3",
      "name": "python3"
    }
  },
  "nbformat": 4,
  "nbformat_minor": 0
}
